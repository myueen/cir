{
 "cells": [
  {
   "cell_type": "code",
   "execution_count": 1,
   "id": "70d0e0b3-2d4b-4fe7-adbe-35a649bb8a8b",
   "metadata": {},
   "outputs": [],
   "source": [
    "%load_ext autoreload\n",
    "%autoreload 2"
   ]
  },
  {
   "cell_type": "code",
   "execution_count": 2,
   "id": "63216f9c-b826-497a-9957-c550a857f8cb",
   "metadata": {},
   "outputs": [],
   "source": [
    "import os,sys\n",
    "import scanpy as sc \n",
    "import pandas as pd\n",
    "import numpy as np\n",
    "# import milopy\n",
    "import scipy\n",
    "import anndata"
   ]
  },
  {
   "cell_type": "code",
   "execution_count": 3,
   "id": "ebf3e4e4-ac7a-48a9-a9b4-d94e440c50f9",
   "metadata": {},
   "outputs": [],
   "source": [
    "# check X stores raw counts \n",
    "def _check_counts_in_X(adata):\n",
    "    return(all(np.random.choice(adata.X.data, 100) % 1 == 0))\n",
    "\n",
    "def _clean_adata(a):\n",
    "    ## Make obs_names unique\n",
    "    a.obs_names = a.obs['dataset_id'].astype('str') + '-' + a.obs_names.astype(\"str\")\n",
    "    assert _check_counts_in_X(a)\n",
    "\n",
    "    sc.pp.calculate_qc_metrics(a, inplace=True)\n",
    "    sc.pp.filter_cells(a, min_counts=1000)\n",
    "    return(a)"
   ]
  },
  {
   "cell_type": "markdown",
   "id": "7ca17dee-69ff-43b6-891d-f99f7a52698e",
   "metadata": {},
   "source": [
    "### Prep COVID dataset"
   ]
  },
  {
   "cell_type": "code",
   "execution_count": 5,
   "id": "b7a86535-e706-4a15-a4c7-a6df0d95019f",
   "metadata": {},
   "outputs": [],
   "source": [
    "h5ad_files_covid = 'PBMC_COVID.subsample500cells.covid.h5ad'\n",
    "\n",
    "adata_covid = sc.read_h5ad(h5ad_files_covid)\n",
    "cleaned_covid = _clean_adata(adata_covid)"
   ]
  },
  {
   "cell_type": "markdown",
   "id": "531cc7ba-1c1e-4016-8234-995aea4e7538",
   "metadata": {},
   "source": [
    "### Prep Control Dataset"
   ]
  },
  {
   "cell_type": "code",
   "execution_count": 6,
   "id": "074b0df9-4122-4de1-a8a0-5bb19e4a7eb1",
   "metadata": {},
   "outputs": [],
   "source": [
    "h5ad_files_ctrl = 'PBMC_COVID.subsample500cells.ctrl.h5ad'\n",
    "\n",
    "adata_ctrl = sc.read_h5ad(h5ad_files_ctrl)\n",
    "cleaned_ctrl = _clean_adata(adata_ctrl)"
   ]
  },
  {
   "cell_type": "markdown",
   "id": "1c9be248-ffc1-4e66-815a-5c897b39ebf8",
   "metadata": {},
   "source": [
    "## Get Foreground (COVID dataset)"
   ]
  },
  {
   "cell_type": "markdown",
   "id": "5f7c00a2-6de3-4691-807e-21ef0602b980",
   "metadata": {},
   "source": [
    "### Expression_matrix_covid and annotations_covid"
   ]
  },
  {
   "cell_type": "markdown",
   "id": "5058265a-e6fe-439a-9d04-c9d07cc8c396",
   "metadata": {},
   "source": [
    "rows represent individual cells\n",
    "columns represent genes "
   ]
  },
  {
   "cell_type": "code",
   "execution_count": 7,
   "id": "7ca5dbaa-8c54-48d4-ac28-6c551f832e08",
   "metadata": {},
   "outputs": [],
   "source": [
    "expression_matrix_covid = cleaned_covid.X\n",
    "annotations_covid = cleaned_covid.obs   # for observations (e.g., cells)\n",
    "var_annotations_covid = cleaned_covid.var   # for variables (e.g., genes)"
   ]
  },
  {
   "cell_type": "code",
   "execution_count": 8,
   "id": "dacffb05-6017-44c0-a33b-7a9c00246c4b",
   "metadata": {},
   "outputs": [],
   "source": [
    "# Access other metadata\n",
    "metadata_covid = cleaned_covid.uns "
   ]
  },
  {
   "cell_type": "code",
   "execution_count": 9,
   "id": "921dfdc1-fd14-44c3-a953-f840ca0aa364",
   "metadata": {},
   "outputs": [
    {
     "name": "stdout",
     "output_type": "stream",
     "text": [
      "  (0, 75)\t1.0\n",
      "  (0, 97)\t1.0\n",
      "  (0, 110)\t1.0\n",
      "  (0, 161)\t1.0\n",
      "  (0, 205)\t1.0\n",
      "  (0, 214)\t1.0\n",
      "  (0, 247)\t1.0\n",
      "  (0, 314)\t1.0\n",
      "  (0, 325)\t1.0\n",
      "  (0, 339)\t2.0\n",
      "  (0, 366)\t1.0\n",
      "  (0, 389)\t1.0\n",
      "  (0, 393)\t2.0\n",
      "  (0, 416)\t1.0\n",
      "  (0, 438)\t1.0\n",
      "  (0, 455)\t1.0\n",
      "  (0, 458)\t1.0\n",
      "  (0, 504)\t1.0\n",
      "  (0, 542)\t1.0\n",
      "  (0, 586)\t1.0\n",
      "  (0, 614)\t1.0\n",
      "  (0, 697)\t1.0\n",
      "  (0, 700)\t2.0\n",
      "  (0, 718)\t1.0\n",
      "  (0, 774)\t1.0\n",
      "  :\t:\n",
      "  (48082, 24522)\t1.0\n",
      "  (48082, 24524)\t1.0\n",
      "  (48082, 24545)\t3.0\n",
      "  (48082, 24558)\t1.0\n",
      "  (48082, 24580)\t1.0\n",
      "  (48082, 24587)\t1.0\n",
      "  (48082, 24588)\t4.0\n",
      "  (48082, 24614)\t1.0\n",
      "  (48082, 24629)\t1.0\n",
      "  (48082, 24662)\t2.0\n",
      "  (48082, 24663)\t8.0\n",
      "  (48082, 24691)\t1.0\n",
      "  (48082, 24699)\t1.0\n",
      "  (48082, 24700)\t9.0\n",
      "  (48082, 24701)\t3.0\n",
      "  (48082, 24702)\t24.0\n",
      "  (48082, 24703)\t13.0\n",
      "  (48082, 24704)\t2.0\n",
      "  (48082, 24705)\t4.0\n",
      "  (48082, 24706)\t10.0\n",
      "  (48082, 24707)\t2.0\n",
      "  (48082, 24708)\t3.0\n",
      "  (48082, 24709)\t1.0\n",
      "  (48082, 24710)\t2.0\n",
      "  (48082, 24712)\t1.0\n"
     ]
    }
   ],
   "source": [
    "print(expression_matrix_covid)"
   ]
  },
  {
   "cell_type": "code",
   "execution_count": 10,
   "id": "9632fc90-edbe-48ce-b1f2-8359936b9740",
   "metadata": {},
   "outputs": [
    {
     "name": "stdout",
     "output_type": "stream",
     "text": [
      "[[0. 0. 0. ... 0. 0. 0.]\n",
      " [0. 0. 0. ... 0. 0. 0.]\n",
      " [0. 0. 0. ... 0. 0. 0.]\n",
      " ...\n",
      " [0. 0. 0. ... 0. 0. 0.]\n",
      " [0. 0. 0. ... 0. 0. 0.]\n",
      " [0. 0. 0. ... 0. 0. 0.]]\n"
     ]
    }
   ],
   "source": [
    "expression_matrix_covid_dense = expression_matrix_covid.todense()\n",
    "print(expression_matrix_covid_dense)"
   ]
  },
  {
   "cell_type": "code",
   "execution_count": 11,
   "id": "4f57d0d8-31d3-4b57-a673-2d92449c895e",
   "metadata": {},
   "outputs": [],
   "source": [
    "expression_matrix_covid_array = expression_matrix_covid.toarray()\n",
    "expression_matrix_covid_df = pd.DataFrame(expression_matrix_covid_array)\n",
    "# expression_matrix_covid_array.to_csv(\"expression_matrix_covid_array.csv\")"
   ]
  },
  {
   "cell_type": "code",
   "execution_count": 12,
   "id": "1d6e7c4e-0abf-4217-af8f-2b28440ee45c",
   "metadata": {},
   "outputs": [
    {
     "name": "stdout",
     "output_type": "stream",
     "text": [
      "                                                     sex tissue ethnicity  \\\n",
      "10_1038_s41591_021_01329_2-10_1038_s41591_021_0...  male  blood   unknown   \n",
      "10_1038_s41591_021_01329_2-10_1038_s41591_021_0...  male  blood   unknown   \n",
      "10_1038_s41591_021_01329_2-10_1038_s41591_021_0...  male  blood   unknown   \n",
      "10_1038_s41591_021_01329_2-10_1038_s41591_021_0...  male  blood   unknown   \n",
      "10_1038_s41591_021_01329_2-10_1038_s41591_021_0...  male  blood   unknown   \n",
      "...                                                  ...    ...       ...   \n",
      "10_1038_s41591_021_01329_2-10_1038_s41591_021_0...  male  blood   unknown   \n",
      "10_1038_s41591_021_01329_2-10_1038_s41591_021_0...  male  blood   unknown   \n",
      "10_1038_s41591_021_01329_2-10_1038_s41591_021_0...  male  blood   unknown   \n",
      "10_1038_s41591_021_01329_2-10_1038_s41591_021_0...  male  blood   unknown   \n",
      "10_1038_s41591_021_01329_2-10_1038_s41591_021_0...  male  blood   unknown   \n",
      "\n",
      "                                                     disease  \\\n",
      "10_1038_s41591_021_01329_2-10_1038_s41591_021_0...  COVID-19   \n",
      "10_1038_s41591_021_01329_2-10_1038_s41591_021_0...  COVID-19   \n",
      "10_1038_s41591_021_01329_2-10_1038_s41591_021_0...  COVID-19   \n",
      "10_1038_s41591_021_01329_2-10_1038_s41591_021_0...  COVID-19   \n",
      "10_1038_s41591_021_01329_2-10_1038_s41591_021_0...  COVID-19   \n",
      "...                                                      ...   \n",
      "10_1038_s41591_021_01329_2-10_1038_s41591_021_0...  COVID-19   \n",
      "10_1038_s41591_021_01329_2-10_1038_s41591_021_0...  COVID-19   \n",
      "10_1038_s41591_021_01329_2-10_1038_s41591_021_0...  COVID-19   \n",
      "10_1038_s41591_021_01329_2-10_1038_s41591_021_0...  COVID-19   \n",
      "10_1038_s41591_021_01329_2-10_1038_s41591_021_0...  COVID-19   \n",
      "\n",
      "                                                                             assay  \\\n",
      "10_1038_s41591_021_01329_2-10_1038_s41591_021_0...  10x 3' transcription profiling   \n",
      "10_1038_s41591_021_01329_2-10_1038_s41591_021_0...  10x 3' transcription profiling   \n",
      "10_1038_s41591_021_01329_2-10_1038_s41591_021_0...  10x 3' transcription profiling   \n",
      "10_1038_s41591_021_01329_2-10_1038_s41591_021_0...  10x 3' transcription profiling   \n",
      "10_1038_s41591_021_01329_2-10_1038_s41591_021_0...  10x 3' transcription profiling   \n",
      "...                                                                            ...   \n",
      "10_1038_s41591_021_01329_2-10_1038_s41591_021_0...  10x 3' transcription profiling   \n",
      "10_1038_s41591_021_01329_2-10_1038_s41591_021_0...  10x 3' transcription profiling   \n",
      "10_1038_s41591_021_01329_2-10_1038_s41591_021_0...  10x 3' transcription profiling   \n",
      "10_1038_s41591_021_01329_2-10_1038_s41591_021_0...  10x 3' transcription profiling   \n",
      "10_1038_s41591_021_01329_2-10_1038_s41591_021_0...  10x 3' transcription profiling   \n",
      "\n",
      "                                                   assay_ontology_term_id  \\\n",
      "10_1038_s41591_021_01329_2-10_1038_s41591_021_0...            EFO:0030003   \n",
      "10_1038_s41591_021_01329_2-10_1038_s41591_021_0...            EFO:0030003   \n",
      "10_1038_s41591_021_01329_2-10_1038_s41591_021_0...            EFO:0030003   \n",
      "10_1038_s41591_021_01329_2-10_1038_s41591_021_0...            EFO:0030003   \n",
      "10_1038_s41591_021_01329_2-10_1038_s41591_021_0...            EFO:0030003   \n",
      "...                                                                   ...   \n",
      "10_1038_s41591_021_01329_2-10_1038_s41591_021_0...            EFO:0030003   \n",
      "10_1038_s41591_021_01329_2-10_1038_s41591_021_0...            EFO:0030003   \n",
      "10_1038_s41591_021_01329_2-10_1038_s41591_021_0...            EFO:0030003   \n",
      "10_1038_s41591_021_01329_2-10_1038_s41591_021_0...            EFO:0030003   \n",
      "10_1038_s41591_021_01329_2-10_1038_s41591_021_0...            EFO:0030003   \n",
      "\n",
      "                                                      sample_id     donor_id  \\\n",
      "10_1038_s41591_021_01329_2-10_1038_s41591_021_0...          AP1          AP1   \n",
      "10_1038_s41591_021_01329_2-10_1038_s41591_021_0...          AP1          AP1   \n",
      "10_1038_s41591_021_01329_2-10_1038_s41591_021_0...          AP1          AP1   \n",
      "10_1038_s41591_021_01329_2-10_1038_s41591_021_0...          AP1          AP1   \n",
      "10_1038_s41591_021_01329_2-10_1038_s41591_021_0...          AP1          AP1   \n",
      "...                                                         ...          ...   \n",
      "10_1038_s41591_021_01329_2-10_1038_s41591_021_0...  newcastle59  newcastle59   \n",
      "10_1038_s41591_021_01329_2-10_1038_s41591_021_0...  newcastle59  newcastle59   \n",
      "10_1038_s41591_021_01329_2-10_1038_s41591_021_0...  newcastle59  newcastle59   \n",
      "10_1038_s41591_021_01329_2-10_1038_s41591_021_0...  newcastle59  newcastle59   \n",
      "10_1038_s41591_021_01329_2-10_1038_s41591_021_0...  newcastle59  newcastle59   \n",
      "\n",
      "                                                                    dataset_id  \\\n",
      "10_1038_s41591_021_01329_2-10_1038_s41591_021_0...  10_1038_s41591_021_01329_2   \n",
      "10_1038_s41591_021_01329_2-10_1038_s41591_021_0...  10_1038_s41591_021_01329_2   \n",
      "10_1038_s41591_021_01329_2-10_1038_s41591_021_0...  10_1038_s41591_021_01329_2   \n",
      "10_1038_s41591_021_01329_2-10_1038_s41591_021_0...  10_1038_s41591_021_01329_2   \n",
      "10_1038_s41591_021_01329_2-10_1038_s41591_021_0...  10_1038_s41591_021_01329_2   \n",
      "...                                                                        ...   \n",
      "10_1038_s41591_021_01329_2-10_1038_s41591_021_0...  10_1038_s41591_021_01329_2   \n",
      "10_1038_s41591_021_01329_2-10_1038_s41591_021_0...  10_1038_s41591_021_01329_2   \n",
      "10_1038_s41591_021_01329_2-10_1038_s41591_021_0...  10_1038_s41591_021_01329_2   \n",
      "10_1038_s41591_021_01329_2-10_1038_s41591_021_0...  10_1038_s41591_021_01329_2   \n",
      "10_1038_s41591_021_01329_2-10_1038_s41591_021_0...  10_1038_s41591_021_01329_2   \n",
      "\n",
      "                                                           development_stage  \\\n",
      "10_1038_s41591_021_01329_2-10_1038_s41591_021_0...  sixth decade human stage   \n",
      "10_1038_s41591_021_01329_2-10_1038_s41591_021_0...  sixth decade human stage   \n",
      "10_1038_s41591_021_01329_2-10_1038_s41591_021_0...  sixth decade human stage   \n",
      "10_1038_s41591_021_01329_2-10_1038_s41591_021_0...  sixth decade human stage   \n",
      "10_1038_s41591_021_01329_2-10_1038_s41591_021_0...  sixth decade human stage   \n",
      "...                                                                      ...   \n",
      "10_1038_s41591_021_01329_2-10_1038_s41591_021_0...  ninth decade human stage   \n",
      "10_1038_s41591_021_01329_2-10_1038_s41591_021_0...  ninth decade human stage   \n",
      "10_1038_s41591_021_01329_2-10_1038_s41591_021_0...  ninth decade human stage   \n",
      "10_1038_s41591_021_01329_2-10_1038_s41591_021_0...  ninth decade human stage   \n",
      "10_1038_s41591_021_01329_2-10_1038_s41591_021_0...  ninth decade human stage   \n",
      "\n",
      "                                                                                            cell_type  \\\n",
      "10_1038_s41591_021_01329_2-10_1038_s41591_021_0...                           T follicular helper cell   \n",
      "10_1038_s41591_021_01329_2-10_1038_s41591_021_0...     central memory CD4-positive, alpha-beta T cell   \n",
      "10_1038_s41591_021_01329_2-10_1038_s41591_021_0...  CD16-positive, CD56-dim natural killer cell, h...   \n",
      "10_1038_s41591_021_01329_2-10_1038_s41591_021_0...  naive thymus-derived CD8-positive, alpha-beta ...   \n",
      "10_1038_s41591_021_01329_2-10_1038_s41591_021_0...  CD16-positive, CD56-dim natural killer cell, h...   \n",
      "...                                                                                               ...   \n",
      "10_1038_s41591_021_01329_2-10_1038_s41591_021_0...                             CD14-positive monocyte   \n",
      "10_1038_s41591_021_01329_2-10_1038_s41591_021_0...                                   mature NK T cell   \n",
      "10_1038_s41591_021_01329_2-10_1038_s41591_021_0...  CD16-positive, CD56-dim natural killer cell, h...   \n",
      "10_1038_s41591_021_01329_2-10_1038_s41591_021_0...                              dendritic cell, human   \n",
      "10_1038_s41591_021_01329_2-10_1038_s41591_021_0...                             CD14-positive monocyte   \n",
      "\n",
      "                                                    n_genes_by_counts  \\\n",
      "10_1038_s41591_021_01329_2-10_1038_s41591_021_0...                829   \n",
      "10_1038_s41591_021_01329_2-10_1038_s41591_021_0...               1005   \n",
      "10_1038_s41591_021_01329_2-10_1038_s41591_021_0...               1156   \n",
      "10_1038_s41591_021_01329_2-10_1038_s41591_021_0...               1672   \n",
      "10_1038_s41591_021_01329_2-10_1038_s41591_021_0...               1453   \n",
      "...                                                               ...   \n",
      "10_1038_s41591_021_01329_2-10_1038_s41591_021_0...               1809   \n",
      "10_1038_s41591_021_01329_2-10_1038_s41591_021_0...               1263   \n",
      "10_1038_s41591_021_01329_2-10_1038_s41591_021_0...               1390   \n",
      "10_1038_s41591_021_01329_2-10_1038_s41591_021_0...               3277   \n",
      "10_1038_s41591_021_01329_2-10_1038_s41591_021_0...               1759   \n",
      "\n",
      "                                                    log1p_n_genes_by_counts  \\\n",
      "10_1038_s41591_021_01329_2-10_1038_s41591_021_0...                 6.721426   \n",
      "10_1038_s41591_021_01329_2-10_1038_s41591_021_0...                 6.913737   \n",
      "10_1038_s41591_021_01329_2-10_1038_s41591_021_0...                 7.053586   \n",
      "10_1038_s41591_021_01329_2-10_1038_s41591_021_0...                 7.422374   \n",
      "10_1038_s41591_021_01329_2-10_1038_s41591_021_0...                 7.282074   \n",
      "...                                                                     ...   \n",
      "10_1038_s41591_021_01329_2-10_1038_s41591_021_0...                 7.501082   \n",
      "10_1038_s41591_021_01329_2-10_1038_s41591_021_0...                 7.142037   \n",
      "10_1038_s41591_021_01329_2-10_1038_s41591_021_0...                 7.237778   \n",
      "10_1038_s41591_021_01329_2-10_1038_s41591_021_0...                 8.094989   \n",
      "10_1038_s41591_021_01329_2-10_1038_s41591_021_0...                 7.473069   \n",
      "\n",
      "                                                    total_counts  \\\n",
      "10_1038_s41591_021_01329_2-10_1038_s41591_021_0...        1124.0   \n",
      "10_1038_s41591_021_01329_2-10_1038_s41591_021_0...        2183.0   \n",
      "10_1038_s41591_021_01329_2-10_1038_s41591_021_0...        2134.0   \n",
      "10_1038_s41591_021_01329_2-10_1038_s41591_021_0...        4280.0   \n",
      "10_1038_s41591_021_01329_2-10_1038_s41591_021_0...        2908.0   \n",
      "...                                                          ...   \n",
      "10_1038_s41591_021_01329_2-10_1038_s41591_021_0...        6313.0   \n",
      "10_1038_s41591_021_01329_2-10_1038_s41591_021_0...        3043.0   \n",
      "10_1038_s41591_021_01329_2-10_1038_s41591_021_0...        3197.0   \n",
      "10_1038_s41591_021_01329_2-10_1038_s41591_021_0...       11838.0   \n",
      "10_1038_s41591_021_01329_2-10_1038_s41591_021_0...        5444.0   \n",
      "\n",
      "                                                    log1p_total_counts  \\\n",
      "10_1038_s41591_021_01329_2-10_1038_s41591_021_0...            7.025538   \n",
      "10_1038_s41591_021_01329_2-10_1038_s41591_021_0...            7.688913   \n",
      "10_1038_s41591_021_01329_2-10_1038_s41591_021_0...            7.666222   \n",
      "10_1038_s41591_021_01329_2-10_1038_s41591_021_0...            8.361942   \n",
      "10_1038_s41591_021_01329_2-10_1038_s41591_021_0...            7.975564   \n",
      "...                                                                ...   \n",
      "10_1038_s41591_021_01329_2-10_1038_s41591_021_0...            8.750525   \n",
      "10_1038_s41591_021_01329_2-10_1038_s41591_021_0...            8.020927   \n",
      "10_1038_s41591_021_01329_2-10_1038_s41591_021_0...            8.070281   \n",
      "10_1038_s41591_021_01329_2-10_1038_s41591_021_0...            9.379154   \n",
      "10_1038_s41591_021_01329_2-10_1038_s41591_021_0...            8.602453   \n",
      "\n",
      "                                                    pct_counts_in_top_50_genes  \\\n",
      "10_1038_s41591_021_01329_2-10_1038_s41591_021_0...                   22.597865   \n",
      "10_1038_s41591_021_01329_2-10_1038_s41591_021_0...                   39.899221   \n",
      "10_1038_s41591_021_01329_2-10_1038_s41591_021_0...                   29.006560   \n",
      "10_1038_s41591_021_01329_2-10_1038_s41591_021_0...                   38.668224   \n",
      "10_1038_s41591_021_01329_2-10_1038_s41591_021_0...                   29.057772   \n",
      "...                                                                        ...   \n",
      "10_1038_s41591_021_01329_2-10_1038_s41591_021_0...                   37.699984   \n",
      "10_1038_s41591_021_01329_2-10_1038_s41591_021_0...                   36.674335   \n",
      "10_1038_s41591_021_01329_2-10_1038_s41591_021_0...                   35.126681   \n",
      "10_1038_s41591_021_01329_2-10_1038_s41591_021_0...                   28.611252   \n",
      "10_1038_s41591_021_01329_2-10_1038_s41591_021_0...                   38.005143   \n",
      "\n",
      "                                                    pct_counts_in_top_100_genes  \\\n",
      "10_1038_s41591_021_01329_2-10_1038_s41591_021_0...                    31.494662   \n",
      "10_1038_s41591_021_01329_2-10_1038_s41591_021_0...                    51.259734   \n",
      "10_1038_s41591_021_01329_2-10_1038_s41591_021_0...                    40.346767   \n",
      "10_1038_s41591_021_01329_2-10_1038_s41591_021_0...                    49.929907   \n",
      "10_1038_s41591_021_01329_2-10_1038_s41591_021_0...                    38.651994   \n",
      "...                                                                         ...   \n",
      "10_1038_s41591_021_01329_2-10_1038_s41591_021_0...                    49.738635   \n",
      "10_1038_s41591_021_01329_2-10_1038_s41591_021_0...                    46.763063   \n",
      "10_1038_s41591_021_01329_2-10_1038_s41591_021_0...                    45.010948   \n",
      "10_1038_s41591_021_01329_2-10_1038_s41591_021_0...                    40.065890   \n",
      "10_1038_s41591_021_01329_2-10_1038_s41591_021_0...                    48.732550   \n",
      "\n",
      "                                                    pct_counts_in_top_200_genes  \\\n",
      "10_1038_s41591_021_01329_2-10_1038_s41591_021_0...                    44.039146   \n",
      "10_1038_s41591_021_01329_2-10_1038_s41591_021_0...                    61.429226   \n",
      "10_1038_s41591_021_01329_2-10_1038_s41591_021_0...                    51.686973   \n",
      "10_1038_s41591_021_01329_2-10_1038_s41591_021_0...                    58.785047   \n",
      "10_1038_s41591_021_01329_2-10_1038_s41591_021_0...                    50.137552   \n",
      "...                                                                         ...   \n",
      "10_1038_s41591_021_01329_2-10_1038_s41591_021_0...                    61.729764   \n",
      "10_1038_s41591_021_01329_2-10_1038_s41591_021_0...                    57.574762   \n",
      "10_1038_s41591_021_01329_2-10_1038_s41591_021_0...                    56.146387   \n",
      "10_1038_s41591_021_01329_2-10_1038_s41591_021_0...                    51.309343   \n",
      "10_1038_s41591_021_01329_2-10_1038_s41591_021_0...                    60.268185   \n",
      "\n",
      "                                                    pct_counts_in_top_500_genes  \\\n",
      "10_1038_s41591_021_01329_2-10_1038_s41591_021_0...                    70.729537   \n",
      "10_1038_s41591_021_01329_2-10_1038_s41591_021_0...                    76.866697   \n",
      "10_1038_s41591_021_01329_2-10_1038_s41591_021_0...                    69.259606   \n",
      "10_1038_s41591_021_01329_2-10_1038_s41591_021_0...                    72.616822   \n",
      "10_1038_s41591_021_01329_2-10_1038_s41591_021_0...                    67.228336   \n",
      "...                                                                         ...   \n",
      "10_1038_s41591_021_01329_2-10_1038_s41591_021_0...                    76.302867   \n",
      "10_1038_s41591_021_01329_2-10_1038_s41591_021_0...                    74.926060   \n",
      "10_1038_s41591_021_01329_2-10_1038_s41591_021_0...                    72.161401   \n",
      "10_1038_s41591_021_01329_2-10_1038_s41591_021_0...                    65.289745   \n",
      "10_1038_s41591_021_01329_2-10_1038_s41591_021_0...                    74.797943   \n",
      "\n",
      "                                                    n_counts  \n",
      "10_1038_s41591_021_01329_2-10_1038_s41591_021_0...    1124.0  \n",
      "10_1038_s41591_021_01329_2-10_1038_s41591_021_0...    2183.0  \n",
      "10_1038_s41591_021_01329_2-10_1038_s41591_021_0...    2134.0  \n",
      "10_1038_s41591_021_01329_2-10_1038_s41591_021_0...    4280.0  \n",
      "10_1038_s41591_021_01329_2-10_1038_s41591_021_0...    2908.0  \n",
      "...                                                      ...  \n",
      "10_1038_s41591_021_01329_2-10_1038_s41591_021_0...    6313.0  \n",
      "10_1038_s41591_021_01329_2-10_1038_s41591_021_0...    3043.0  \n",
      "10_1038_s41591_021_01329_2-10_1038_s41591_021_0...    3197.0  \n",
      "10_1038_s41591_021_01329_2-10_1038_s41591_021_0...   11838.0  \n",
      "10_1038_s41591_021_01329_2-10_1038_s41591_021_0...    5444.0  \n",
      "\n",
      "[48083 rows x 20 columns]\n"
     ]
    }
   ],
   "source": [
    "print(annotations_covid)"
   ]
  },
  {
   "cell_type": "code",
   "execution_count": 13,
   "id": "152439d5-7e12-4447-8950-dec80d0be99b",
   "metadata": {},
   "outputs": [],
   "source": [
    "cell_type = annotations_covid['cell_type']"
   ]
  },
  {
   "cell_type": "code",
   "execution_count": 14,
   "id": "7d4d5b1f-7315-414b-b1a4-29bf15c0bb03",
   "metadata": {},
   "outputs": [
    {
     "name": "stdout",
     "output_type": "stream",
     "text": [
      "{'CD4-positive, alpha-beta T cell', 'CD34-positive, CD38-negative hematopoietic stem cell', 'B cell', 'naive thymus-derived CD4-positive, alpha-beta T cell', 'gamma-delta T cell', 'dendritic cell', 'monocyte', 'CD14-positive monocyte', 'platelet', 'effector memory CD4-positive, alpha-beta T cell', 'hematopoietic precursor cell', 'IgA plasma cell', 'group 2 innate lymphoid cell, human', 'CD8-positive, alpha-beta T cell', 'myeloid lineage restricted progenitor cell', 'IgG plasma cell', 'ILC1, human', 'IgM plasma cell', 'T follicular helper cell', 'CD14-low, CD16-positive monocyte', 'class switched memory B cell', 'unswitched memory B cell', 'CD16-positive, CD56-dim natural killer cell, human', 'immature B cell', 'central memory CD4-positive, alpha-beta T cell', 'erythrocyte', 'plasmacytoid dendritic cell', 'dendritic cell, human', 'malignant cell', 'natural killer cell', 'CD16-negative, CD56-bright natural killer cell, human', 'T-helper 1 cell', 'naive thymus-derived CD8-positive, alpha-beta T cell', 'naive B cell', 'myeloid dendritic cell', 'erythroid progenitor cell, mammalian', 'T-helper 17 cell', 'effector memory CD8-positive, alpha-beta T cell', 'megakaryocyte', 'effector CD8-positive, alpha-beta T cell', 'regulatory T cell', 'T-helper 2 cell', 'mucosal invariant T cell', 'T-helper 22 cell', 'plasmablast', 'mature NK T cell'}\n"
     ]
    }
   ],
   "source": [
    "cell_type_unique = set(cell_type)\n",
    "print(cell_type_unique)"
   ]
  },
  {
   "cell_type": "code",
   "execution_count": 15,
   "id": "246d07cc-6ac8-4412-bcdf-8ca64b0f0b9c",
   "metadata": {},
   "outputs": [
    {
     "data": {
      "text/plain": [
       "46"
      ]
     },
     "execution_count": 15,
     "metadata": {},
     "output_type": "execute_result"
    }
   ],
   "source": [
    "len(cell_type_unique)"
   ]
  },
  {
   "cell_type": "code",
   "execution_count": 16,
   "id": "6dc35174-4267-4897-887b-271aa156017c",
   "metadata": {},
   "outputs": [
    {
     "name": "stdout",
     "output_type": "stream",
     "text": [
      "cell_type\n",
      "CD14-positive monocyte                                   6803\n",
      "CD16-positive, CD56-dim natural killer cell, human       6449\n",
      "central memory CD4-positive, alpha-beta T cell           5382\n",
      "naive thymus-derived CD4-positive, alpha-beta T cell     4346\n",
      "naive B cell                                             4043\n",
      "effector CD8-positive, alpha-beta T cell                 3356\n",
      "naive thymus-derived CD8-positive, alpha-beta T cell     2505\n",
      "T follicular helper cell                                 1836\n",
      "T-helper 22 cell                                         1456\n",
      "effector memory CD8-positive, alpha-beta T cell          1212\n",
      "platelet                                                 1194\n",
      "mature NK T cell                                         1130\n",
      "gamma-delta T cell                                       1024\n",
      "CD16-negative, CD56-bright natural killer cell, human     756\n",
      "mucosal invariant T cell                                  755\n",
      "class switched memory B cell                              615\n",
      "malignant cell                                            492\n",
      "immature B cell                                           479\n",
      "erythrocyte                                               467\n",
      "IgG plasma cell                                           342\n",
      "natural killer cell                                       326\n",
      "plasmablast                                               317\n",
      "plasmacytoid dendritic cell                               314\n",
      "unswitched memory B cell                                  285\n",
      "effector memory CD4-positive, alpha-beta T cell           281\n",
      "B cell                                                    276\n",
      "IgA plasma cell                                           264\n",
      "dendritic cell, human                                     253\n",
      "CD14-low, CD16-positive monocyte                          232\n",
      "myeloid dendritic cell                                    172\n",
      "CD34-positive, CD38-negative hematopoietic stem cell      165\n",
      "CD8-positive, alpha-beta T cell                            98\n",
      "IgM plasma cell                                            92\n",
      "ILC1, human                                                63\n",
      "T-helper 1 cell                                            62\n",
      "erythroid progenitor cell, mammalian                       55\n",
      "CD4-positive, alpha-beta T cell                            52\n",
      "regulatory T cell                                          46\n",
      "dendritic cell                                             34\n",
      "monocyte                                                   28\n",
      "hematopoietic precursor cell                               10\n",
      "group 2 innate lymphoid cell, human                         7\n",
      "megakaryocyte                                               4\n",
      "T-helper 2 cell                                             3\n",
      "T-helper 17 cell                                            1\n",
      "myeloid lineage restricted progenitor cell                  1\n",
      "Name: count, dtype: int64\n"
     ]
    }
   ],
   "source": [
    "cell_type_total = cell_type.value_counts() \n",
    "print(cell_type_total)"
   ]
  },
  {
   "cell_type": "code",
   "execution_count": 17,
   "id": "49b39fc2-3d96-4819-a612-ac47a6d4eed6",
   "metadata": {},
   "outputs": [
    {
     "name": "stdout",
     "output_type": "stream",
     "text": [
      "cell_type\n",
      "CD14-positive monocyte                                   6803\n",
      "CD16-positive, CD56-dim natural killer cell, human       6449\n",
      "central memory CD4-positive, alpha-beta T cell           5382\n",
      "naive thymus-derived CD4-positive, alpha-beta T cell     4346\n",
      "naive B cell                                             4043\n",
      "effector CD8-positive, alpha-beta T cell                 3356\n",
      "naive thymus-derived CD8-positive, alpha-beta T cell     2505\n",
      "T follicular helper cell                                 1836\n",
      "T-helper 22 cell                                         1456\n",
      "effector memory CD8-positive, alpha-beta T cell          1212\n",
      "platelet                                                 1194\n",
      "mature NK T cell                                         1130\n",
      "gamma-delta T cell                                       1024\n",
      "CD16-negative, CD56-bright natural killer cell, human     756\n",
      "mucosal invariant T cell                                  755\n",
      "class switched memory B cell                              615\n",
      "malignant cell                                            492\n",
      "immature B cell                                           479\n",
      "erythrocyte                                               467\n",
      "IgG plasma cell                                           342\n",
      "natural killer cell                                       326\n",
      "plasmablast                                               317\n",
      "plasmacytoid dendritic cell                               314\n",
      "unswitched memory B cell                                  285\n",
      "effector memory CD4-positive, alpha-beta T cell           281\n",
      "B cell                                                    276\n",
      "IgA plasma cell                                           264\n",
      "dendritic cell, human                                     253\n",
      "Name: count, dtype: int64\n"
     ]
    },
    {
     "data": {
      "text/plain": [
       "28"
      ]
     },
     "execution_count": 17,
     "metadata": {},
     "output_type": "execute_result"
    }
   ],
   "source": [
    "cell_type_total = cell_type.value_counts() \n",
    "cell_type_greater_than_250 = cell_type_total[cell_type_total > 250]\n",
    "print(cell_type_greater_than_250)\n",
    "len(cell_type_greater_than_250)"
   ]
  },
  {
   "cell_type": "markdown",
   "id": "536d1e56-2188-44c4-b044-672b8dd9fdec",
   "metadata": {},
   "source": [
    "### Get the Foreground X (COVID)"
   ]
  },
  {
   "cell_type": "code",
   "execution_count": 18,
   "id": "3b5dc606-571f-4110-acb0-1a79b8472b65",
   "metadata": {},
   "outputs": [
    {
     "data": {
      "text/plain": [
       "Index([ 6656,  6661, 11088, 11243, 13509, 14630, 18324, 21726, 22677, 24405,\n",
       "       24499, 24507, 24581, 25135, 25584, 26376, 27008, 28504, 28823, 28876,\n",
       "       30273, 34569, 34837, 35525, 36196, 36683, 42346, 42460, 44282, 44729,\n",
       "       45355, 46614, 47239, 47567],\n",
       "      dtype='int64')"
      ]
     },
     "execution_count": 18,
     "metadata": {},
     "output_type": "execute_result"
    }
   ],
   "source": [
    "annotations_covid_df = pd.DataFrame(annotations_covid)\n",
    "annotations_covid_df_copy = annotations_covid_df\n",
    "\n",
    "# Reset the index to get numeric indices\n",
    "annotations_covid_df_copy.reset_index(drop=True, inplace=True)\n",
    "\n",
    "annotations_covid_df_copy[annotations_covid_df_copy['cell_type'] == 'dendritic cell'].index"
   ]
  },
  {
   "cell_type": "code",
   "execution_count": 19,
   "id": "8bef31a4-9d28-4a25-89b1-b7081c07d62c",
   "metadata": {},
   "outputs": [
    {
     "name": "stdout",
     "output_type": "stream",
     "text": [
      "46958\n"
     ]
    }
   ],
   "source": [
    "filtered_annotations_covid = annotations_covid_df_copy[annotations_covid_df_copy['cell_type'].isin(cell_type_greater_than_250.index)]\n",
    "\n",
    "filtered_covid_indices = filtered_annotations_covid.index.to_list()\n",
    "print(len(filtered_covid_indices))"
   ]
  },
  {
   "cell_type": "code",
   "execution_count": 20,
   "id": "3f6e60ab-62f7-40af-b087-9e40d5f9478e",
   "metadata": {},
   "outputs": [
    {
     "name": "stdout",
     "output_type": "stream",
     "text": [
      "(46958, 24727)\n"
     ]
    }
   ],
   "source": [
    "filter_expression_matrix_covid_df = expression_matrix_covid_df.iloc[filtered_covid_indices]\n",
    "print(filter_expression_matrix_covid_df.shape)"
   ]
  },
  {
   "cell_type": "code",
   "execution_count": 21,
   "id": "e901e237-2265-495a-a843-13af23a0ddd2",
   "metadata": {},
   "outputs": [],
   "source": [
    "foregroundX = filter_expression_matrix_covid_df\n",
    "# foregroundX.to_csv('COVID_design_foregroundX.csv')"
   ]
  },
  {
   "cell_type": "markdown",
   "id": "72961247-c7a1-4638-a53a-a8d1b36816c8",
   "metadata": {},
   "source": [
    "### Get the foreground Y"
   ]
  },
  {
   "cell_type": "code",
   "execution_count": 22,
   "id": "6e322c3e-855f-4a40-bbec-8a45596dd4d7",
   "metadata": {},
   "outputs": [
    {
     "name": "stdout",
     "output_type": "stream",
     "text": [
      "    sex tissue ethnicity   disease                           assay  \\\n",
      "0  male  blood   unknown  COVID-19  10x 3' transcription profiling   \n",
      "1  male  blood   unknown  COVID-19  10x 3' transcription profiling   \n",
      "2  male  blood   unknown  COVID-19  10x 3' transcription profiling   \n",
      "3  male  blood   unknown  COVID-19  10x 3' transcription profiling   \n",
      "4  male  blood   unknown  COVID-19  10x 3' transcription profiling   \n",
      "\n",
      "  assay_ontology_term_id sample_id donor_id                  dataset_id  \\\n",
      "0            EFO:0030003       AP1      AP1  10_1038_s41591_021_01329_2   \n",
      "1            EFO:0030003       AP1      AP1  10_1038_s41591_021_01329_2   \n",
      "2            EFO:0030003       AP1      AP1  10_1038_s41591_021_01329_2   \n",
      "3            EFO:0030003       AP1      AP1  10_1038_s41591_021_01329_2   \n",
      "4            EFO:0030003       AP1      AP1  10_1038_s41591_021_01329_2   \n",
      "\n",
      "          development_stage  \\\n",
      "0  sixth decade human stage   \n",
      "1  sixth decade human stage   \n",
      "2  sixth decade human stage   \n",
      "3  sixth decade human stage   \n",
      "4  sixth decade human stage   \n",
      "\n",
      "                                           cell_type  n_genes_by_counts  \\\n",
      "0                           T follicular helper cell                829   \n",
      "1     central memory CD4-positive, alpha-beta T cell               1005   \n",
      "2  CD16-positive, CD56-dim natural killer cell, h...               1156   \n",
      "3  naive thymus-derived CD8-positive, alpha-beta ...               1672   \n",
      "4  CD16-positive, CD56-dim natural killer cell, h...               1453   \n",
      "\n",
      "   log1p_n_genes_by_counts  total_counts  log1p_total_counts  \\\n",
      "0                 6.721426        1124.0            7.025538   \n",
      "1                 6.913737        2183.0            7.688913   \n",
      "2                 7.053586        2134.0            7.666222   \n",
      "3                 7.422374        4280.0            8.361942   \n",
      "4                 7.282074        2908.0            7.975564   \n",
      "\n",
      "   pct_counts_in_top_50_genes  pct_counts_in_top_100_genes  \\\n",
      "0                   22.597865                    31.494662   \n",
      "1                   39.899221                    51.259734   \n",
      "2                   29.006560                    40.346767   \n",
      "3                   38.668224                    49.929907   \n",
      "4                   29.057772                    38.651994   \n",
      "\n",
      "   pct_counts_in_top_200_genes  pct_counts_in_top_500_genes  n_counts  \n",
      "0                    44.039146                    70.729537    1124.0  \n",
      "1                    61.429226                    76.866697    2183.0  \n",
      "2                    51.686973                    69.259606    2134.0  \n",
      "3                    58.785047                    72.616822    4280.0  \n",
      "4                    50.137552                    67.228336    2908.0  \n"
     ]
    }
   ],
   "source": [
    "# pd.set_option('display.max_columns', None)\n",
    "print(filtered_annotations_covid.head())"
   ]
  },
  {
   "cell_type": "code",
   "execution_count": 23,
   "id": "1d6fa6ef-7300-46f0-ad7e-dd2dd9a28f3d",
   "metadata": {},
   "outputs": [
    {
     "name": "stdout",
     "output_type": "stream",
     "text": [
      "46958\n",
      "28\n"
     ]
    }
   ],
   "source": [
    "filtered_cell_type = filtered_annotations_covid['cell_type']\n",
    "print(len(filtered_cell_type))\n",
    "unique_filtered_cell_type = set(filtered_cell_type)\n",
    "print(len(unique_filtered_cell_type))"
   ]
  },
  {
   "cell_type": "code",
   "execution_count": 26,
   "id": "9fa4f72e-c2fc-4893-965b-1b028efb7386",
   "metadata": {},
   "outputs": [
    {
     "name": "stdout",
     "output_type": "stream",
     "text": [
      "0         7\n",
      "1         9\n",
      "2         4\n",
      "3        23\n",
      "4         4\n",
      "         ..\n",
      "48078     2\n",
      "48079    19\n",
      "48080     4\n",
      "48081    11\n",
      "48082     2\n",
      "Name: cell_type_numeric, Length: 46958, dtype: int64\n"
     ]
    }
   ],
   "source": [
    "from sklearn.preprocessing import LabelEncoder\n",
    "pd.reset_option('display.max_columns')\n",
    "pd.reset_option('display.max_rows')\n",
    "\n",
    "label_encoder = LabelEncoder()\n",
    "\n",
    "filtered_annotations_covid.loc[:, 'cell_type_numeric'] = label_encoder.fit_transform(filtered_annotations_covid['cell_type']) + 1\n",
    "print(filtered_annotations_covid['cell_type_numeric'])"
   ]
  },
  {
   "cell_type": "markdown",
   "id": "71b9050f-9fd8-48bb-a45a-76e66ad5a2dc",
   "metadata": {},
   "source": [
    "#### Get encoding pairings"
   ]
  },
  {
   "cell_type": "code",
   "execution_count": 27,
   "id": "0858dfe4-9eb8-446d-be57-f32c390bca4f",
   "metadata": {},
   "outputs": [
    {
     "name": "stdout",
     "output_type": "stream",
     "text": [
      "                                            cell_type  cell_type_numeric\n",
      "0                                              B cell                  1\n",
      "1                              CD14-positive monocyte                  2\n",
      "2   CD16-negative, CD56-bright natural killer cell...                  3\n",
      "3   CD16-positive, CD56-dim natural killer cell, h...                  4\n",
      "4                                     IgA plasma cell                  5\n",
      "5                                     IgG plasma cell                  6\n",
      "6                            T follicular helper cell                  7\n",
      "7                                    T-helper 22 cell                  8\n",
      "8      central memory CD4-positive, alpha-beta T cell                  9\n",
      "9                        class switched memory B cell                 10\n",
      "10                              dendritic cell, human                 11\n",
      "11           effector CD8-positive, alpha-beta T cell                 12\n",
      "12    effector memory CD4-positive, alpha-beta T cell                 13\n",
      "13    effector memory CD8-positive, alpha-beta T cell                 14\n",
      "14                                        erythrocyte                 15\n",
      "15                                 gamma-delta T cell                 16\n",
      "16                                    immature B cell                 17\n",
      "17                                     malignant cell                 18\n",
      "18                                   mature NK T cell                 19\n",
      "19                           mucosal invariant T cell                 20\n",
      "20                                       naive B cell                 21\n",
      "21  naive thymus-derived CD4-positive, alpha-beta ...                 22\n",
      "22  naive thymus-derived CD8-positive, alpha-beta ...                 23\n",
      "23                                natural killer cell                 24\n",
      "24                                        plasmablast                 25\n",
      "25                        plasmacytoid dendritic cell                 26\n",
      "26                                           platelet                 27\n",
      "27                           unswitched memory B cell                 28\n"
     ]
    }
   ],
   "source": [
    "label_encoding_df = pd.DataFrame({\n",
    "    'cell_type': label_encoder.classes_,\n",
    "    'cell_type_numeric': range(1, len(label_encoder.classes_) + 1)\n",
    "})\n",
    "\n",
    "print(label_encoding_df)"
   ]
  },
  {
   "cell_type": "markdown",
   "id": "c8668c46-981e-4f0a-b2ef-444e577638cc",
   "metadata": {},
   "source": [
    "### Output foreground Y"
   ]
  },
  {
   "cell_type": "code",
   "execution_count": 29,
   "id": "9cea672b-f042-4e6c-ac9e-f6f46ed23670",
   "metadata": {},
   "outputs": [
    {
     "name": "stdout",
     "output_type": "stream",
     "text": [
      "<class 'pandas.core.frame.DataFrame'>\n"
     ]
    }
   ],
   "source": [
    "cell_type_Y = filtered_annotations_covid['cell_type_numeric']\n",
    "# print(cell_type_Y)\n",
    "foregroundY = cell_type_Y.to_frame()\n",
    "print(type(foregroundY))\n",
    "# foregroundY.to_csv('COVID_design_foregroundY.csv')"
   ]
  },
  {
   "cell_type": "code",
   "execution_count": 30,
   "id": "95e0cdf1-5dea-44f1-9310-1ef74ef348d5",
   "metadata": {},
   "outputs": [
    {
     "name": "stdout",
     "output_type": "stream",
     "text": [
      "                feature_biotype  n_cells_by_counts  mean_counts  \\\n",
      "feature_id                                                        \n",
      "ENSG00000243485            gene                  0     0.000000   \n",
      "ENSG00000238009            gene                 39     0.000811   \n",
      "ENSG00000239945            gene                  0     0.000000   \n",
      "ENSG00000239906            gene                  0     0.000000   \n",
      "ENSG00000229905            gene                  0     0.000000   \n",
      "...                         ...                ...          ...   \n",
      "ENSG00000277196            gene                  2     0.000042   \n",
      "ENSG00000278384            gene                123     0.002641   \n",
      "ENSG00000277856            gene                187     0.189672   \n",
      "ENSG00000275063            gene                235     0.129859   \n",
      "ENSG00000271254            gene                434     0.009234   \n",
      "\n",
      "                 log1p_mean_counts  pct_dropout_by_counts  total_counts  \\\n",
      "feature_id                                                                \n",
      "ENSG00000243485           0.000000             100.000000           0.0   \n",
      "ENSG00000238009           0.000811              99.918890          39.0   \n",
      "ENSG00000239945           0.000000             100.000000           0.0   \n",
      "ENSG00000239906           0.000000             100.000000           0.0   \n",
      "ENSG00000229905           0.000000             100.000000           0.0   \n",
      "...                            ...                    ...           ...   \n",
      "ENSG00000277196           0.000042              99.995841           2.0   \n",
      "ENSG00000278384           0.002638              99.744192         127.0   \n",
      "ENSG00000277856           0.173678              99.611089        9120.0   \n",
      "ENSG00000275063           0.122093              99.511262        6244.0   \n",
      "ENSG00000271254           0.009192              99.097394         444.0   \n",
      "\n",
      "                 log1p_total_counts  \n",
      "feature_id                           \n",
      "ENSG00000243485            0.000000  \n",
      "ENSG00000238009            3.688879  \n",
      "ENSG00000239945            0.000000  \n",
      "ENSG00000239906            0.000000  \n",
      "ENSG00000229905            0.000000  \n",
      "...                             ...  \n",
      "ENSG00000277196            1.098612  \n",
      "ENSG00000278384            4.852030  \n",
      "ENSG00000277856            9.118335  \n",
      "ENSG00000275063            8.739536  \n",
      "ENSG00000271254            6.098074  \n",
      "\n",
      "[24727 rows x 7 columns]\n"
     ]
    }
   ],
   "source": [
    "print(var_annotations_covid)"
   ]
  },
  {
   "cell_type": "markdown",
   "id": "28ae9707-d403-4b39-878b-cdd164a9c88c",
   "metadata": {},
   "source": [
    "## Get Background (Control dataset)"
   ]
  },
  {
   "cell_type": "code",
   "execution_count": 31,
   "id": "f589bb1d-81b9-4399-91f4-7bd2fce04acb",
   "metadata": {},
   "outputs": [],
   "source": [
    "expression_matrix_control = cleaned_ctrl.X\n",
    "annotations_control = cleaned_ctrl.obs   # for observations (e.g., cells)\n",
    "var_annotations_control = cleaned_ctrl.var   # for variables (e.g., genes)"
   ]
  },
  {
   "cell_type": "markdown",
   "id": "e5e639ff-7836-4e16-a650-66bdcbfe518c",
   "metadata": {},
   "source": [
    "#### Process expression_matrix_control"
   ]
  },
  {
   "cell_type": "code",
   "execution_count": 32,
   "id": "091193d5-adca-497b-9455-2a1113dd09e8",
   "metadata": {},
   "outputs": [
    {
     "name": "stdout",
     "output_type": "stream",
     "text": [
      "  (0, 26)\t1.0\n",
      "  (0, 28)\t1.0\n",
      "  (0, 42)\t1.0\n",
      "  (0, 43)\t1.0\n",
      "  (0, 75)\t1.0\n",
      "  (0, 97)\t1.0\n",
      "  (0, 110)\t9.0\n",
      "  (0, 116)\t1.0\n",
      "  (0, 141)\t1.0\n",
      "  (0, 150)\t3.0\n",
      "  (0, 166)\t3.0\n",
      "  (0, 168)\t1.0\n",
      "  (0, 287)\t1.0\n",
      "  (0, 289)\t1.0\n",
      "  (0, 290)\t1.0\n",
      "  (0, 314)\t1.0\n",
      "  (0, 325)\t4.0\n",
      "  (0, 339)\t24.0\n",
      "  (0, 356)\t1.0\n",
      "  (0, 358)\t3.0\n",
      "  (0, 360)\t1.0\n",
      "  (0, 369)\t1.0\n",
      "  (0, 372)\t1.0\n",
      "  (0, 393)\t5.0\n",
      "  (0, 395)\t3.0\n",
      "  :\t:\n",
      "  (14425, 24520)\t1.0\n",
      "  (14425, 24527)\t1.0\n",
      "  (14425, 24533)\t1.0\n",
      "  (14425, 24558)\t2.0\n",
      "  (14425, 24580)\t2.0\n",
      "  (14425, 24588)\t1.0\n",
      "  (14425, 24614)\t1.0\n",
      "  (14425, 24627)\t1.0\n",
      "  (14425, 24629)\t1.0\n",
      "  (14425, 24659)\t1.0\n",
      "  (14425, 24661)\t1.0\n",
      "  (14425, 24663)\t2.0\n",
      "  (14425, 24700)\t6.0\n",
      "  (14425, 24701)\t5.0\n",
      "  (14425, 24702)\t45.0\n",
      "  (14425, 24703)\t33.0\n",
      "  (14425, 24704)\t6.0\n",
      "  (14425, 24705)\t13.0\n",
      "  (14425, 24706)\t27.0\n",
      "  (14425, 24707)\t7.0\n",
      "  (14425, 24708)\t18.0\n",
      "  (14425, 24709)\t1.0\n",
      "  (14425, 24710)\t9.0\n",
      "  (14425, 24711)\t2.0\n",
      "  (14425, 24712)\t28.0\n"
     ]
    }
   ],
   "source": [
    "print(expression_matrix_control)"
   ]
  },
  {
   "cell_type": "code",
   "execution_count": 33,
   "id": "59392a29-802a-4c60-a955-0bb9bb8194b9",
   "metadata": {},
   "outputs": [],
   "source": [
    "expression_matrix_control_array = expression_matrix_control.toarray()\n",
    "expression_matrix_control_df = pd.DataFrame(expression_matrix_control_array)"
   ]
  },
  {
   "cell_type": "code",
   "execution_count": 34,
   "id": "dbb74a64-9172-41dc-be68-8ff58a6661ce",
   "metadata": {},
   "outputs": [
    {
     "name": "stdout",
     "output_type": "stream",
     "text": [
      "                                                     sex tissue ethnicity  \\\n",
      "10_1038_s41591_021_01329_2-10_1038_s41591_021_0...  male  blood   unknown   \n",
      "10_1038_s41591_021_01329_2-10_1038_s41591_021_0...  male  blood   unknown   \n",
      "10_1038_s41591_021_01329_2-10_1038_s41591_021_0...  male  blood   unknown   \n",
      "10_1038_s41591_021_01329_2-10_1038_s41591_021_0...  male  blood   unknown   \n",
      "10_1038_s41591_021_01329_2-10_1038_s41591_021_0...  male  blood   unknown   \n",
      "...                                                  ...    ...       ...   \n",
      "10_1038_s41591_021_01329_2-10_1038_s41591_021_0...  male  blood   unknown   \n",
      "10_1038_s41591_021_01329_2-10_1038_s41591_021_0...  male  blood   unknown   \n",
      "10_1038_s41591_021_01329_2-10_1038_s41591_021_0...  male  blood   unknown   \n",
      "10_1038_s41591_021_01329_2-10_1038_s41591_021_0...  male  blood   unknown   \n",
      "10_1038_s41591_021_01329_2-10_1038_s41591_021_0...  male  blood   unknown   \n",
      "\n",
      "                                                   disease  \\\n",
      "10_1038_s41591_021_01329_2-10_1038_s41591_021_0...  normal   \n",
      "10_1038_s41591_021_01329_2-10_1038_s41591_021_0...  normal   \n",
      "10_1038_s41591_021_01329_2-10_1038_s41591_021_0...  normal   \n",
      "10_1038_s41591_021_01329_2-10_1038_s41591_021_0...  normal   \n",
      "10_1038_s41591_021_01329_2-10_1038_s41591_021_0...  normal   \n",
      "...                                                    ...   \n",
      "10_1038_s41591_021_01329_2-10_1038_s41591_021_0...  normal   \n",
      "10_1038_s41591_021_01329_2-10_1038_s41591_021_0...  normal   \n",
      "10_1038_s41591_021_01329_2-10_1038_s41591_021_0...  normal   \n",
      "10_1038_s41591_021_01329_2-10_1038_s41591_021_0...  normal   \n",
      "10_1038_s41591_021_01329_2-10_1038_s41591_021_0...  normal   \n",
      "\n",
      "                                                                             assay  \\\n",
      "10_1038_s41591_021_01329_2-10_1038_s41591_021_0...  10x 3' transcription profiling   \n",
      "10_1038_s41591_021_01329_2-10_1038_s41591_021_0...  10x 3' transcription profiling   \n",
      "10_1038_s41591_021_01329_2-10_1038_s41591_021_0...  10x 3' transcription profiling   \n",
      "10_1038_s41591_021_01329_2-10_1038_s41591_021_0...  10x 3' transcription profiling   \n",
      "10_1038_s41591_021_01329_2-10_1038_s41591_021_0...  10x 3' transcription profiling   \n",
      "...                                                                            ...   \n",
      "10_1038_s41591_021_01329_2-10_1038_s41591_021_0...  10x 3' transcription profiling   \n",
      "10_1038_s41591_021_01329_2-10_1038_s41591_021_0...  10x 3' transcription profiling   \n",
      "10_1038_s41591_021_01329_2-10_1038_s41591_021_0...  10x 3' transcription profiling   \n",
      "10_1038_s41591_021_01329_2-10_1038_s41591_021_0...  10x 3' transcription profiling   \n",
      "10_1038_s41591_021_01329_2-10_1038_s41591_021_0...  10x 3' transcription profiling   \n",
      "\n",
      "                                                   assay_ontology_term_id  \\\n",
      "10_1038_s41591_021_01329_2-10_1038_s41591_021_0...            EFO:0030003   \n",
      "10_1038_s41591_021_01329_2-10_1038_s41591_021_0...            EFO:0030003   \n",
      "10_1038_s41591_021_01329_2-10_1038_s41591_021_0...            EFO:0030003   \n",
      "10_1038_s41591_021_01329_2-10_1038_s41591_021_0...            EFO:0030003   \n",
      "10_1038_s41591_021_01329_2-10_1038_s41591_021_0...            EFO:0030003   \n",
      "...                                                                   ...   \n",
      "10_1038_s41591_021_01329_2-10_1038_s41591_021_0...            EFO:0030003   \n",
      "10_1038_s41591_021_01329_2-10_1038_s41591_021_0...            EFO:0030003   \n",
      "10_1038_s41591_021_01329_2-10_1038_s41591_021_0...            EFO:0030003   \n",
      "10_1038_s41591_021_01329_2-10_1038_s41591_021_0...            EFO:0030003   \n",
      "10_1038_s41591_021_01329_2-10_1038_s41591_021_0...            EFO:0030003   \n",
      "\n",
      "                                                        sample_id  \\\n",
      "10_1038_s41591_021_01329_2-10_1038_s41591_021_0...  BGCV01_CV0902   \n",
      "10_1038_s41591_021_01329_2-10_1038_s41591_021_0...  BGCV01_CV0902   \n",
      "10_1038_s41591_021_01329_2-10_1038_s41591_021_0...  BGCV01_CV0902   \n",
      "10_1038_s41591_021_01329_2-10_1038_s41591_021_0...  BGCV01_CV0902   \n",
      "10_1038_s41591_021_01329_2-10_1038_s41591_021_0...  BGCV01_CV0902   \n",
      "...                                                           ...   \n",
      "10_1038_s41591_021_01329_2-10_1038_s41591_021_0...    newcastle74   \n",
      "10_1038_s41591_021_01329_2-10_1038_s41591_021_0...    newcastle74   \n",
      "10_1038_s41591_021_01329_2-10_1038_s41591_021_0...    newcastle74   \n",
      "10_1038_s41591_021_01329_2-10_1038_s41591_021_0...    newcastle74   \n",
      "10_1038_s41591_021_01329_2-10_1038_s41591_021_0...    newcastle74   \n",
      "\n",
      "                                                       donor_id  \\\n",
      "10_1038_s41591_021_01329_2-10_1038_s41591_021_0...       CV0902   \n",
      "10_1038_s41591_021_01329_2-10_1038_s41591_021_0...       CV0902   \n",
      "10_1038_s41591_021_01329_2-10_1038_s41591_021_0...       CV0902   \n",
      "10_1038_s41591_021_01329_2-10_1038_s41591_021_0...       CV0902   \n",
      "10_1038_s41591_021_01329_2-10_1038_s41591_021_0...       CV0902   \n",
      "...                                                         ...   \n",
      "10_1038_s41591_021_01329_2-10_1038_s41591_021_0...  newcastle74   \n",
      "10_1038_s41591_021_01329_2-10_1038_s41591_021_0...  newcastle74   \n",
      "10_1038_s41591_021_01329_2-10_1038_s41591_021_0...  newcastle74   \n",
      "10_1038_s41591_021_01329_2-10_1038_s41591_021_0...  newcastle74   \n",
      "10_1038_s41591_021_01329_2-10_1038_s41591_021_0...  newcastle74   \n",
      "\n",
      "                                                                    dataset_id  \\\n",
      "10_1038_s41591_021_01329_2-10_1038_s41591_021_0...  10_1038_s41591_021_01329_2   \n",
      "10_1038_s41591_021_01329_2-10_1038_s41591_021_0...  10_1038_s41591_021_01329_2   \n",
      "10_1038_s41591_021_01329_2-10_1038_s41591_021_0...  10_1038_s41591_021_01329_2   \n",
      "10_1038_s41591_021_01329_2-10_1038_s41591_021_0...  10_1038_s41591_021_01329_2   \n",
      "10_1038_s41591_021_01329_2-10_1038_s41591_021_0...  10_1038_s41591_021_01329_2   \n",
      "...                                                                        ...   \n",
      "10_1038_s41591_021_01329_2-10_1038_s41591_021_0...  10_1038_s41591_021_01329_2   \n",
      "10_1038_s41591_021_01329_2-10_1038_s41591_021_0...  10_1038_s41591_021_01329_2   \n",
      "10_1038_s41591_021_01329_2-10_1038_s41591_021_0...  10_1038_s41591_021_01329_2   \n",
      "10_1038_s41591_021_01329_2-10_1038_s41591_021_0...  10_1038_s41591_021_01329_2   \n",
      "10_1038_s41591_021_01329_2-10_1038_s41591_021_0...  10_1038_s41591_021_01329_2   \n",
      "\n",
      "                                                           development_stage  \\\n",
      "10_1038_s41591_021_01329_2-10_1038_s41591_021_0...  sixth decade human stage   \n",
      "10_1038_s41591_021_01329_2-10_1038_s41591_021_0...  sixth decade human stage   \n",
      "10_1038_s41591_021_01329_2-10_1038_s41591_021_0...  sixth decade human stage   \n",
      "10_1038_s41591_021_01329_2-10_1038_s41591_021_0...  sixth decade human stage   \n",
      "10_1038_s41591_021_01329_2-10_1038_s41591_021_0...  sixth decade human stage   \n",
      "...                                                                      ...   \n",
      "10_1038_s41591_021_01329_2-10_1038_s41591_021_0...  sixth decade human stage   \n",
      "10_1038_s41591_021_01329_2-10_1038_s41591_021_0...  sixth decade human stage   \n",
      "10_1038_s41591_021_01329_2-10_1038_s41591_021_0...  sixth decade human stage   \n",
      "10_1038_s41591_021_01329_2-10_1038_s41591_021_0...  sixth decade human stage   \n",
      "10_1038_s41591_021_01329_2-10_1038_s41591_021_0...  sixth decade human stage   \n",
      "\n",
      "                                                                                            cell_type  \\\n",
      "10_1038_s41591_021_01329_2-10_1038_s41591_021_0...  CD16-negative, CD56-bright natural killer cell...   \n",
      "10_1038_s41591_021_01329_2-10_1038_s41591_021_0...                                           platelet   \n",
      "10_1038_s41591_021_01329_2-10_1038_s41591_021_0...                                           platelet   \n",
      "10_1038_s41591_021_01329_2-10_1038_s41591_021_0...                       class switched memory B cell   \n",
      "10_1038_s41591_021_01329_2-10_1038_s41591_021_0...                                           platelet   \n",
      "...                                                                                               ...   \n",
      "10_1038_s41591_021_01329_2-10_1038_s41591_021_0...                                       naive B cell   \n",
      "10_1038_s41591_021_01329_2-10_1038_s41591_021_0...                             myeloid dendritic cell   \n",
      "10_1038_s41591_021_01329_2-10_1038_s41591_021_0...           effector CD8-positive, alpha-beta T cell   \n",
      "10_1038_s41591_021_01329_2-10_1038_s41591_021_0...                                           platelet   \n",
      "10_1038_s41591_021_01329_2-10_1038_s41591_021_0...                                   T-helper 22 cell   \n",
      "\n",
      "                                                    n_genes_by_counts  \\\n",
      "10_1038_s41591_021_01329_2-10_1038_s41591_021_0...               1394   \n",
      "10_1038_s41591_021_01329_2-10_1038_s41591_021_0...               1345   \n",
      "10_1038_s41591_021_01329_2-10_1038_s41591_021_0...               1177   \n",
      "10_1038_s41591_021_01329_2-10_1038_s41591_021_0...               2029   \n",
      "10_1038_s41591_021_01329_2-10_1038_s41591_021_0...               1191   \n",
      "...                                                               ...   \n",
      "10_1038_s41591_021_01329_2-10_1038_s41591_021_0...               1228   \n",
      "10_1038_s41591_021_01329_2-10_1038_s41591_021_0...               3415   \n",
      "10_1038_s41591_021_01329_2-10_1038_s41591_021_0...               1289   \n",
      "10_1038_s41591_021_01329_2-10_1038_s41591_021_0...                432   \n",
      "10_1038_s41591_021_01329_2-10_1038_s41591_021_0...               1519   \n",
      "\n",
      "                                                    log1p_n_genes_by_counts  \\\n",
      "10_1038_s41591_021_01329_2-10_1038_s41591_021_0...                 7.240650   \n",
      "10_1038_s41591_021_01329_2-10_1038_s41591_021_0...                 7.204893   \n",
      "10_1038_s41591_021_01329_2-10_1038_s41591_021_0...                 7.071573   \n",
      "10_1038_s41591_021_01329_2-10_1038_s41591_021_0...                 7.615791   \n",
      "10_1038_s41591_021_01329_2-10_1038_s41591_021_0...                 7.083388   \n",
      "...                                                                     ...   \n",
      "10_1038_s41591_021_01329_2-10_1038_s41591_021_0...                 7.113956   \n",
      "10_1038_s41591_021_01329_2-10_1038_s41591_021_0...                 8.136226   \n",
      "10_1038_s41591_021_01329_2-10_1038_s41591_021_0...                 7.162397   \n",
      "10_1038_s41591_021_01329_2-10_1038_s41591_021_0...                 6.070738   \n",
      "10_1038_s41591_021_01329_2-10_1038_s41591_021_0...                 7.326466   \n",
      "\n",
      "                                                    total_counts  \\\n",
      "10_1038_s41591_021_01329_2-10_1038_s41591_021_0...        3669.0   \n",
      "10_1038_s41591_021_01329_2-10_1038_s41591_021_0...        3976.0   \n",
      "10_1038_s41591_021_01329_2-10_1038_s41591_021_0...        4063.0   \n",
      "10_1038_s41591_021_01329_2-10_1038_s41591_021_0...        7533.0   \n",
      "10_1038_s41591_021_01329_2-10_1038_s41591_021_0...        4036.0   \n",
      "...                                                          ...   \n",
      "10_1038_s41591_021_01329_2-10_1038_s41591_021_0...        4022.0   \n",
      "10_1038_s41591_021_01329_2-10_1038_s41591_021_0...       17050.0   \n",
      "10_1038_s41591_021_01329_2-10_1038_s41591_021_0...        3355.0   \n",
      "10_1038_s41591_021_01329_2-10_1038_s41591_021_0...        1149.0   \n",
      "10_1038_s41591_021_01329_2-10_1038_s41591_021_0...        3870.0   \n",
      "\n",
      "                                                    log1p_total_counts  \\\n",
      "10_1038_s41591_021_01329_2-10_1038_s41591_021_0...            8.207947   \n",
      "10_1038_s41591_021_01329_2-10_1038_s41591_021_0...            8.288283   \n",
      "10_1038_s41591_021_01329_2-10_1038_s41591_021_0...            8.309923   \n",
      "10_1038_s41591_021_01329_2-10_1038_s41591_021_0...            8.927181   \n",
      "10_1038_s41591_021_01329_2-10_1038_s41591_021_0...            8.303257   \n",
      "...                                                                ...   \n",
      "10_1038_s41591_021_01329_2-10_1038_s41591_021_0...            8.299783   \n",
      "10_1038_s41591_021_01329_2-10_1038_s41591_021_0...            9.743964   \n",
      "10_1038_s41591_021_01329_2-10_1038_s41591_021_0...            8.118505   \n",
      "10_1038_s41591_021_01329_2-10_1038_s41591_021_0...            7.047517   \n",
      "10_1038_s41591_021_01329_2-10_1038_s41591_021_0...            8.261269   \n",
      "\n",
      "                                                    pct_counts_in_top_50_genes  \\\n",
      "10_1038_s41591_021_01329_2-10_1038_s41591_021_0...                   35.813573   \n",
      "10_1038_s41591_021_01329_2-10_1038_s41591_021_0...                   38.757545   \n",
      "10_1038_s41591_021_01329_2-10_1038_s41591_021_0...                   44.400689   \n",
      "10_1038_s41591_021_01329_2-10_1038_s41591_021_0...                   39.466348   \n",
      "10_1038_s41591_021_01329_2-10_1038_s41591_021_0...                   44.499504   \n",
      "...                                                                        ...   \n",
      "10_1038_s41591_021_01329_2-10_1038_s41591_021_0...                   42.441571   \n",
      "10_1038_s41591_021_01329_2-10_1038_s41591_021_0...                   36.275660   \n",
      "10_1038_s41591_021_01329_2-10_1038_s41591_021_0...                   34.783905   \n",
      "10_1038_s41591_021_01329_2-10_1038_s41591_021_0...                   54.656223   \n",
      "10_1038_s41591_021_01329_2-10_1038_s41591_021_0...                   35.684755   \n",
      "\n",
      "                                                    pct_counts_in_top_100_genes  \\\n",
      "10_1038_s41591_021_01329_2-10_1038_s41591_021_0...                    49.822840   \n",
      "10_1038_s41591_021_01329_2-10_1038_s41591_021_0...                    52.565392   \n",
      "10_1038_s41591_021_01329_2-10_1038_s41591_021_0...                    60.472557   \n",
      "10_1038_s41591_021_01329_2-10_1038_s41591_021_0...                    55.263507   \n",
      "10_1038_s41591_021_01329_2-10_1038_s41591_021_0...                    60.158573   \n",
      "...                                                                         ...   \n",
      "10_1038_s41591_021_01329_2-10_1038_s41591_021_0...                    58.329189   \n",
      "10_1038_s41591_021_01329_2-10_1038_s41591_021_0...                    48.621701   \n",
      "10_1038_s41591_021_01329_2-10_1038_s41591_021_0...                    49.001490   \n",
      "10_1038_s41591_021_01329_2-10_1038_s41591_021_0...                    67.101828   \n",
      "10_1038_s41591_021_01329_2-10_1038_s41591_021_0...                    48.372093   \n",
      "\n",
      "                                                    pct_counts_in_top_200_genes  \\\n",
      "10_1038_s41591_021_01329_2-10_1038_s41591_021_0...                    60.888525   \n",
      "10_1038_s41591_021_01329_2-10_1038_s41591_021_0...                    64.436620   \n",
      "10_1038_s41591_021_01329_2-10_1038_s41591_021_0...                    71.671179   \n",
      "10_1038_s41591_021_01329_2-10_1038_s41591_021_0...                    66.587017   \n",
      "10_1038_s41591_021_01329_2-10_1038_s41591_021_0...                    70.862240   \n",
      "...                                                                         ...   \n",
      "10_1038_s41591_021_01329_2-10_1038_s41591_021_0...                    69.592243   \n",
      "10_1038_s41591_021_01329_2-10_1038_s41591_021_0...                    59.841642   \n",
      "10_1038_s41591_021_01329_2-10_1038_s41591_021_0...                    60.506706   \n",
      "10_1038_s41591_021_01329_2-10_1038_s41591_021_0...                    79.808529   \n",
      "10_1038_s41591_021_01329_2-10_1038_s41591_021_0...                    59.198966   \n",
      "\n",
      "                                                    pct_counts_in_top_500_genes  \\\n",
      "10_1038_s41591_021_01329_2-10_1038_s41591_021_0...                    75.633688   \n",
      "10_1038_s41591_021_01329_2-10_1038_s41591_021_0...                    78.747485   \n",
      "10_1038_s41591_021_01329_2-10_1038_s41591_021_0...                    83.337435   \n",
      "10_1038_s41591_021_01329_2-10_1038_s41591_021_0...                    77.525554   \n",
      "10_1038_s41591_021_01329_2-10_1038_s41591_021_0...                    82.879088   \n",
      "...                                                                         ...   \n",
      "10_1038_s41591_021_01329_2-10_1038_s41591_021_0...                    81.899552   \n",
      "10_1038_s41591_021_01329_2-10_1038_s41591_021_0...                    72.586510   \n",
      "10_1038_s41591_021_01329_2-10_1038_s41591_021_0...                    76.482861   \n",
      "10_1038_s41591_021_01329_2-10_1038_s41591_021_0...                   100.000000   \n",
      "10_1038_s41591_021_01329_2-10_1038_s41591_021_0...                    73.669251   \n",
      "\n",
      "                                                    n_counts  \n",
      "10_1038_s41591_021_01329_2-10_1038_s41591_021_0...    3669.0  \n",
      "10_1038_s41591_021_01329_2-10_1038_s41591_021_0...    3976.0  \n",
      "10_1038_s41591_021_01329_2-10_1038_s41591_021_0...    4063.0  \n",
      "10_1038_s41591_021_01329_2-10_1038_s41591_021_0...    7533.0  \n",
      "10_1038_s41591_021_01329_2-10_1038_s41591_021_0...    4036.0  \n",
      "...                                                      ...  \n",
      "10_1038_s41591_021_01329_2-10_1038_s41591_021_0...    4022.0  \n",
      "10_1038_s41591_021_01329_2-10_1038_s41591_021_0...   17050.0  \n",
      "10_1038_s41591_021_01329_2-10_1038_s41591_021_0...    3355.0  \n",
      "10_1038_s41591_021_01329_2-10_1038_s41591_021_0...    1149.0  \n",
      "10_1038_s41591_021_01329_2-10_1038_s41591_021_0...    3870.0  \n",
      "\n",
      "[14426 rows x 20 columns]\n"
     ]
    }
   ],
   "source": [
    "print(annotations_control)"
   ]
  },
  {
   "cell_type": "markdown",
   "id": "7c143845-f1dc-45f3-a7cd-af5d6d7a31f7",
   "metadata": {},
   "source": [
    "#### background (Control) has 41 cell types"
   ]
  },
  {
   "cell_type": "code",
   "execution_count": 35,
   "id": "aa11e3ea-1921-4ec8-8a07-4b2ff607e38f",
   "metadata": {},
   "outputs": [
    {
     "name": "stdout",
     "output_type": "stream",
     "text": [
      "41\n"
     ]
    }
   ],
   "source": [
    "cell_type_control = annotations_control['cell_type']\n",
    "cell_type_control_unique = set(cell_type_control)\n",
    "print(len(cell_type_control_unique))"
   ]
  },
  {
   "cell_type": "code",
   "execution_count": 36,
   "id": "620991b1-ac1b-47c9-92b4-d9ce48babc9e",
   "metadata": {},
   "outputs": [
    {
     "data": {
      "text/plain": [
       "cell_type\n",
       "CD16-positive, CD56-dim natural killer cell, human       2117\n",
       "naive thymus-derived CD4-positive, alpha-beta T cell     1838\n",
       "naive B cell                                             1326\n",
       "CD14-positive monocyte                                   1183\n",
       "central memory CD4-positive, alpha-beta T cell           1182\n",
       "naive thymus-derived CD8-positive, alpha-beta T cell     1092\n",
       "effector CD8-positive, alpha-beta T cell                  813\n",
       "T-helper 22 cell                                          723\n",
       "effector memory CD8-positive, alpha-beta T cell           704\n",
       "gamma-delta T cell                                        483\n",
       "mature NK T cell                                          457\n",
       "mucosal invariant T cell                                  391\n",
       "platelet                                                  373\n",
       "CD16-negative, CD56-bright natural killer cell, human     359\n",
       "class switched memory B cell                              247\n",
       "immature B cell                                           181\n",
       "T follicular helper cell                                  135\n",
       "dendritic cell, human                                     121\n",
       "myeloid dendritic cell                                    113\n",
       "unswitched memory B cell                                  111\n",
       "B cell                                                     69\n",
       "plasmacytoid dendritic cell                                65\n",
       "erythrocyte                                                60\n",
       "IgA plasma cell                                            38\n",
       "ILC1, human                                                35\n",
       "IgG plasma cell                                            30\n",
       "effector memory CD4-positive, alpha-beta T cell            23\n",
       "natural killer cell                                        20\n",
       "dendritic cell                                             17\n",
       "plasmablast                                                15\n",
       "erythroid progenitor cell, mammalian                       15\n",
       "IgM plasma cell                                            14\n",
       "T-helper 1 cell                                            14\n",
       "CD34-positive, CD38-negative hematopoietic stem cell       13\n",
       "CD14-low, CD16-positive monocyte                           13\n",
       "CD8-positive, alpha-beta T cell                            12\n",
       "regulatory T cell                                           8\n",
       "CD4-positive, alpha-beta T cell                             6\n",
       "group 2 innate lymphoid cell, human                         6\n",
       "T-helper 2 cell                                             3\n",
       "monocyte                                                    1\n",
       "Name: count, dtype: int64"
      ]
     },
     "execution_count": 36,
     "metadata": {},
     "output_type": "execute_result"
    }
   ],
   "source": [
    "cell_type_control_total = cell_type_control.value_counts()\n",
    "cell_type_control_total"
   ]
  },
  {
   "cell_type": "code",
   "execution_count": 37,
   "id": "e6338851-fcc9-40c3-897d-cb42cb1e8610",
   "metadata": {},
   "outputs": [
    {
     "name": "stdout",
     "output_type": "stream",
     "text": [
      "cell_type\n",
      "CD16-positive, CD56-dim natural killer cell, human       2117\n",
      "naive thymus-derived CD4-positive, alpha-beta T cell     1838\n",
      "naive B cell                                             1326\n",
      "CD14-positive monocyte                                   1183\n",
      "central memory CD4-positive, alpha-beta T cell           1182\n",
      "naive thymus-derived CD8-positive, alpha-beta T cell     1092\n",
      "effector CD8-positive, alpha-beta T cell                  813\n",
      "T-helper 22 cell                                          723\n",
      "effector memory CD8-positive, alpha-beta T cell           704\n",
      "gamma-delta T cell                                        483\n",
      "mature NK T cell                                          457\n",
      "mucosal invariant T cell                                  391\n",
      "platelet                                                  373\n",
      "CD16-negative, CD56-bright natural killer cell, human     359\n",
      "Name: count, dtype: int64\n"
     ]
    },
    {
     "data": {
      "text/plain": [
       "14"
      ]
     },
     "execution_count": 37,
     "metadata": {},
     "output_type": "execute_result"
    }
   ],
   "source": [
    "cell_type_control_greater_than_250 = cell_type_control_total[cell_type_control_total > 250] \n",
    "print(cell_type_control_greater_than_250)\n",
    "len(cell_type_control_greater_than_250)"
   ]
  },
  {
   "cell_type": "markdown",
   "id": "a08486da-9db2-4072-b871-e3498bc92a7a",
   "metadata": {},
   "source": [
    "### Get the Background X (Control) "
   ]
  },
  {
   "cell_type": "code",
   "execution_count": 38,
   "id": "6adbf8cb-7e83-4f8c-9452-88990188540d",
   "metadata": {},
   "outputs": [
    {
     "data": {
      "text/plain": [
       "(14426, 20)"
      ]
     },
     "execution_count": 38,
     "metadata": {},
     "output_type": "execute_result"
    }
   ],
   "source": [
    "annotation_control_df = pd.DataFrame(annotations_control)\n",
    "annotation_control_df_copy = annotation_control_df\n",
    "annotation_control_df.shape"
   ]
  },
  {
   "cell_type": "markdown",
   "id": "120d764d-31b2-4dee-b64f-99a1614b3e00",
   "metadata": {},
   "source": [
    "#### Reset the index to get numeric indices"
   ]
  },
  {
   "cell_type": "code",
   "execution_count": 40,
   "id": "f59f0e54-c6ac-41cb-830f-254708ab44de",
   "metadata": {},
   "outputs": [],
   "source": [
    "annotation_control_df_copy.reset_index(drop=True, inplace=True)\n",
    "\n",
    "filtered_annotations_control = annotation_control_df_copy[annotation_control_df_copy['cell_type'].isin(cell_type_control_greater_than_250.index)]"
   ]
  },
  {
   "cell_type": "markdown",
   "id": "59028f95-78cc-4fdc-a769-37f1a0ff39a5",
   "metadata": {},
   "source": [
    "#### check the indices for cell_type less than 250 (to ensure the filtered_control_indices remove these indices)"
   ]
  },
  {
   "cell_type": "code",
   "execution_count": 41,
   "id": "237f8cc7-4dbc-4a7b-ad80-00e389207aa6",
   "metadata": {},
   "outputs": [
    {
     "data": {
      "text/plain": [
       "Index([ 1239,  2216,  2570,  6617,  9012,  9048,  9651,  9657, 10096, 10164,\n",
       "       10657, 11574, 12442, 13396, 14210],\n",
       "      dtype='int64')"
      ]
     },
     "execution_count": 41,
     "metadata": {},
     "output_type": "execute_result"
    }
   ],
   "source": [
    "annotation_control_df_copy[annotation_control_df_copy['cell_type'] == 'plasmablast'].index"
   ]
  },
  {
   "cell_type": "code",
   "execution_count": 42,
   "id": "42169cbb-da9f-4088-b594-3b3b5fdd013a",
   "metadata": {},
   "outputs": [
    {
     "name": "stdout",
     "output_type": "stream",
     "text": [
      "13041\n"
     ]
    }
   ],
   "source": [
    "filtered_control_indices = filtered_annotations_control.index.to_list()\n",
    "print(len(filtered_control_indices))"
   ]
  },
  {
   "cell_type": "code",
   "execution_count": 43,
   "id": "c4d2ae39-deeb-4523-b6dc-008a31b8b99b",
   "metadata": {},
   "outputs": [
    {
     "name": "stdout",
     "output_type": "stream",
     "text": [
      "(13041, 24727)\n"
     ]
    }
   ],
   "source": [
    "filter_expression_matrix_control_df = expression_matrix_control_df.iloc[filtered_control_indices]\n",
    "print(filter_expression_matrix_control_df.shape)"
   ]
  },
  {
   "cell_type": "code",
   "execution_count": 44,
   "id": "4320b2ec-fff6-40ef-bcb3-b5d340d3271b",
   "metadata": {},
   "outputs": [],
   "source": [
    "backgroundX = filter_expression_matrix_control_df\n",
    "# backgroundX.to_csv('COVID_design_backgroundX.csv')"
   ]
  },
  {
   "cell_type": "markdown",
   "id": "76761599-e355-4bb5-af83-6d95e6456c20",
   "metadata": {},
   "source": [
    "### Get the background Y"
   ]
  },
  {
   "cell_type": "code",
   "execution_count": 45,
   "id": "a66553a1-82b7-4505-948e-0715962bc414",
   "metadata": {},
   "outputs": [
    {
     "name": "stdout",
     "output_type": "stream",
     "text": [
      "0        CD16-negative, CD56-bright natural killer cell...\n",
      "1                                                 platelet\n",
      "2                                                 platelet\n",
      "4                                                 platelet\n",
      "5        CD16-positive, CD56-dim natural killer cell, h...\n",
      "                               ...                        \n",
      "14420             effector CD8-positive, alpha-beta T cell\n",
      "14421                                         naive B cell\n",
      "14423             effector CD8-positive, alpha-beta T cell\n",
      "14424                                             platelet\n",
      "14425                                     T-helper 22 cell\n",
      "Name: cell_type, Length: 13041, dtype: category\n",
      "Categories (41, object): ['B cell', 'CD14-low, CD16-positive monocyte', 'CD14-positive monocyte', 'CD16-negative, CD56-bright natural killer cel..., ..., 'plasmacytoid dendritic cell', 'platelet', 'regulatory T cell', 'unswitched memory B cell']\n"
     ]
    }
   ],
   "source": [
    "# pd.set_option('display.max_rows', None)\n",
    "print(filtered_annotations_control['cell_type'])"
   ]
  },
  {
   "cell_type": "code",
   "execution_count": 46,
   "id": "d4ecb384-fd53-4ccf-9f4a-81805a1995f3",
   "metadata": {},
   "outputs": [
    {
     "name": "stdout",
     "output_type": "stream",
     "text": [
      "13041\n",
      "14\n"
     ]
    }
   ],
   "source": [
    "filtered_cell_type_control = filtered_annotations_control['cell_type'] \n",
    "print(len(filtered_cell_type_control))\n",
    "unique_filtered_cell_type_control = set(filtered_cell_type_control)\n",
    "print(len(unique_filtered_cell_type_control))"
   ]
  },
  {
   "cell_type": "code",
   "execution_count": 47,
   "id": "ae2aed05-bb57-4d61-b860-ec884d8684f2",
   "metadata": {},
   "outputs": [
    {
     "name": "stdout",
     "output_type": "stream",
     "text": [
      "0        CD16-negative, CD56-bright natural killer cell...\n",
      "1                                                 platelet\n",
      "2                                                 platelet\n",
      "4                                                 platelet\n",
      "5        CD16-positive, CD56-dim natural killer cell, h...\n",
      "                               ...                        \n",
      "14420             effector CD8-positive, alpha-beta T cell\n",
      "14421                                         naive B cell\n",
      "14423             effector CD8-positive, alpha-beta T cell\n",
      "14424                                             platelet\n",
      "14425                                     T-helper 22 cell\n",
      "Name: cell_type, Length: 13041, dtype: category\n",
      "Categories (41, object): ['B cell', 'CD14-low, CD16-positive monocyte', 'CD14-positive monocyte', 'CD16-negative, CD56-bright natural killer cel..., ..., 'plasmacytoid dendritic cell', 'platelet', 'regulatory T cell', 'unswitched memory B cell']\n"
     ]
    }
   ],
   "source": [
    "print(filtered_cell_type_control)"
   ]
  },
  {
   "cell_type": "code",
   "execution_count": 49,
   "id": "50de7822-e50d-460b-8b5d-9b504d7acbe4",
   "metadata": {},
   "outputs": [
    {
     "name": "stdout",
     "output_type": "stream",
     "text": [
      "0         2\n",
      "1        14\n",
      "2        14\n",
      "4        14\n",
      "5         3\n",
      "         ..\n",
      "14420     6\n",
      "14421    11\n",
      "14423     6\n",
      "14424    14\n",
      "14425     4\n",
      "Name: cell_type_numeric, Length: 13041, dtype: int64\n"
     ]
    }
   ],
   "source": [
    "from sklearn.preprocessing import LabelEncoder\n",
    "\n",
    "label_encoder2 = LabelEncoder()\n",
    "\n",
    "filtered_annotations_control.loc[:, 'cell_type_numeric'] = label_encoder2.fit_transform(filtered_annotations_control['cell_type']) + 1 \n",
    "print(filtered_annotations_control['cell_type_numeric'])"
   ]
  },
  {
   "cell_type": "code",
   "execution_count": 50,
   "id": "d789ef23-170e-4d4c-bcbf-21132b2c3ed9",
   "metadata": {},
   "outputs": [
    {
     "name": "stdout",
     "output_type": "stream",
     "text": [
      "                                            cell_type  cell_type_numeric\n",
      "0                              CD14-positive monocyte                  1\n",
      "1   CD16-negative, CD56-bright natural killer cell...                  2\n",
      "2   CD16-positive, CD56-dim natural killer cell, h...                  3\n",
      "3                                    T-helper 22 cell                  4\n",
      "4      central memory CD4-positive, alpha-beta T cell                  5\n",
      "5            effector CD8-positive, alpha-beta T cell                  6\n",
      "6     effector memory CD8-positive, alpha-beta T cell                  7\n",
      "7                                  gamma-delta T cell                  8\n",
      "8                                    mature NK T cell                  9\n",
      "9                            mucosal invariant T cell                 10\n",
      "10                                       naive B cell                 11\n",
      "11  naive thymus-derived CD4-positive, alpha-beta ...                 12\n",
      "12  naive thymus-derived CD8-positive, alpha-beta ...                 13\n",
      "13                                           platelet                 14\n"
     ]
    }
   ],
   "source": [
    "label_encoding_control_df = pd.DataFrame({\n",
    "    'cell_type': label_encoder2.classes_,\n",
    "    'cell_type_numeric': range(1, len(label_encoder2.classes_) + 1)\n",
    "})\n",
    "\n",
    "print(label_encoding_control_df)"
   ]
  },
  {
   "cell_type": "markdown",
   "id": "a47f50c5-ad2b-43c5-bcb7-35f99966bb9f",
   "metadata": {},
   "source": [
    "### Output background Y"
   ]
  },
  {
   "cell_type": "code",
   "execution_count": 52,
   "id": "2155d703-dc54-49d6-b404-537ff6b104b2",
   "metadata": {},
   "outputs": [],
   "source": [
    "cell_type_Yt = filtered_annotations_control['cell_type_numeric']\n",
    "# print(cell_type_Yt)\n",
    "backgroundY = cell_type_Yt.to_frame()\n",
    "# print(backgroundY)\n",
    "\n",
    "# backgroundY.to_csv('COVID_design_backgroundY.csv')"
   ]
  },
  {
   "cell_type": "code",
   "execution_count": 53,
   "id": "04f7bebb-3186-4aca-9a5e-5353b9256b34",
   "metadata": {},
   "outputs": [
    {
     "name": "stdout",
     "output_type": "stream",
     "text": [
      "                feature_biotype  n_cells_by_counts  mean_counts  \\\n",
      "feature_id                                                        \n",
      "ENSG00000243485            gene                  1     0.000069   \n",
      "ENSG00000238009            gene                 13     0.000901   \n",
      "ENSG00000239945            gene                  0     0.000000   \n",
      "ENSG00000239906            gene                  0     0.000000   \n",
      "ENSG00000229905            gene                  0     0.000000   \n",
      "...                         ...                ...          ...   \n",
      "ENSG00000277196            gene                  1     0.000069   \n",
      "ENSG00000278384            gene                 47     0.003327   \n",
      "ENSG00000277856            gene                 33     0.219881   \n",
      "ENSG00000275063            gene                 46     0.040482   \n",
      "ENSG00000271254            gene                199     0.014210   \n",
      "\n",
      "                 log1p_mean_counts  pct_dropout_by_counts  total_counts  \\\n",
      "feature_id                                                                \n",
      "ENSG00000243485           0.000069              99.993068           1.0   \n",
      "ENSG00000238009           0.000901              99.909885          13.0   \n",
      "ENSG00000239945           0.000000             100.000000           0.0   \n",
      "ENSG00000239906           0.000000             100.000000           0.0   \n",
      "ENSG00000229905           0.000000             100.000000           0.0   \n",
      "...                            ...                    ...           ...   \n",
      "ENSG00000277196           0.000069              99.993068           1.0   \n",
      "ENSG00000278384           0.003322              99.674199          48.0   \n",
      "ENSG00000277856           0.198753              99.771246        3172.0   \n",
      "ENSG00000275063           0.039685              99.681131         584.0   \n",
      "ENSG00000271254           0.014110              98.620546         205.0   \n",
      "\n",
      "                 log1p_total_counts  \n",
      "feature_id                           \n",
      "ENSG00000243485            0.693147  \n",
      "ENSG00000238009            2.639057  \n",
      "ENSG00000239945            0.000000  \n",
      "ENSG00000239906            0.000000  \n",
      "ENSG00000229905            0.000000  \n",
      "...                             ...  \n",
      "ENSG00000277196            0.693147  \n",
      "ENSG00000278384            3.891820  \n",
      "ENSG00000277856            8.062433  \n",
      "ENSG00000275063            6.371612  \n",
      "ENSG00000271254            5.327876  \n",
      "\n",
      "[24727 rows x 7 columns]\n"
     ]
    }
   ],
   "source": [
    "print(var_annotations_control)"
   ]
  },
  {
   "cell_type": "code",
   "execution_count": null,
   "id": "2ab02865-e1d3-43a7-a120-33abeeb15b36",
   "metadata": {},
   "outputs": [],
   "source": []
  }
 ],
 "metadata": {
  "kernelspec": {
   "display_name": "Python 3 (ipykernel)",
   "language": "python",
   "name": "python3"
  },
  "language_info": {
   "codemirror_mode": {
    "name": "ipython",
    "version": 3
   },
   "file_extension": ".py",
   "mimetype": "text/x-python",
   "name": "python",
   "nbconvert_exporter": "python",
   "pygments_lexer": "ipython3",
   "version": "3.11.4"
  }
 },
 "nbformat": 4,
 "nbformat_minor": 5
}
