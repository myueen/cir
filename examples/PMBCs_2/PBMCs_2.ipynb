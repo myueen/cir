{
 "cells": [
  {
   "cell_type": "markdown",
   "metadata": {},
   "source": [
    "### Preparing PBMC dataset"
   ]
  },
  {
   "cell_type": "markdown",
   "metadata": {},
   "source": [
    "The following code for preprocessing PMBCs data gathered from 13 studies is from this Github repository: https://github.com/MarioniLab/oor_design_reproducibility/blob/master/src/1_PBMC_data_preprocessing/1_PBMC_metadata.ipynb "
   ]
  },
  {
   "cell_type": "markdown",
   "metadata": {},
   "source": [
    "need to install brew for mac, then install 'brew install wget'"
   ]
  },
  {
   "cell_type": "code",
   "execution_count": 1,
   "metadata": {},
   "outputs": [
    {
     "name": "stdout",
     "output_type": "stream",
     "text": [
      "\u001b[33mDEPRECATION: Loading egg at /Library/Frameworks/Python.framework/Versions/3.11/lib/python3.11/site-packages/jupyter-1.0.0-py3.11.egg is deprecated. pip 24.3 will enforce this behaviour change. A possible replacement is to use pip for package installation.. Discussion can be found at https://github.com/pypa/pip/issues/12330\u001b[0m\u001b[33m\n",
      "\u001b[0mCollecting wget\n",
      "  Downloading wget-3.2.zip (10 kB)\n",
      "  Preparing metadata (setup.py) ... \u001b[?25ldone\n",
      "\u001b[?25hBuilding wheels for collected packages: wget\n",
      "  Building wheel for wget (setup.py) ... \u001b[?25ldone\n",
      "\u001b[?25h  Created wheel for wget: filename=wget-3.2-py3-none-any.whl size=9657 sha256=e84382d5f366938a11a8258ce6269fb832e249a70a66f003b50e3bdbfd02c6da\n",
      "  Stored in directory: /Users/lianama/Library/Caches/pip/wheels/40/b3/0f/a40dbd1c6861731779f62cc4babcb234387e11d697df70ee97\n",
      "Successfully built wget\n",
      "Installing collected packages: wget\n",
      "Successfully installed wget-3.2\n",
      "Note: you may need to restart the kernel to use updated packages.\n"
     ]
    }
   ],
   "source": [
    "%pip install wget"
   ]
  },
  {
   "cell_type": "code",
   "execution_count": 2,
   "metadata": {},
   "outputs": [],
   "source": [
    "import os,sys\n",
    "import scanpy as sc\n",
    "import pandas as pd\n",
    "import numpy as np\n",
    "import wget\n",
    "import anndata\n",
    "\n",
    "import matplotlib.pyplot as plt\n",
    "import seaborn as sns"
   ]
  },
  {
   "cell_type": "code",
   "execution_count": 6,
   "metadata": {},
   "outputs": [],
   "source": [
    "## r2py setup\n",
    "import rpy2.rinterface_lib.callbacks\n",
    "import logging\n",
    "rpy2.rinterface_lib.callbacks.logger.setLevel(logging.ERROR)\n"
   ]
  },
  {
   "cell_type": "code",
   "execution_count": 9,
   "metadata": {},
   "outputs": [
    {
     "name": "stdout",
     "output_type": "stream",
     "text": [
      "\u001b[33mDEPRECATION: Loading egg at /Library/Frameworks/Python.framework/Versions/3.11/lib/python3.11/site-packages/jupyter-1.0.0-py3.11.egg is deprecated. pip 24.3 will enforce this behaviour change. A possible replacement is to use pip for package installation.. Discussion can be found at https://github.com/pypa/pip/issues/12330\u001b[0m\u001b[33m\n",
      "\u001b[0m\u001b[31mERROR: Could not find a version that satisfies the requirement reshape2 (from versions: none)\u001b[0m\u001b[31m\n",
      "\u001b[0m\u001b[31mERROR: No matching distribution found for reshape2\u001b[0m\u001b[31m\n",
      "\u001b[0mNote: you may need to restart the kernel to use updated packages.\n"
     ]
    }
   ],
   "source": [
    "# %pip install rpy2\n",
    "%pip install reshape2"
   ]
  },
  {
   "cell_type": "code",
   "execution_count": 7,
   "metadata": {},
   "outputs": [],
   "source": [
    "%load_ext rpy2.ipython"
   ]
  },
  {
   "cell_type": "code",
   "execution_count": 11,
   "metadata": {},
   "outputs": [
    {
     "name": "stdout",
     "output_type": "stream",
     "text": [
      "--- Please select a CRAN mirror for use in this session ---\n"
     ]
    },
    {
     "name": "stderr",
     "output_type": "stream",
     "text": [
      "Fontconfig warning: ignoring UTF-8: not a valid region tag\n"
     ]
    },
    {
     "name": "stdout",
     "output_type": "stream",
     "text": [
      "\n",
      "The downloaded binary packages are in\n",
      "\t/var/folders/dr/k6wp_5ns5hj632l6j_ks1nc80000gn/T//RtmpYzWw2C/downloaded_packages\n"
     ]
    },
    {
     "data": {
      "text/plain": [
       "trying URL 'https://mirror.las.iastate.edu/CRAN/bin/macosx/contrib/4.2/reshape2_1.4.4.tgz'\n",
       "Content type 'application/x-gzip' length 333392 bytes (325 KB)\n",
       "==================================================\n",
       "downloaded 325 KB\n",
       "\n",
       "\n",
       "Attaching package: ‘reshape2’\n",
       "\n",
       "The following object is masked from ‘package:tidyr’:\n",
       "\n",
       "    smiths\n",
       "\n"
      ]
     },
     "metadata": {},
     "output_type": "display_data"
    }
   ],
   "source": [
    "%%R\n",
    "install.packages(\"reshape2\")\n",
    "library(tidyverse)\n",
    "library(reshape2)\n",
    "library(patchwork)\n",
    "\n",
    "remove_x_axis <- function(){\n",
    "  theme(axis.text.x = element_blank(), axis.ticks.x = element_blank(), axis.title.x = element_blank())  \n",
    "}\n",
    "\n",
    "remove_y_axis <- function(){\n",
    "  theme(axis.text.y = element_blank(), axis.ticks.y = element_blank(), axis.title.y = element_blank())  \n",
    "}"
   ]
  },
  {
   "cell_type": "code",
   "execution_count": 32,
   "metadata": {},
   "outputs": [],
   "source": [
    "# data_dir = '/nfs/team205/ed6/data/PBMC_CZI_integration_filtered/'\n",
    "data_dir = 'data/PBMC_CZI_integration_filtered/'\n",
    "if not os.path.exists(data_dir):\n",
    "    # os.mkdir(data_dir)    \n",
    "    os.makedirs(data_dir)       # updated code to make "
   ]
  },
  {
   "cell_type": "markdown",
   "metadata": {},
   "source": [
    "### Download data from studies"
   ]
  },
  {
   "cell_type": "code",
   "execution_count": 33,
   "metadata": {},
   "outputs": [],
   "source": [
    "metadata_df = pd.read_csv('metadata/PBMC_study_metadata.csv')"
   ]
  },
  {
   "cell_type": "code",
   "execution_count": 40,
   "metadata": {},
   "outputs": [],
   "source": [
    "!brew install wget"
   ]
  },
  {
   "cell_type": "code",
   "execution_count": 38,
   "metadata": {},
   "outputs": [
    {
     "name": "stdout",
     "output_type": "stream",
     "text": [
      "Downloading dataset 1: 10_1038_s41591_021_01329_2.h5ad\n",
      "\n"
     ]
    },
    {
     "name": "stderr",
     "output_type": "stream",
     "text": [
      "--2024-06-09 15:25:04--  https://submissions-lattice.s3.us-west-1.amazonaws.com/may2022_blood_kidney/AnnData/RNA/10_1038_s41591_021_01329_2.h5ad\n",
      "Resolving submissions-lattice.s3.us-west-1.amazonaws.com (submissions-lattice.s3.us-west-1.amazonaws.com)... 3.5.162.161, 3.5.163.130, 52.219.221.2, ...\n",
      "Connecting to submissions-lattice.s3.us-west-1.amazonaws.com (submissions-lattice.s3.us-west-1.amazonaws.com)|3.5.162.161|:443... connected.\n",
      "HTTP request sent, awaiting response... 403 Forbidden\n",
      "2024-06-09 15:25:04 ERROR 403: Forbidden.\n",
      "\n",
      "--2024-06-09 15:25:04--  https://submissions-lattice.s3.us-west-1.amazonaws.com/may2022_blood_kidney/AnnData/RNA/ye_lupus_lupus.h5ad\n",
      "Resolving submissions-lattice.s3.us-west-1.amazonaws.com (submissions-lattice.s3.us-west-1.amazonaws.com)... 52.219.116.145, 3.5.163.130, 52.219.221.2, ...\n",
      "Connecting to submissions-lattice.s3.us-west-1.amazonaws.com (submissions-lattice.s3.us-west-1.amazonaws.com)|52.219.116.145|:443... connected.\n"
     ]
    },
    {
     "name": "stdout",
     "output_type": "stream",
     "text": [
      "Downloading dataset 2: ye_lupus_lupus.h5ad\n",
      "\n"
     ]
    },
    {
     "name": "stderr",
     "output_type": "stream",
     "text": [
      "HTTP request sent, awaiting response... 403 Forbidden\n",
      "2024-06-09 15:25:05 ERROR 403: Forbidden.\n",
      "\n"
     ]
    },
    {
     "name": "stdout",
     "output_type": "stream",
     "text": [
      "Downloading dataset 3: ye_lupus_normal.h5ad\n",
      "\n"
     ]
    },
    {
     "name": "stderr",
     "output_type": "stream",
     "text": [
      "--2024-06-09 15:25:05--  https://submissions-lattice.s3.us-west-1.amazonaws.com/may2022_blood_kidney/AnnData/RNA/ye_lupus_normal.h5ad\n",
      "Resolving submissions-lattice.s3.us-west-1.amazonaws.com (submissions-lattice.s3.us-west-1.amazonaws.com)... 3.5.161.120, 3.5.163.130, 3.5.163.195, ...\n",
      "Connecting to submissions-lattice.s3.us-west-1.amazonaws.com (submissions-lattice.s3.us-west-1.amazonaws.com)|3.5.161.120|:443... connected.\n",
      "HTTP request sent, awaiting response... 403 Forbidden\n",
      "2024-06-09 15:25:05 ERROR 403: Forbidden.\n",
      "\n"
     ]
    },
    {
     "name": "stdout",
     "output_type": "stream",
     "text": [
      "Downloading dataset 4: 10_1126_scitranslmed_abh2624.h5ad\n",
      "\n"
     ]
    },
    {
     "name": "stderr",
     "output_type": "stream",
     "text": [
      "--2024-06-09 15:25:05--  https://submissions-lattice.s3.us-west-1.amazonaws.com/may2022_blood_kidney/AnnData/RNA/10_1126_scitranslmed_abh2624.h5ad\n",
      "Resolving submissions-lattice.s3.us-west-1.amazonaws.com (submissions-lattice.s3.us-west-1.amazonaws.com)... 52.219.194.50, 3.5.163.130, 3.5.163.195, ...\n",
      "Connecting to submissions-lattice.s3.us-west-1.amazonaws.com (submissions-lattice.s3.us-west-1.amazonaws.com)|52.219.194.50|:443... connected.\n",
      "HTTP request sent, awaiting response... 403 Forbidden\n",
      "2024-06-09 15:25:06 ERROR 403: Forbidden.\n",
      "\n"
     ]
    },
    {
     "name": "stdout",
     "output_type": "stream",
     "text": [
      "Downloading dataset 5: 10_1038_s41467_019_12464_3.h5ad\n",
      "\n"
     ]
    },
    {
     "name": "stderr",
     "output_type": "stream",
     "text": [
      "--2024-06-09 15:25:06--  https://submissions-lattice.s3.us-west-1.amazonaws.com/may2022_blood_kidney/AnnData/RNA/10_1038_s41467_019_12464_3.h5ad\n",
      "Resolving submissions-lattice.s3.us-west-1.amazonaws.com (submissions-lattice.s3.us-west-1.amazonaws.com)... 52.219.221.2, 3.5.163.130, 3.5.163.195, ...\n",
      "Connecting to submissions-lattice.s3.us-west-1.amazonaws.com (submissions-lattice.s3.us-west-1.amazonaws.com)|52.219.221.2|:443... connected.\n",
      "HTTP request sent, awaiting response... 403 Forbidden\n",
      "2024-06-09 15:25:06 ERROR 403: Forbidden.\n",
      "\n"
     ]
    },
    {
     "name": "stdout",
     "output_type": "stream",
     "text": [
      "Downloading dataset 6: 10_1101_2021_07_19_452956_blood.h5ad\n",
      "\n"
     ]
    },
    {
     "name": "stderr",
     "output_type": "stream",
     "text": [
      "--2024-06-09 15:25:06--  https://submissions-lattice.s3.us-west-1.amazonaws.com/may2022_blood_kidney/AnnData/RNA/10_1101_2021_07_19_452956_blood.h5ad\n",
      "Resolving submissions-lattice.s3.us-west-1.amazonaws.com (submissions-lattice.s3.us-west-1.amazonaws.com)... 52.219.121.122, 3.5.163.130, 3.5.163.195, ...\n",
      "Connecting to submissions-lattice.s3.us-west-1.amazonaws.com (submissions-lattice.s3.us-west-1.amazonaws.com)|52.219.121.122|:443... connected.\n",
      "HTTP request sent, awaiting response... 403 Forbidden\n",
      "2024-06-09 15:25:07 ERROR 403: Forbidden.\n",
      "\n",
      "--2024-06-09 15:25:07--  https://submissions-lattice.s3.us-west-1.amazonaws.com/may2022_blood_kidney/AnnData/RNA/10_1038_s41586_020_2157_4_blood.h5ad\n"
     ]
    },
    {
     "name": "stdout",
     "output_type": "stream",
     "text": [
      "Downloading dataset 7: 10_1038_s41586_020_2157_4_blood.h5ad\n",
      "\n"
     ]
    },
    {
     "name": "stderr",
     "output_type": "stream",
     "text": [
      "Resolving submissions-lattice.s3.us-west-1.amazonaws.com (submissions-lattice.s3.us-west-1.amazonaws.com)... 3.5.163.195, 3.5.163.130, 3.5.162.161, ...\n",
      "Connecting to submissions-lattice.s3.us-west-1.amazonaws.com (submissions-lattice.s3.us-west-1.amazonaws.com)|3.5.163.195|:443... connected.\n",
      "HTTP request sent, awaiting response... 403 Forbidden\n",
      "2024-06-09 15:25:07 ERROR 403: Forbidden.\n",
      "\n",
      "--2024-06-09 15:25:07--  https://submissions-lattice.s3.us-west-1.amazonaws.com/may2022_blood_kidney/AnnData/RNA/10_1016_j_cell_2021_01_053_convalescence.h5ad\n",
      "Resolving submissions-lattice.s3.us-west-1.amazonaws.com (submissions-lattice.s3.us-west-1.amazonaws.com)... 3.5.163.130, 3.5.162.161, 3.5.163.195, ...\n",
      "Connecting to submissions-lattice.s3.us-west-1.amazonaws.com (submissions-lattice.s3.us-west-1.amazonaws.com)|3.5.163.130|:443... "
     ]
    },
    {
     "name": "stdout",
     "output_type": "stream",
     "text": [
      "Downloading dataset 8: 10_1016_j_cell_2021_01_053_convalescence.h5ad\n",
      "\n"
     ]
    },
    {
     "name": "stderr",
     "output_type": "stream",
     "text": [
      "connected.\n",
      "HTTP request sent, awaiting response... 403 Forbidden\n",
      "2024-06-09 15:25:08 ERROR 403: Forbidden.\n",
      "\n",
      "--2024-06-09 15:25:08--  https://submissions-lattice.s3.us-west-1.amazonaws.com/may2022_blood_kidney/AnnData/RNA/10_1016_j_cell_2021_01_053_nonconvalescence.h5ad\n",
      "Resolving submissions-lattice.s3.us-west-1.amazonaws.com (submissions-lattice.s3.us-west-1.amazonaws.com)... 3.5.162.161, 3.5.163.130, 52.219.221.2, ...\n",
      "Connecting to submissions-lattice.s3.us-west-1.amazonaws.com (submissions-lattice.s3.us-west-1.amazonaws.com)|3.5.162.161|:443... connected.\n"
     ]
    },
    {
     "name": "stdout",
     "output_type": "stream",
     "text": [
      "Downloading dataset 9: 10_1016_j_cell_2021_01_053_nonconvalescence.h5ad\n",
      "\n"
     ]
    },
    {
     "name": "stderr",
     "output_type": "stream",
     "text": [
      "HTTP request sent, awaiting response... 403 Forbidden\n",
      "2024-06-09 15:25:08 ERROR 403: Forbidden.\n",
      "\n"
     ]
    },
    {
     "name": "stdout",
     "output_type": "stream",
     "text": [
      "Downloading dataset 10: 10_1038_s41591_020_0944_y.h5ad\n",
      "\n"
     ]
    },
    {
     "name": "stderr",
     "output_type": "stream",
     "text": [
      "--2024-06-09 15:25:08--  https://submissions-lattice.s3.us-west-1.amazonaws.com/may2022_blood_kidney/AnnData/RNA/10_1038_s41591_020_0944_y.h5ad\n",
      "Resolving submissions-lattice.s3.us-west-1.amazonaws.com (submissions-lattice.s3.us-west-1.amazonaws.com)... 3.5.162.161, 3.5.163.130, 52.219.221.2, ...\n",
      "Connecting to submissions-lattice.s3.us-west-1.amazonaws.com (submissions-lattice.s3.us-west-1.amazonaws.com)|3.5.162.161|:443... connected.\n",
      "HTTP request sent, awaiting response... 403 Forbidden\n",
      "2024-06-09 15:25:09 ERROR 403: Forbidden.\n",
      "\n"
     ]
    },
    {
     "name": "stdout",
     "output_type": "stream",
     "text": [
      "Downloading dataset 11: 10_1126_sciimmunol_abd1554.h5ad\n",
      "\n"
     ]
    },
    {
     "name": "stderr",
     "output_type": "stream",
     "text": [
      "--2024-06-09 15:25:09--  https://submissions-lattice.s3.us-west-1.amazonaws.com/may2022_blood_kidney/AnnData/RNA/10_1126_sciimmunol_abd1554.h5ad\n",
      "Resolving submissions-lattice.s3.us-west-1.amazonaws.com (submissions-lattice.s3.us-west-1.amazonaws.com)... 3.5.162.161, 3.5.163.130, 52.219.221.2, ...\n",
      "Connecting to submissions-lattice.s3.us-west-1.amazonaws.com (submissions-lattice.s3.us-west-1.amazonaws.com)|3.5.162.161|:443... connected.\n",
      "HTTP request sent, awaiting response... 403 Forbidden\n",
      "2024-06-09 15:25:09 ERROR 403: Forbidden.\n",
      "\n",
      "--2024-06-09 15:25:10--  https://submissions-lattice.s3.us-west-1.amazonaws.com/may2022_blood_kidney/AnnData/RNA/10_1016_j_cell_2021_02_018_adaptive.h5ad\n",
      "Resolving submissions-lattice.s3.us-west-1.amazonaws.com (submissions-lattice.s3.us-west-1.amazonaws.com)... 3.5.162.161, 3.5.163.130, 52.219.221.2, ...\n",
      "Connecting to submissions-lattice.s3.us-west-1.amazonaws.com (submissions-lattice.s3.us-west-1.amazonaws.com)|3.5.162.161|:443... "
     ]
    },
    {
     "name": "stdout",
     "output_type": "stream",
     "text": [
      "Downloading dataset 12: 10_1016_j_cell_2021_02_018_adaptive.h5ad\n",
      "\n"
     ]
    },
    {
     "name": "stderr",
     "output_type": "stream",
     "text": [
      "connected.\n",
      "HTTP request sent, awaiting response... 403 Forbidden\n",
      "2024-06-09 15:25:10 ERROR 403: Forbidden.\n",
      "\n",
      "--2024-06-09 15:25:10--  https://submissions-lattice.s3.us-west-1.amazonaws.com/may2022_blood_kidney/AnnData/RNA/10_1016_j_cell_2021_02_018_innate.h5ad\n",
      "Resolving submissions-lattice.s3.us-west-1.amazonaws.com (submissions-lattice.s3.us-west-1.amazonaws.com)... 3.5.162.161, 3.5.163.130, 52.219.221.2, ...\n",
      "Connecting to submissions-lattice.s3.us-west-1.amazonaws.com (submissions-lattice.s3.us-west-1.amazonaws.com)|3.5.162.161|:443... "
     ]
    },
    {
     "name": "stdout",
     "output_type": "stream",
     "text": [
      "Downloading dataset 13: 10_1016_j_cell_2021_02_018_innate.h5ad\n",
      "\n"
     ]
    },
    {
     "name": "stderr",
     "output_type": "stream",
     "text": [
      "connected.\n",
      "HTTP request sent, awaiting response... 403 Forbidden\n",
      "2024-06-09 15:25:11 ERROR 403: Forbidden.\n",
      "\n",
      "--2024-06-09 15:25:11--  https://submissions-lattice.s3.us-west-1.amazonaws.com/may2022_blood_kidney/AnnData/RNA/10_1038_s41586_020_2922_4_10x.h5ad\n",
      "Resolving submissions-lattice.s3.us-west-1.amazonaws.com (submissions-lattice.s3.us-west-1.amazonaws.com)... 3.5.162.161, 3.5.163.130, 52.219.221.2, ...\n",
      "Connecting to submissions-lattice.s3.us-west-1.amazonaws.com (submissions-lattice.s3.us-west-1.amazonaws.com)|3.5.162.161|:443... connected.\n"
     ]
    },
    {
     "name": "stdout",
     "output_type": "stream",
     "text": [
      "Downloading dataset 14: 10_1038_s41586_020_2922_4_10x.h5ad\n",
      "\n"
     ]
    },
    {
     "name": "stderr",
     "output_type": "stream",
     "text": [
      "HTTP request sent, awaiting response... 403 Forbidden\n",
      "2024-06-09 15:25:11 ERROR 403: Forbidden.\n",
      "\n"
     ]
    },
    {
     "name": "stdout",
     "output_type": "stream",
     "text": [
      "Downloading dataset 15: 10_1038_s41586_020_2922_4_smartseq2.h5ad\n",
      "\n"
     ]
    },
    {
     "name": "stderr",
     "output_type": "stream",
     "text": [
      "--2024-06-09 15:25:11--  https://submissions-lattice.s3.us-west-1.amazonaws.com/may2022_blood_kidney/AnnData/RNA/10_1038_s41586_020_2922_4_smartseq2.h5ad\n",
      "Resolving submissions-lattice.s3.us-west-1.amazonaws.com (submissions-lattice.s3.us-west-1.amazonaws.com)... 3.5.162.161, 3.5.163.130, 52.219.221.2, ...\n",
      "Connecting to submissions-lattice.s3.us-west-1.amazonaws.com (submissions-lattice.s3.us-west-1.amazonaws.com)|3.5.162.161|:443... connected.\n",
      "HTTP request sent, awaiting response... 403 Forbidden\n",
      "2024-06-09 15:25:12 ERROR 403: Forbidden.\n",
      "\n"
     ]
    },
    {
     "name": "stdout",
     "output_type": "stream",
     "text": [
      "Downloading dataset 16: 10_1016_j_cell_2022_01_012.h5ad\n",
      "\n"
     ]
    },
    {
     "name": "stderr",
     "output_type": "stream",
     "text": [
      "--2024-06-09 15:25:12--  https://submissions-lattice.s3.us-west-1.amazonaws.com/may2022_blood_kidney/AnnData/RNA/10_1016_j_cell_2022_01_012.h5ad\n",
      "Resolving submissions-lattice.s3.us-west-1.amazonaws.com (submissions-lattice.s3.us-west-1.amazonaws.com)... 3.5.162.161, 3.5.163.130, 52.219.221.2, ...\n",
      "Connecting to submissions-lattice.s3.us-west-1.amazonaws.com (submissions-lattice.s3.us-west-1.amazonaws.com)|3.5.162.161|:443... connected.\n",
      "HTTP request sent, awaiting response... 403 Forbidden\n",
      "2024-06-09 15:25:12 ERROR 403: Forbidden.\n",
      "\n"
     ]
    },
    {
     "name": "stdout",
     "output_type": "stream",
     "text": [
      "Downloading dataset 17: 10_1016_j_cell_2020_08_001.h5ad\n",
      "\n"
     ]
    },
    {
     "name": "stderr",
     "output_type": "stream",
     "text": [
      "--2024-06-09 15:25:12--  https://submissions-lattice.s3.us-west-1.amazonaws.com/may2022_blood_kidney/AnnData/RNA/10_1016_j_cell_2020_08_001.h5ad\n",
      "Resolving submissions-lattice.s3.us-west-1.amazonaws.com (submissions-lattice.s3.us-west-1.amazonaws.com)... 3.5.162.161, 3.5.163.130, 52.219.221.2, ...\n",
      "Connecting to submissions-lattice.s3.us-west-1.amazonaws.com (submissions-lattice.s3.us-west-1.amazonaws.com)|3.5.162.161|:443... connected.\n",
      "HTTP request sent, awaiting response... 403 Forbidden\n",
      "2024-06-09 15:25:13 ERROR 403: Forbidden.\n",
      "\n"
     ]
    },
    {
     "name": "stdout",
     "output_type": "stream",
     "text": [
      "Downloading dataset 18: 10_1126_science_abc6261.h5ad\n",
      "\n"
     ]
    },
    {
     "name": "stderr",
     "output_type": "stream",
     "text": [
      "--2024-06-09 15:25:13--  https://submissions-lattice.s3.us-west-1.amazonaws.com/may2022_blood_kidney/AnnData/RNA/10_1126_science_abc6261.h5ad\n",
      "Resolving submissions-lattice.s3.us-west-1.amazonaws.com (submissions-lattice.s3.us-west-1.amazonaws.com)... 3.5.162.161, 3.5.163.130, 52.219.221.2, ...\n",
      "Connecting to submissions-lattice.s3.us-west-1.amazonaws.com (submissions-lattice.s3.us-west-1.amazonaws.com)|3.5.162.161|:443... connected.\n",
      "HTTP request sent, awaiting response... 403 Forbidden\n",
      "2024-06-09 15:25:13 ERROR 403: Forbidden.\n",
      "\n"
     ]
    },
    {
     "name": "stdout",
     "output_type": "stream",
     "text": [
      "Downloading dataset 19: 10_1038_s41467_020_17834_w.h5ad\n",
      "\n"
     ]
    },
    {
     "name": "stderr",
     "output_type": "stream",
     "text": [
      "--2024-06-09 15:25:14--  https://submissions-lattice.s3.us-west-1.amazonaws.com/may2022_blood_kidney/AnnData/RNA/10_1038_s41467_020_17834_w.h5ad\n",
      "Resolving submissions-lattice.s3.us-west-1.amazonaws.com (submissions-lattice.s3.us-west-1.amazonaws.com)... 3.5.162.161, 3.5.163.130, 52.219.221.2, ...\n",
      "Connecting to submissions-lattice.s3.us-west-1.amazonaws.com (submissions-lattice.s3.us-west-1.amazonaws.com)|3.5.162.161|:443... connected.\n",
      "HTTP request sent, awaiting response... 403 Forbidden\n",
      "2024-06-09 15:25:14 ERROR 403: Forbidden.\n",
      "\n",
      "--2024-06-09 15:25:14--  https://submissions-lattice.s3.us-west-1.amazonaws.com/may2022_blood_kidney/AnnData/RNA/powell_eqtl.h5ad\n",
      "Resolving submissions-lattice.s3.us-west-1.amazonaws.com (submissions-lattice.s3.us-west-1.amazonaws.com)... 3.5.162.161, 3.5.163.130, 52.219.221.2, ...\n",
      "Connecting to submissions-lattice.s3.us-west-1.amazonaws.com (submissions-lattice.s3.us-west-1.amazonaws.com)|3.5.162.161|:443... "
     ]
    },
    {
     "name": "stdout",
     "output_type": "stream",
     "text": [
      "Downloading dataset 20: powell_eqtl.h5ad\n",
      "\n"
     ]
    },
    {
     "name": "stderr",
     "output_type": "stream",
     "text": [
      "connected.\n",
      "HTTP request sent, awaiting response... 403 Forbidden\n",
      "2024-06-09 15:25:15 ERROR 403: Forbidden.\n",
      "\n",
      "--2024-06-09 15:25:15--  https://submissions-lattice.s3.us-west-1.amazonaws.com/may2022_blood_kidney/AnnData/RNA/10_1038_s41586_021_04345_x.h5ad\n",
      "Resolving submissions-lattice.s3.us-west-1.amazonaws.com (submissions-lattice.s3.us-west-1.amazonaws.com)... 3.5.162.161, 3.5.163.130, 52.219.221.2, ...\n",
      "Connecting to submissions-lattice.s3.us-west-1.amazonaws.com (submissions-lattice.s3.us-west-1.amazonaws.com)|3.5.162.161|:443... connected.\n"
     ]
    },
    {
     "name": "stdout",
     "output_type": "stream",
     "text": [
      "Downloading dataset 21: 10_1038_s41586_021_04345_x.h5ad\n",
      "\n"
     ]
    },
    {
     "name": "stderr",
     "output_type": "stream",
     "text": [
      "HTTP request sent, awaiting response... 403 Forbidden\n",
      "2024-06-09 15:25:15 ERROR 403: Forbidden.\n",
      "\n"
     ]
    },
    {
     "name": "stdout",
     "output_type": "stream",
     "text": [
      "Downloading dataset 22: 10_1016_j_immuni_2021_03_005_49y2d.h5ad\n",
      "\n"
     ]
    },
    {
     "name": "stderr",
     "output_type": "stream",
     "text": [
      "--2024-06-09 15:25:15--  https://submissions-lattice.s3.us-west-1.amazonaws.com/may2022_blood_kidney/AnnData/RNA/10_1016_j_immuni_2021_03_005_49y2d.h5ad\n",
      "Resolving submissions-lattice.s3.us-west-1.amazonaws.com (submissions-lattice.s3.us-west-1.amazonaws.com)... 3.5.162.161, 3.5.163.130, 52.219.221.2, ...\n",
      "Connecting to submissions-lattice.s3.us-west-1.amazonaws.com (submissions-lattice.s3.us-west-1.amazonaws.com)|3.5.162.161|:443... connected.\n",
      "HTTP request sent, awaiting response... 403 Forbidden\n",
      "2024-06-09 15:25:16 ERROR 403: Forbidden.\n",
      "\n"
     ]
    },
    {
     "name": "stdout",
     "output_type": "stream",
     "text": [
      "Downloading dataset 23: 10_1016_j_immuni_2021_03_005_49y3d.h5ad\n",
      "\n"
     ]
    },
    {
     "name": "stderr",
     "output_type": "stream",
     "text": [
      "--2024-06-09 15:25:16--  https://submissions-lattice.s3.us-west-1.amazonaws.com/may2022_blood_kidney/AnnData/RNA/10_1016_j_immuni_2021_03_005_49y3d.h5ad\n",
      "Resolving submissions-lattice.s3.us-west-1.amazonaws.com (submissions-lattice.s3.us-west-1.amazonaws.com)... 3.5.162.161, 3.5.163.130, 52.219.221.2, ...\n",
      "Connecting to submissions-lattice.s3.us-west-1.amazonaws.com (submissions-lattice.s3.us-west-1.amazonaws.com)|3.5.162.161|:443... connected.\n",
      "HTTP request sent, awaiting response... 403 Forbidden\n",
      "2024-06-09 15:25:16 ERROR 403: Forbidden.\n",
      "\n"
     ]
    },
    {
     "name": "stdout",
     "output_type": "stream",
     "text": [
      "Downloading dataset 24: 10_1016_j_immuni_2021_03_005_66y2d.h5ad\n",
      "\n"
     ]
    },
    {
     "name": "stderr",
     "output_type": "stream",
     "text": [
      "--2024-06-09 15:25:16--  https://submissions-lattice.s3.us-west-1.amazonaws.com/may2022_blood_kidney/AnnData/RNA/10_1016_j_immuni_2021_03_005_66y2d.h5ad\n",
      "Resolving submissions-lattice.s3.us-west-1.amazonaws.com (submissions-lattice.s3.us-west-1.amazonaws.com)... 3.5.162.161, 3.5.163.130, 52.219.221.2, ...\n",
      "Connecting to submissions-lattice.s3.us-west-1.amazonaws.com (submissions-lattice.s3.us-west-1.amazonaws.com)|3.5.162.161|:443... connected.\n",
      "HTTP request sent, awaiting response... 403 Forbidden\n",
      "2024-06-09 15:25:17 ERROR 403: Forbidden.\n",
      "\n"
     ]
    },
    {
     "name": "stdout",
     "output_type": "stream",
     "text": [
      "Downloading dataset 25: 10_1016_j_immuni_2021_03_005_66y4d.h5ad\n",
      "\n"
     ]
    },
    {
     "name": "stderr",
     "output_type": "stream",
     "text": [
      "--2024-06-09 15:25:17--  https://submissions-lattice.s3.us-west-1.amazonaws.com/may2022_blood_kidney/AnnData/RNA/10_1016_j_immuni_2021_03_005_66y4d.h5ad\n",
      "Resolving submissions-lattice.s3.us-west-1.amazonaws.com (submissions-lattice.s3.us-west-1.amazonaws.com)... 3.5.162.161, 3.5.163.130, 52.219.221.2, ...\n",
      "Connecting to submissions-lattice.s3.us-west-1.amazonaws.com (submissions-lattice.s3.us-west-1.amazonaws.com)|3.5.162.161|:443... connected.\n",
      "HTTP request sent, awaiting response... 403 Forbidden\n",
      "2024-06-09 15:25:18 ERROR 403: Forbidden.\n",
      "\n",
      "--2024-06-09 15:25:18--  https://submissions-lattice.s3.us-west-1.amazonaws.com/may2022_blood_kidney/AnnData/RNA/10_1016_j_immuni_2021_03_005_74y3d.h5ad\n",
      "Resolving submissions-lattice.s3.us-west-1.amazonaws.com (submissions-lattice.s3.us-west-1.amazonaws.com)... "
     ]
    },
    {
     "name": "stdout",
     "output_type": "stream",
     "text": [
      "Downloading dataset 26: 10_1016_j_immuni_2021_03_005_74y3d.h5ad\n",
      "\n"
     ]
    },
    {
     "name": "stderr",
     "output_type": "stream",
     "text": [
      "3.5.162.161, 3.5.163.130, 52.219.221.2, ...\n",
      "Connecting to submissions-lattice.s3.us-west-1.amazonaws.com (submissions-lattice.s3.us-west-1.amazonaws.com)|3.5.162.161|:443... connected.\n",
      "HTTP request sent, awaiting response... 403 Forbidden\n",
      "2024-06-09 15:25:18 ERROR 403: Forbidden.\n",
      "\n",
      "--2024-06-09 15:25:18--  https://submissions-lattice.s3.us-west-1.amazonaws.com/may2022_blood_kidney/AnnData/RNA/10_1016_j_immuni_2021_03_005_74y4d.h5ad\n",
      "Resolving submissions-lattice.s3.us-west-1.amazonaws.com (submissions-lattice.s3.us-west-1.amazonaws.com)... 3.5.162.161, 3.5.163.130, 52.219.221.2, ...\n",
      "Connecting to submissions-lattice.s3.us-west-1.amazonaws.com (submissions-lattice.s3.us-west-1.amazonaws.com)|3.5.162.161|:443... "
     ]
    },
    {
     "name": "stdout",
     "output_type": "stream",
     "text": [
      "Downloading dataset 27: 10_1016_j_immuni_2021_03_005_74y4d.h5ad\n",
      "\n"
     ]
    },
    {
     "name": "stderr",
     "output_type": "stream",
     "text": [
      "connected.\n",
      "HTTP request sent, awaiting response... 403 Forbidden\n",
      "2024-06-09 15:25:19 ERROR 403: Forbidden.\n",
      "\n",
      "--2024-06-09 15:25:19--  https://submissions-lattice.s3.us-west-1.amazonaws.com/may2022_blood_kidney/AnnData/RNA/10_1016_j_immuni_2021_03_005_74y7d.h5ad\n",
      "Resolving submissions-lattice.s3.us-west-1.amazonaws.com (submissions-lattice.s3.us-west-1.amazonaws.com)... 3.5.162.161, 3.5.163.130, 52.219.221.2, ...\n",
      "Connecting to submissions-lattice.s3.us-west-1.amazonaws.com (submissions-lattice.s3.us-west-1.amazonaws.com)|3.5.162.161|:443... connected.\n"
     ]
    },
    {
     "name": "stdout",
     "output_type": "stream",
     "text": [
      "Downloading dataset 28: 10_1016_j_immuni_2021_03_005_74y7d.h5ad\n",
      "\n"
     ]
    },
    {
     "name": "stderr",
     "output_type": "stream",
     "text": [
      "HTTP request sent, awaiting response... 403 Forbidden\n",
      "2024-06-09 15:25:19 ERROR 403: Forbidden.\n",
      "\n"
     ]
    },
    {
     "name": "stdout",
     "output_type": "stream",
     "text": [
      "Downloading dataset 29: 10_1016_j_immuni_2021_03_005_66y3d.h5ad\n",
      "\n"
     ]
    },
    {
     "name": "stderr",
     "output_type": "stream",
     "text": [
      "--2024-06-09 15:25:19--  https://submissions-lattice.s3.us-west-1.amazonaws.com/may2022_blood_kidney/AnnData/RNA/10_1016_j_immuni_2021_03_005_66y3d.h5ad\n",
      "Resolving submissions-lattice.s3.us-west-1.amazonaws.com (submissions-lattice.s3.us-west-1.amazonaws.com)... 52.219.120.241, 52.219.113.82, 52.219.120.33, ...\n",
      "Connecting to submissions-lattice.s3.us-west-1.amazonaws.com (submissions-lattice.s3.us-west-1.amazonaws.com)|52.219.120.241|:443... connected.\n",
      "HTTP request sent, awaiting response... 403 Forbidden\n",
      "2024-06-09 15:25:19 ERROR 403: Forbidden.\n",
      "\n",
      "--2024-06-09 15:25:20--  https://submissions-lattice.s3.us-west-1.amazonaws.com/may2022_blood_kidney/AnnData/RNA/10_1016_j_immuni_2021_03_005_74y8d.h5ad\n",
      "Resolving submissions-lattice.s3.us-west-1.amazonaws.com (submissions-lattice.s3.us-west-1.amazonaws.com)... 3.5.162.13, 52.219.113.82, 52.219.120.33, ...\n",
      "Connecting to submissions-lattice.s3.us-west-1.amazonaws.com (submissions-lattice.s3.us-west-1.amazonaws.com)|3.5.162.13|:443... "
     ]
    },
    {
     "name": "stdout",
     "output_type": "stream",
     "text": [
      "Downloading dataset 30: 10_1016_j_immuni_2021_03_005_74y8d.h5ad\n",
      "\n"
     ]
    },
    {
     "name": "stderr",
     "output_type": "stream",
     "text": [
      "connected.\n",
      "HTTP request sent, awaiting response... 403 Forbidden\n",
      "2024-06-09 15:25:20 ERROR 403: Forbidden.\n",
      "\n",
      "--2024-06-09 15:25:20--  https://submissions-lattice.s3.us-west-1.amazonaws.com/may2022_blood_kidney/AnnData/RNA/10_1016_j_immuni_2021_03_005_49y1d.h5ad\n",
      "Resolving submissions-lattice.s3.us-west-1.amazonaws.com (submissions-lattice.s3.us-west-1.amazonaws.com)... 52.219.220.234, 52.219.113.82, 52.219.193.114, ...\n",
      "Connecting to submissions-lattice.s3.us-west-1.amazonaws.com (submissions-lattice.s3.us-west-1.amazonaws.com)|52.219.220.234|:443... "
     ]
    },
    {
     "name": "stdout",
     "output_type": "stream",
     "text": [
      "Downloading dataset 31: 10_1016_j_immuni_2021_03_005_49y1d.h5ad\n",
      "\n"
     ]
    },
    {
     "name": "stderr",
     "output_type": "stream",
     "text": [
      "connected.\n",
      "HTTP request sent, awaiting response... 403 Forbidden\n",
      "2024-06-09 15:25:20 ERROR 403: Forbidden.\n",
      "\n",
      "--2024-06-09 15:25:21--  https://submissions-lattice.s3.us-west-1.amazonaws.com/may2022_blood_kidney/AnnData/RNA/10_1016_j_immuni_2021_03_005_82y1d.h5ad\n",
      "Resolving submissions-lattice.s3.us-west-1.amazonaws.com (submissions-lattice.s3.us-west-1.amazonaws.com)... 52.219.192.50, 52.219.113.82, 52.219.193.114, ...\n",
      "Connecting to submissions-lattice.s3.us-west-1.amazonaws.com (submissions-lattice.s3.us-west-1.amazonaws.com)|52.219.192.50|:443... connected.\n"
     ]
    },
    {
     "name": "stdout",
     "output_type": "stream",
     "text": [
      "Downloading dataset 32: 10_1016_j_immuni_2021_03_005_82y1d.h5ad\n",
      "\n"
     ]
    },
    {
     "name": "stderr",
     "output_type": "stream",
     "text": [
      "HTTP request sent, awaiting response... 403 Forbidden\n",
      "2024-06-09 15:25:21 ERROR 403: Forbidden.\n",
      "\n"
     ]
    },
    {
     "name": "stdout",
     "output_type": "stream",
     "text": [
      "Downloading dataset 33: 10_1016_j_immuni_2021_03_005_66y7d.h5ad\n",
      "\n"
     ]
    },
    {
     "name": "stderr",
     "output_type": "stream",
     "text": [
      "--2024-06-09 15:25:21--  https://submissions-lattice.s3.us-west-1.amazonaws.com/may2022_blood_kidney/AnnData/RNA/10_1016_j_immuni_2021_03_005_66y7d.h5ad\n",
      "Resolving submissions-lattice.s3.us-west-1.amazonaws.com (submissions-lattice.s3.us-west-1.amazonaws.com)... 52.219.120.33, 52.219.113.82, 52.219.193.114, ...\n",
      "Connecting to submissions-lattice.s3.us-west-1.amazonaws.com (submissions-lattice.s3.us-west-1.amazonaws.com)|52.219.120.33|:443... connected.\n",
      "HTTP request sent, awaiting response... 403 Forbidden\n",
      "2024-06-09 15:25:21 ERROR 403: Forbidden.\n",
      "\n"
     ]
    }
   ],
   "source": [
    "metadata_df['file_path'] = np.nan\n",
    "for i in np.arange(metadata_df.shape[0]):\n",
    "    url = metadata_df['h5ad url'][i]\n",
    "    file_name = url.split(\"/\")[-1]\n",
    "    file_path = data_dir + file_name\n",
    "    if not os.path.exists(file_path):\n",
    "        print(f\"Downloading dataset {i+1}: {file_name}\\n\")\n",
    "        os.system(f'wget {url} -P {data_dir}')\n",
    "    if os.path.exists(file_path):\n",
    "        metadata_df['file_path'].iloc[i] = file_path"
   ]
  },
  {
   "cell_type": "code",
   "execution_count": 42,
   "metadata": {},
   "outputs": [],
   "source": [
    "metadata_df['file_path'] = np.nan\n",
    "for i in np.arange(metadata_df.shape[0]):\n",
    "    url = metadata_df['h5ad url'][i]\n",
    "    file_name = url.split(\"/\")[-1]\n",
    "    file_path = data_dir + file_name\n",
    "    if not os.path.exists(file_path):\n",
    "        print(f\"Downloading dataset {i+1}: {file_name}\\n\")\n",
    "        os.system(f'wget {url} -P {data_dir}')\n",
    "    if os.path.exists(file_path):\n",
    "        metadata_df['file_path'].iloc[i] = file_path"
   ]
  },
  {
   "cell_type": "markdown",
   "metadata": {},
   "source": [
    "### Collect sample info"
   ]
  },
  {
   "cell_type": "code",
   "execution_count": null,
   "metadata": {},
   "outputs": [],
   "source": [
    "print(metadata_df)"
   ]
  },
  {
   "cell_type": "code",
   "execution_count": 41,
   "metadata": {},
   "outputs": [
    {
     "name": "stdout",
     "output_type": "stream",
     "text": [
      "Loading dataset 1\n"
     ]
    },
    {
     "ename": "TypeError",
     "evalue": "expected str, bytes or os.PathLike object, not float64",
     "output_type": "error",
     "traceback": [
      "\u001b[0;31m---------------------------------------------------------------------------\u001b[0m",
      "\u001b[0;31mTypeError\u001b[0m                                 Traceback (most recent call last)",
      "Cell \u001b[0;32mIn[41], line 6\u001b[0m\n\u001b[1;32m      4\u001b[0m \u001b[38;5;28;01mfor\u001b[39;00m i \u001b[38;5;129;01min\u001b[39;00m np\u001b[38;5;241m.\u001b[39marange(metadata_df\u001b[38;5;241m.\u001b[39mshape[\u001b[38;5;241m0\u001b[39m]):\n\u001b[1;32m      5\u001b[0m     \u001b[38;5;28mprint\u001b[39m(\u001b[38;5;124mf\u001b[39m\u001b[38;5;124m\"\u001b[39m\u001b[38;5;124mLoading dataset \u001b[39m\u001b[38;5;132;01m{\u001b[39;00mi\u001b[38;5;241m+\u001b[39m\u001b[38;5;241m1\u001b[39m\u001b[38;5;132;01m}\u001b[39;00m\u001b[38;5;124m\"\u001b[39m)\n\u001b[0;32m----> 6\u001b[0m     adata \u001b[38;5;241m=\u001b[39m \u001b[43msc\u001b[49m\u001b[38;5;241;43m.\u001b[39;49m\u001b[43mread_h5ad\u001b[49m\u001b[43m(\u001b[49m\u001b[43mmetadata_df\u001b[49m\u001b[43m[\u001b[49m\u001b[38;5;124;43m'\u001b[39;49m\u001b[38;5;124;43mfile_path\u001b[39;49m\u001b[38;5;124;43m'\u001b[39;49m\u001b[43m]\u001b[49m\u001b[43m[\u001b[49m\u001b[43mi\u001b[49m\u001b[43m]\u001b[49m\u001b[43m,\u001b[49m\u001b[43m \u001b[49m\u001b[43mbacked\u001b[49m\u001b[38;5;241;43m=\u001b[39;49m\u001b[38;5;124;43m'\u001b[39;49m\u001b[38;5;124;43mr\u001b[39;49m\u001b[38;5;124;43m'\u001b[39;49m\u001b[43m)\u001b[49m\n\u001b[1;32m      7\u001b[0m     sample_id_col \u001b[38;5;241m=\u001b[39m metadata_df[\u001b[38;5;124m'\u001b[39m\u001b[38;5;124msample identifier column\u001b[39m\u001b[38;5;124m'\u001b[39m]\u001b[38;5;241m.\u001b[39miloc[i]\n\u001b[1;32m      8\u001b[0m     \u001b[38;5;28;01mif\u001b[39;00m \u001b[38;5;124m'\u001b[39m\u001b[38;5;124m + \u001b[39m\u001b[38;5;124m'\u001b[39m \u001b[38;5;129;01min\u001b[39;00m sample_id_col:\n",
      "File \u001b[0;32m/Library/Frameworks/Python.framework/Versions/3.11/lib/python3.11/site-packages/anndata/_io/h5ad.py:215\u001b[0m, in \u001b[0;36mread_h5ad\u001b[0;34m(filename, backed, as_sparse, as_sparse_fmt, chunk_size)\u001b[0m\n\u001b[1;32m    213\u001b[0m         mode \u001b[38;5;241m=\u001b[39m \u001b[38;5;124m\"\u001b[39m\u001b[38;5;124mr+\u001b[39m\u001b[38;5;124m\"\u001b[39m\n\u001b[1;32m    214\u001b[0m     \u001b[38;5;28;01massert\u001b[39;00m mode \u001b[38;5;129;01min\u001b[39;00m {\u001b[38;5;124m\"\u001b[39m\u001b[38;5;124mr\u001b[39m\u001b[38;5;124m\"\u001b[39m, \u001b[38;5;124m\"\u001b[39m\u001b[38;5;124mr+\u001b[39m\u001b[38;5;124m\"\u001b[39m}\n\u001b[0;32m--> 215\u001b[0m     \u001b[38;5;28;01mreturn\u001b[39;00m \u001b[43mread_h5ad_backed\u001b[49m\u001b[43m(\u001b[49m\u001b[43mfilename\u001b[49m\u001b[43m,\u001b[49m\u001b[43m \u001b[49m\u001b[43mmode\u001b[49m\u001b[43m)\u001b[49m\n\u001b[1;32m    217\u001b[0m \u001b[38;5;28;01mif\u001b[39;00m as_sparse_fmt \u001b[38;5;129;01mnot\u001b[39;00m \u001b[38;5;129;01min\u001b[39;00m (sparse\u001b[38;5;241m.\u001b[39mcsr_matrix, sparse\u001b[38;5;241m.\u001b[39mcsc_matrix):\n\u001b[1;32m    218\u001b[0m     \u001b[38;5;28;01mraise\u001b[39;00m \u001b[38;5;167;01mNotImplementedError\u001b[39;00m(\n\u001b[1;32m    219\u001b[0m         \u001b[38;5;124m\"\u001b[39m\u001b[38;5;124mDense formats can only be read to CSR or CSC matrices at this time.\u001b[39m\u001b[38;5;124m\"\u001b[39m\n\u001b[1;32m    220\u001b[0m     )\n",
      "File \u001b[0;32m/Library/Frameworks/Python.framework/Versions/3.11/lib/python3.11/site-packages/anndata/_io/h5ad.py:146\u001b[0m, in \u001b[0;36mread_h5ad_backed\u001b[0;34m(filename, mode)\u001b[0m\n\u001b[1;32m    143\u001b[0m \u001b[38;5;28;01mdef\u001b[39;00m \u001b[38;5;21mread_h5ad_backed\u001b[39m(filename: \u001b[38;5;28mstr\u001b[39m \u001b[38;5;241m|\u001b[39m Path, mode: Literal[\u001b[38;5;124m\"\u001b[39m\u001b[38;5;124mr\u001b[39m\u001b[38;5;124m\"\u001b[39m, \u001b[38;5;124m\"\u001b[39m\u001b[38;5;124mr+\u001b[39m\u001b[38;5;124m\"\u001b[39m]) \u001b[38;5;241m-\u001b[39m\u001b[38;5;241m>\u001b[39m AnnData:\n\u001b[1;32m    144\u001b[0m     d \u001b[38;5;241m=\u001b[39m \u001b[38;5;28mdict\u001b[39m(filename\u001b[38;5;241m=\u001b[39mfilename, filemode\u001b[38;5;241m=\u001b[39mmode)\n\u001b[0;32m--> 146\u001b[0m     f \u001b[38;5;241m=\u001b[39m \u001b[43mh5py\u001b[49m\u001b[38;5;241;43m.\u001b[39;49m\u001b[43mFile\u001b[49m\u001b[43m(\u001b[49m\u001b[43mfilename\u001b[49m\u001b[43m,\u001b[49m\u001b[43m \u001b[49m\u001b[43mmode\u001b[49m\u001b[43m)\u001b[49m\n\u001b[1;32m    148\u001b[0m     attributes \u001b[38;5;241m=\u001b[39m [\u001b[38;5;124m\"\u001b[39m\u001b[38;5;124mobsm\u001b[39m\u001b[38;5;124m\"\u001b[39m, \u001b[38;5;124m\"\u001b[39m\u001b[38;5;124mvarm\u001b[39m\u001b[38;5;124m\"\u001b[39m, \u001b[38;5;124m\"\u001b[39m\u001b[38;5;124mobsp\u001b[39m\u001b[38;5;124m\"\u001b[39m, \u001b[38;5;124m\"\u001b[39m\u001b[38;5;124mvarp\u001b[39m\u001b[38;5;124m\"\u001b[39m, \u001b[38;5;124m\"\u001b[39m\u001b[38;5;124muns\u001b[39m\u001b[38;5;124m\"\u001b[39m, \u001b[38;5;124m\"\u001b[39m\u001b[38;5;124mlayers\u001b[39m\u001b[38;5;124m\"\u001b[39m]\n\u001b[1;32m    149\u001b[0m     df_attributes \u001b[38;5;241m=\u001b[39m [\u001b[38;5;124m\"\u001b[39m\u001b[38;5;124mobs\u001b[39m\u001b[38;5;124m\"\u001b[39m, \u001b[38;5;124m\"\u001b[39m\u001b[38;5;124mvar\u001b[39m\u001b[38;5;124m\"\u001b[39m]\n",
      "File \u001b[0;32m/Library/Frameworks/Python.framework/Versions/3.11/lib/python3.11/site-packages/h5py/_hl/files.py:537\u001b[0m, in \u001b[0;36mFile.__init__\u001b[0;34m(self, name, mode, driver, libver, userblock_size, swmr, rdcc_nslots, rdcc_nbytes, rdcc_w0, track_order, fs_strategy, fs_persist, fs_threshold, fs_page_size, page_buf_size, min_meta_keep, min_raw_keep, locking, alignment_threshold, alignment_interval, meta_block_size, **kwds)\u001b[0m\n\u001b[1;32m    535\u001b[0m     name \u001b[38;5;241m=\u001b[39m \u001b[38;5;28mrepr\u001b[39m(name)\u001b[38;5;241m.\u001b[39mencode(\u001b[38;5;124m'\u001b[39m\u001b[38;5;124mASCII\u001b[39m\u001b[38;5;124m'\u001b[39m, \u001b[38;5;124m'\u001b[39m\u001b[38;5;124mreplace\u001b[39m\u001b[38;5;124m'\u001b[39m)\n\u001b[1;32m    536\u001b[0m \u001b[38;5;28;01melse\u001b[39;00m:\n\u001b[0;32m--> 537\u001b[0m     name \u001b[38;5;241m=\u001b[39m \u001b[43mfilename_encode\u001b[49m\u001b[43m(\u001b[49m\u001b[43mname\u001b[49m\u001b[43m)\u001b[49m\n\u001b[1;32m    539\u001b[0m \u001b[38;5;28;01mif\u001b[39;00m track_order \u001b[38;5;129;01mis\u001b[39;00m \u001b[38;5;28;01mNone\u001b[39;00m:\n\u001b[1;32m    540\u001b[0m     track_order \u001b[38;5;241m=\u001b[39m h5\u001b[38;5;241m.\u001b[39mget_config()\u001b[38;5;241m.\u001b[39mtrack_order\n",
      "File \u001b[0;32m/Library/Frameworks/Python.framework/Versions/3.11/lib/python3.11/site-packages/h5py/_hl/compat.py:19\u001b[0m, in \u001b[0;36mfilename_encode\u001b[0;34m(filename)\u001b[0m\n\u001b[1;32m     11\u001b[0m \u001b[38;5;28;01mdef\u001b[39;00m \u001b[38;5;21mfilename_encode\u001b[39m(filename):\n\u001b[1;32m     12\u001b[0m \u001b[38;5;250m    \u001b[39m\u001b[38;5;124;03m\"\"\"\u001b[39;00m\n\u001b[1;32m     13\u001b[0m \u001b[38;5;124;03m    Encode filename for use in the HDF5 library.\u001b[39;00m\n\u001b[1;32m     14\u001b[0m \n\u001b[0;32m   (...)\u001b[0m\n\u001b[1;32m     17\u001b[0m \u001b[38;5;124;03m    filenames in h5py for more information.\u001b[39;00m\n\u001b[1;32m     18\u001b[0m \u001b[38;5;124;03m    \"\"\"\u001b[39;00m\n\u001b[0;32m---> 19\u001b[0m     filename \u001b[38;5;241m=\u001b[39m \u001b[43mfspath\u001b[49m\u001b[43m(\u001b[49m\u001b[43mfilename\u001b[49m\u001b[43m)\u001b[49m\n\u001b[1;32m     20\u001b[0m     \u001b[38;5;28;01mif\u001b[39;00m sys\u001b[38;5;241m.\u001b[39mplatform \u001b[38;5;241m==\u001b[39m \u001b[38;5;124m\"\u001b[39m\u001b[38;5;124mwin32\u001b[39m\u001b[38;5;124m\"\u001b[39m:\n\u001b[1;32m     21\u001b[0m         \u001b[38;5;28;01mif\u001b[39;00m \u001b[38;5;28misinstance\u001b[39m(filename, \u001b[38;5;28mstr\u001b[39m):\n",
      "\u001b[0;31mTypeError\u001b[0m: expected str, bytes or os.PathLike object, not float64"
     ]
    }
   ],
   "source": [
    "sample_obs_columns = ['sex', 'tissue', 'ethnicity', 'disease', 'assay', 'assay_ontology_term_id','sample_id', 'donor_id', 'dataset_id', 'development_stage']\n",
    "cell_obs_columns = ['cell_type']\n",
    "sample_obs_all = pd.DataFrame()\n",
    "for i in np.arange(metadata_df.shape[0]):\n",
    "    print(f\"Loading dataset {i+1}\")\n",
    "    adata = sc.read_h5ad(metadata_df['file_path'][i], backed='r')\n",
    "    sample_id_col = metadata_df['sample identifier column'].iloc[i]\n",
    "    if ' + ' in sample_id_col:\n",
    "        adata.obs['sample_id'] = adata.obs[sample_id_col.split(\" + \")].astype(\"str\").agg('-'.join, axis=1)\n",
    "    else:\n",
    "        adata.obs['sample_id'] = adata.obs[sample_id_col].values\n",
    "    adata.obs['donor_id'] = adata.obs[metadata_df['donor identifier column'].iloc[i]]\n",
    "    adata.obs['dataset_id'] = metadata_df['Dataset ID'].iloc[i]\n",
    "    sample_obs = adata.obs[sample_obs_columns].groupby('sample_id').first()\n",
    "    sample_obs['n_cells'] = adata.obs[sample_obs_columns].groupby('sample_id').size()\n",
    "    sample_obs.index = sample_obs.index.astype('str')\n",
    "    sample_obs_all = pd.concat([sample_obs_all, sample_obs])"
   ]
  }
 ],
 "metadata": {
  "kernelspec": {
   "display_name": "Python 3",
   "language": "python",
   "name": "python3"
  },
  "language_info": {
   "codemirror_mode": {
    "name": "ipython",
    "version": 3
   },
   "file_extension": ".py",
   "mimetype": "text/x-python",
   "name": "python",
   "nbconvert_exporter": "python",
   "pygments_lexer": "ipython3",
   "version": "3.11.4"
  }
 },
 "nbformat": 4,
 "nbformat_minor": 2
}
