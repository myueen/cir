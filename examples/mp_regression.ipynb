{
 "cells": [
  {
   "cell_type": "markdown",
   "metadata": {},
   "source": [
    "### Mouse Protein dataset regression (accuracy)"
   ]
  },
  {
   "cell_type": "markdown",
   "metadata": {},
   "source": [
    "The 'Data_Cortex_Nuclear.csv' dataset is from the **abidlabs/contrastive** Github repository: https://github.com/abidlabs/contrastive/blob/master/experiments/datasets/Data_Cortex_Nuclear.csv"
   ]
  },
  {
   "cell_type": "code",
   "execution_count": null,
   "metadata": {},
   "outputs": [],
   "source": [
    "%pip install contrastive-inverse-regression"
   ]
  },
  {
   "cell_type": "code",
   "execution_count": 2,
   "metadata": {},
   "outputs": [
    {
     "name": "stdout",
     "output_type": "stream",
     "text": [
      "CIR......\n"
     ]
    },
    {
     "name": "stderr",
     "output_type": "stream",
     "text": [
      "/Users/lianama/Library/Python/3.10/lib/python/site-packages/numpy/core/fromnumeric.py:3432: RuntimeWarning: Mean of empty slice.\n",
      "  return _methods._mean(a, axis=axis, dtype=dtype,\n",
      "/Users/lianama/Library/Python/3.10/lib/python/site-packages/numpy/core/_methods.py:182: RuntimeWarning: invalid value encountered in divide\n",
      "  ret = um.true_divide(\n"
     ]
    },
    {
     "name": "stdout",
     "output_type": "stream",
     "text": [
      "---------------------------------------------------\n",
      "\n",
      "Results for Scaled Gradient Projection Method \n",
      "\n",
      "---------------------------------------------------\n",
      "\n",
      "   Obj. function = 2.411595e+00\n",
      "\n",
      "   Gradient norm = 9.463887e-04 \n",
      "\n",
      "   ||X^T*X-I||_F = 2.49e-16\n",
      "\n",
      "   Iteration number = 3000\n",
      "\n",
      "   Cpu time (secs) = 52.1963\n",
      "\n",
      "   Number of evaluation(Obj. func) = 3238\n",
      "\n",
      "this is CIR_KNN  [0.7497727272727273]\n",
      "This is mean  0.7497727272727273\n",
      "This is standard deviation 0.0\n"
     ]
    },
    {
     "name": "stderr",
     "output_type": "stream",
     "text": [
      "/Users/lianama/Library/Python/3.10/lib/python/site-packages/numpy/core/fromnumeric.py:3432: RuntimeWarning: Mean of empty slice.\n",
      "  return _methods._mean(a, axis=axis, dtype=dtype,\n",
      "/Users/lianama/Library/Python/3.10/lib/python/site-packages/numpy/core/_methods.py:182: RuntimeWarning: invalid value encountered in divide\n",
      "  ret = um.true_divide(\n"
     ]
    },
    {
     "name": "stdout",
     "output_type": "stream",
     "text": [
      "---------------------------------------------------\n",
      "\n",
      "Results for Scaled Gradient Projection Method \n",
      "\n",
      "---------------------------------------------------\n",
      "\n",
      "   Obj. function = 2.411540e+00\n",
      "\n",
      "   Gradient norm = 1.858041e-04 \n",
      "\n",
      "   ||X^T*X-I||_F = 2.25e-16\n",
      "\n",
      "   Iteration number = 3000\n",
      "\n",
      "   Cpu time (secs) = 4.8057\n",
      "\n",
      "   Number of evaluation(Obj. func) = 3354\n",
      "\n",
      "this is CIR_Tree  [0.7099025974025975]\n",
      "This is mean  0.7099025974025975\n",
      "This is standard deviation  0.0\n"
     ]
    }
   ],
   "source": [
    "import numpy as np\n",
    "import pandas as pd\n",
    "from sklearn.neighbors import KNeighborsClassifier\n",
    "from sklearn.model_selection import cross_val_score, KFold\n",
    "from sklearn.tree import DecisionTreeClassifier\n",
    "import contrastive_inverse_regression\n",
    "from contrastive_inverse_regression import CIR\n",
    "\n",
    "\n",
    "data = pd.read_csv('datasets/Data_Cortex_Nuclear.csv')\n",
    "\n",
    "# foreground data\n",
    "fg = data.dropna()\n",
    "\n",
    "# foreground label\n",
    "Y = fg['class']\n",
    "Y = pd.Categorical(Y)\n",
    "Y = Y.rename_categories({'c-CS-m': '0', 'c-CS-s': '1', 'c-SC-m': '2', 'c-SC-s': '3',\n",
    "                         't-CS-m': '4', 't-CS-s': '5', 't-SC-m': '6', 't-SC-s': '7'})\n",
    "Y = Y.astype(float)\n",
    "labels = np.unique(Y)      # set of unique foreground labels\n",
    "\n",
    "# foreground slices\n",
    "L = len(labels)         # number of foreground classes/slices\n",
    "fg = fg.iloc[:, 1:78]\n",
    "n = fg.shape[0]  # foreground sample size\n",
    "X = fg - np.mean(fg, axis=0)\n",
    "X = X.values\n",
    "\n",
    "# background data\n",
    "bg = data[data['Genotype'] == 'Control'].copy()\n",
    "bg = bg.dropna()\n",
    "\n",
    "# background label\n",
    "Yt = bg['Behavior']\n",
    "Yt = pd.Categorical(Yt)\n",
    "Yt = Yt.rename_categories({'C/S': '0', 'S/C': '1'})\n",
    "Yt = Yt.astype(float)\n",
    "labelst = np.unique(Yt)   # set of unique background labels\n",
    "Lt = len(labelst)       # number of background classes/slices\n",
    "bg = bg.iloc[:, 1:78]\n",
    "m, p = bg.shape\n",
    "\n",
    "# tuning parameter\n",
    "alpha = 0.0002\n",
    "d = 2\n",
    "\n",
    "print(\"CIR......\")\n",
    "accurary_group = []\n",
    "\n",
    "\n",
    "for i in range(1):\n",
    "    V_CIR = CIR(fg, Y, bg, Yt, alpha, d)\n",
    "    X_CIR = X @ V_CIR\n",
    "    mdl_CIR_KNN = KNeighborsClassifier(n_neighbors=1)\n",
    "    # kf = KFold(n_splits=10)\n",
    "    # kf = KFold(n_splits=10, shuffle=True, random_state=42)\n",
    "    cross_val_results = cross_val_score(\n",
    "        mdl_CIR_KNN, X_CIR, Y, cv=10, scoring='accuracy')\n",
    "    # print(cross_val_results)\n",
    "    Accuracy_CIR_KNN = np.mean(cross_val_results)\n",
    "    accurary_group.append(Accuracy_CIR_KNN)\n",
    "\n",
    "print(\"this is CIR_KNN \", accurary_group)\n",
    "print(\"This is mean \", np.mean(accurary_group))\n",
    "print(\"This is standard deviation\", np.std(accurary_group))\n",
    "\n",
    "\n",
    "accurary_group_tree = []\n",
    "\n",
    "for i in range(1):\n",
    "    V_CIR = CIR(fg, Y, bg, Yt, alpha, d)\n",
    "    X_CIR = X @ V_CIR\n",
    "    mdl_CIR_Tree = DecisionTreeClassifier()\n",
    "    # kf = KFold(n_splits=10)\n",
    "    # kf = KFold(n_splits=10, shuffle=True, random_state=42)\n",
    "    cross_val_results = cross_val_score(\n",
    "        mdl_CIR_Tree, X_CIR, Y, cv=10, scoring='accuracy')\n",
    "    # print(cross_val_results)\n",
    "    Accuracy_CIR_Tree = cross_val_results.mean()\n",
    "    accurary_group_tree.append(Accuracy_CIR_Tree)\n",
    "\n",
    "print(\"this is CIR_Tree \", accurary_group_tree)\n",
    "print(\"This is mean \", np.mean(accurary_group_tree))\n",
    "print(\"This is standard deviation \", np.std(accurary_group_tree))\n"
   ]
  }
 ],
 "metadata": {
  "kernelspec": {
   "display_name": "Python 3",
   "language": "python",
   "name": "python3"
  },
  "language_info": {
   "codemirror_mode": {
    "name": "ipython",
    "version": 3
   },
   "file_extension": ".py",
   "mimetype": "text/x-python",
   "name": "python",
   "nbconvert_exporter": "python",
   "pygments_lexer": "ipython3",
   "version": "3.10.6"
  }
 },
 "nbformat": 4,
 "nbformat_minor": 2
}
