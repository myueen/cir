{
 "cells": [
  {
   "cell_type": "code",
   "execution_count": 1,
   "id": "70d0e0b3-2d4b-4fe7-adbe-35a649bb8a8b",
   "metadata": {},
   "outputs": [],
   "source": [
    "%load_ext autoreload\n",
    "%autoreload 2"
   ]
  },
  {
   "cell_type": "code",
   "execution_count": 2,
   "id": "63216f9c-b826-497a-9957-c550a857f8cb",
   "metadata": {},
   "outputs": [],
   "source": [
    "import os,sys\n",
    "import scanpy as sc \n",
    "import pandas as pd\n",
    "import numpy as np\n",
    "import scipy\n",
    "import anndata"
   ]
  },
  {
   "cell_type": "code",
   "execution_count": 3,
   "id": "ebf3e4e4-ac7a-48a9-a9b4-d94e440c50f9",
   "metadata": {},
   "outputs": [],
   "source": [
    "# this code chunk is from Github https://github.com/MarioniLab/oor_design_reproducibility\n",
    "# check X stores raw counts \n",
    "def _check_counts_in_X(adata):\n",
    "    return(all(np.random.choice(adata.X.data, 100) % 1 == 0))\n",
    "\n",
    "def _clean_adata(a):\n",
    "    ## Make obs_names unique\n",
    "    a.obs_names = a.obs['dataset_id'].astype('str') + '-' + a.obs_names.astype(\"str\")\n",
    "    assert _check_counts_in_X(a)\n",
    "\n",
    "    sc.pp.calculate_qc_metrics(a, inplace=True)\n",
    "    sc.pp.filter_cells(a, min_counts=1000)\n",
    "    return(a)"
   ]
  },
  {
   "cell_type": "markdown",
   "id": "7ca17dee-69ff-43b6-891d-f99f7a52698e",
   "metadata": {},
   "source": [
    "### COVID dataset"
   ]
  },
  {
   "cell_type": "code",
   "execution_count": 4,
   "id": "b7a86535-e706-4a15-a4c7-a6df0d95019f",
   "metadata": {},
   "outputs": [],
   "source": [
    "h5ad_files_covid = 'PBMC_COVID.subsample500cells.covid.h5ad'\n",
    "\n",
    "adata_covid = sc.read_h5ad(h5ad_files_covid)\n",
    "cleaned_covid = _clean_adata(adata_covid)"
   ]
  },
  {
   "cell_type": "markdown",
   "id": "531cc7ba-1c1e-4016-8234-995aea4e7538",
   "metadata": {},
   "source": [
    "### Control Dataset"
   ]
  },
  {
   "cell_type": "code",
   "execution_count": 5,
   "id": "074b0df9-4122-4de1-a8a0-5bb19e4a7eb1",
   "metadata": {},
   "outputs": [],
   "source": [
    "h5ad_files_ctrl = 'PBMC_COVID.subsample500cells.ctrl.h5ad'\n",
    "\n",
    "adata_ctrl = sc.read_h5ad(h5ad_files_ctrl)\n",
    "cleaned_ctrl = _clean_adata(adata_ctrl)"
   ]
  },
  {
   "cell_type": "markdown",
   "id": "99cdeabd-9d96-4fa4-a745-f3ad2533f5c1",
   "metadata": {},
   "source": [
    "# Get raw data \n",
    "Before cell-type selection and gene selection"
   ]
  },
  {
   "cell_type": "code",
   "execution_count": 6,
   "id": "a476919d-8796-4910-becd-acc028c647fd",
   "metadata": {},
   "outputs": [],
   "source": [
    "# sparse matrix (main) \n",
    "expression_covid = cleaned_covid.X\n",
    "expression_control = cleaned_ctrl.X\n",
    "\n",
    "# for observation (e.g., cells) and annotation\n",
    "annotations_covid = cleaned_covid.obs\n",
    "annotations_control = cleaned_ctrl.obs"
   ]
  },
  {
   "cell_type": "code",
   "execution_count": 7,
   "id": "7221c9bf-609e-46f1-b2be-b3d6ce7c0f3b",
   "metadata": {},
   "outputs": [],
   "source": [
    "# turn sparse matrix into dataframe\n",
    "expression_covid_array = expression_covid.toarray()\n",
    "expression_covid_df = pd.DataFrame(expression_covid_array)\n",
    "\n",
    "expression_control_array = expression_control.toarray()\n",
    "expression_control_df = pd.DataFrame(expression_control_array)\n",
    "\n",
    "raw_X = expression_covid_df\n",
    "raw_Xt = expression_control_df"
   ]
  },
  {
   "cell_type": "markdown",
   "id": "8e39244c-4478-4248-ac8f-81a035125070",
   "metadata": {},
   "source": [
    "cell type label responses"
   ]
  },
  {
   "cell_type": "code",
   "execution_count": 8,
   "id": "e9ee03e0-1128-49c4-882c-ccc797cc0445",
   "metadata": {},
   "outputs": [],
   "source": [
    "raw_Y = annotations_covid['cell_type'].values     # categorical datatype \n",
    "raw_Yt = annotations_control['cell_type']\n",
    "\n",
    "raw_Y = pd.Series(raw_Y)\n",
    "raw_Yt = pd.Series(raw_Yt)\n",
    "\n",
    "raw_Y = pd.DataFrame(raw_Y)\n",
    "raw_Yt = pd.DataFrame(raw_Yt)"
   ]
  },
  {
   "cell_type": "code",
   "execution_count": 9,
   "id": "95fe186d-add0-44e3-b4fb-d18fbb6aa740",
   "metadata": {},
   "outputs": [
    {
     "name": "stdout",
     "output_type": "stream",
     "text": [
      "(48083, 24727)\n",
      "(14426, 24727)\n",
      "(48083, 1)\n",
      "(14426, 1)\n"
     ]
    }
   ],
   "source": [
    "print(raw_X.shape)\n",
    "print(raw_Xt.shape)\n",
    "print(raw_Y.shape)\n",
    "print(raw_Yt.shape)"
   ]
  },
  {
   "cell_type": "code",
   "execution_count": 10,
   "id": "1d990a1b-d05e-4491-af73-0d2731a3381d",
   "metadata": {},
   "outputs": [],
   "source": [
    "# raw_X.to_csv(\"COVID_raw_foreground_X.csv\") \n",
    "# raw_Xt.to_csv(\"COVID_raw_background_Xt.csv\")\n",
    "# raw_Y.to_csv(\"COVID_raw_foreground_Y.csv\")\n",
    "# raw_Yt.to_csv(\"COVID_raw_background_Yt.csv\") "
   ]
  },
  {
   "cell_type": "markdown",
   "id": "1c9be248-ffc1-4e66-815a-5c897b39ebf8",
   "metadata": {},
   "source": [
    "# Foreground (COVID dataset)"
   ]
  },
  {
   "cell_type": "markdown",
   "id": "5f7c00a2-6de3-4691-807e-21ef0602b980",
   "metadata": {},
   "source": [
    "#### Expression_matrix_covid and annotations_covid"
   ]
  },
  {
   "cell_type": "markdown",
   "id": "5058265a-e6fe-439a-9d04-c9d07cc8c396",
   "metadata": {},
   "source": [
    "rows represent individual cells\n",
    "columns represent genes "
   ]
  },
  {
   "cell_type": "code",
   "execution_count": 11,
   "id": "7ca5dbaa-8c54-48d4-ac28-6c551f832e08",
   "metadata": {},
   "outputs": [],
   "source": [
    "expression_covid = cleaned_covid.X\n",
    "annotations_covid = cleaned_covid.obs   # for observations (e.g., cells)\n",
    "var_annotations_covid = cleaned_covid.var   # for variables (e.g., genes)"
   ]
  },
  {
   "cell_type": "code",
   "execution_count": 12,
   "id": "4f57d0d8-31d3-4b57-a673-2d92449c895e",
   "metadata": {},
   "outputs": [],
   "source": [
    "expression_covid_array = expression_covid.toarray()\n",
    "expression_covid_df = pd.DataFrame(expression_covid_array)"
   ]
  },
  {
   "cell_type": "markdown",
   "id": "15a64280-e505-4706-ae1d-feb1d6a7c083",
   "metadata": {},
   "source": [
    "#### Get Same Cell Type for fg and bg"
   ]
  },
  {
   "cell_type": "code",
   "execution_count": 13,
   "id": "152439d5-7e12-4447-8950-dec80d0be99b",
   "metadata": {},
   "outputs": [],
   "source": [
    "cell_type_covid = annotations_covid['cell_type']\n",
    "\n",
    "# check the unique cell type\n",
    "cell_type_covid_unique = set(cell_type_covid)\n",
    "\n",
    "# check the counts of each cell type\n",
    "cell_type_covid_total = cell_type_covid.value_counts()\n",
    "\n",
    "# get cell type with counts > 250 counts\n",
    "cell_type_covid_greater_than_250 = cell_type_covid_total[cell_type_covid_total > 250]"
   ]
  },
  {
   "cell_type": "markdown",
   "id": "f81965a8-fb24-455d-83c8-a5c60b21848c",
   "metadata": {},
   "source": [
    "#### background cell type"
   ]
  },
  {
   "cell_type": "code",
   "execution_count": 14,
   "id": "5b176d10-eae7-4751-9160-7614ebd87e16",
   "metadata": {},
   "outputs": [],
   "source": [
    "annotations_control = cleaned_ctrl.obs \n",
    "cell_type_control = annotations_control['cell_type']\n",
    "cell_type_control_total = cell_type_control.value_counts()"
   ]
  },
  {
   "cell_type": "code",
   "execution_count": 15,
   "id": "c5857aa5-3f10-4958-a39a-c2f8b3d9f679",
   "metadata": {},
   "outputs": [
    {
     "data": {
      "text/plain": [
       "array(['mature NK T cell', 'gamma-delta T cell', 'CD14-positive monocyte',\n",
       "       'platelet', 'effector CD8-positive, alpha-beta T cell',\n",
       "       'T-helper 22 cell',\n",
       "       'CD16-negative, CD56-bright natural killer cell, human',\n",
       "       'CD16-positive, CD56-dim natural killer cell, human',\n",
       "       'central memory CD4-positive, alpha-beta T cell',\n",
       "       'effector memory CD8-positive, alpha-beta T cell',\n",
       "       'mucosal invariant T cell', 'naive B cell',\n",
       "       'naive thymus-derived CD4-positive, alpha-beta T cell',\n",
       "       'naive thymus-derived CD8-positive, alpha-beta T cell'],\n",
       "      dtype=object)"
      ]
     },
     "execution_count": 15,
     "metadata": {},
     "output_type": "execute_result"
    }
   ],
   "source": [
    "cell_type_control_greater_than_250 = cell_type_control_total[cell_type_control_total > 250] \n",
    "\n",
    "intersection_cell_type = pd.Series(list(set(cell_type_covid_greater_than_250.index) & set(cell_type_control_greater_than_250.index)))\n",
    "intersection_cell_type.values"
   ]
  },
  {
   "cell_type": "markdown",
   "id": "536d1e56-2188-44c4-b044-672b8dd9fdec",
   "metadata": {},
   "source": [
    "### Get the Foreground X (COVID)"
   ]
  },
  {
   "cell_type": "code",
   "execution_count": 16,
   "id": "3b5dc606-571f-4110-acb0-1a79b8472b65",
   "metadata": {},
   "outputs": [
    {
     "data": {
      "text/plain": [
       "Index([ 6656,  6661, 11088, 11243, 13509, 14630, 18324, 21726, 22677, 24405,\n",
       "       24499, 24507, 24581, 25135, 25584, 26376, 27008, 28504, 28823, 28876,\n",
       "       30273, 34569, 34837, 35525, 36196, 36683, 42346, 42460, 44282, 44729,\n",
       "       45355, 46614, 47239, 47567],\n",
       "      dtype='int64')"
      ]
     },
     "execution_count": 16,
     "metadata": {},
     "output_type": "execute_result"
    }
   ],
   "source": [
    "annotations_covid_df = pd.DataFrame(annotations_covid)\n",
    "\n",
    "# Reset the index to get numeric indices\n",
    "annotations_covid_df.reset_index(drop=True, inplace=True)\n",
    "\n",
    "# check that it returns sets of indices for the certain cell type\n",
    "annotations_covid_df[annotations_covid_df['cell_type'] == 'dendritic cell'].index"
   ]
  },
  {
   "cell_type": "code",
   "execution_count": 17,
   "id": "9c233067-5506-44b7-822a-5d748a3b37be",
   "metadata": {},
   "outputs": [],
   "source": [
    "filtered_annotations_covid = annotations_covid_df[annotations_covid_df['cell_type'].isin(intersection_cell_type.values)]\n",
    "\n",
    "filtered_covid_indices = filtered_annotations_covid.index.to_list()\n",
    "# print(len(filtered_covid_indices))"
   ]
  },
  {
   "cell_type": "code",
   "execution_count": 18,
   "id": "d90c0567-c88d-49cd-b9dd-cc5ef95225cc",
   "metadata": {},
   "outputs": [],
   "source": [
    "# print(set(filtered_annotations_covid['cell_type']))"
   ]
  },
  {
   "cell_type": "code",
   "execution_count": 19,
   "id": "3f6e60ab-62f7-40af-b087-9e40d5f9478e",
   "metadata": {},
   "outputs": [],
   "source": [
    "filtered_expression_covid_df = expression_covid_df.iloc[filtered_covid_indices]"
   ]
  },
  {
   "cell_type": "markdown",
   "id": "72961247-c7a1-4638-a53a-a8d1b36816c8",
   "metadata": {},
   "source": [
    "### Get the foreground Y (COVID)"
   ]
  },
  {
   "cell_type": "code",
   "execution_count": 26,
   "id": "1d6fa6ef-7300-46f0-ad7e-dd2dd9a28f3d",
   "metadata": {},
   "outputs": [],
   "source": [
    "filtered_cell_type = filtered_annotations_covid['cell_type']\n",
    "unique_filtered_cell_type = set(filtered_cell_type)\n",
    "\n",
    "# print(len(filtered_cell_type))\n",
    "# print(len(unique_filtered_cell_type))"
   ]
  },
  {
   "cell_type": "code",
   "execution_count": 27,
   "id": "5e593aa1-9089-4c25-88dd-1399372c33bf",
   "metadata": {},
   "outputs": [],
   "source": [
    "COVID_cell_type = filtered_annotations_covid['cell_type']\n",
    "COVID_cell_type = pd.Categorical(COVID_cell_type)\n",
    "COVID_cell_type = COVID_cell_type.rename_categories({\n",
    "    'CD16-positive, CD56-dim natural killer cell, human': '1',\n",
    "    'mucosal invariant T cell': '2', \n",
    "    'effector memory CD8-positive, alpha-beta T cell': '3',\n",
    "    'platelet': '4',\n",
    "    'naive B cell': '5', \n",
    "    'T-helper 22 cell': '6',\n",
    "    'gamma-delta T cell': '7',\n",
    "    'CD16-negative, CD56-bright natural killer cell, human': '8',\n",
    "    'effector CD8-positive, alpha-beta T cell': '9',\n",
    "    'naive thymus-derived CD4-positive, alpha-beta T cell': '10',\n",
    "    'CD14-positive monocyte': '11',\n",
    "    'central memory CD4-positive, alpha-beta T cell': '12',\n",
    "    'naive thymus-derived CD8-positive, alpha-beta T cell': '13',\n",
    "    'mature NK T cell': '14'\n",
    "})\n",
    "    \n",
    "    \n",
    "\n",
    "# print(COVID_cell_type)"
   ]
  },
  {
   "cell_type": "code",
   "execution_count": 28,
   "id": "9cea672b-f042-4e6c-ac9e-f6f46ed23670",
   "metadata": {},
   "outputs": [],
   "source": [
    "COVID_cell_type = pd.Series(COVID_cell_type)\n",
    "COVID_cell_type_df = COVID_cell_type.to_frame(name='Cell_Type_COVID')\n",
    "# print(COVID_cell_type_df)"
   ]
  },
  {
   "cell_type": "markdown",
   "id": "28ae9707-d403-4b39-878b-cdd164a9c88c",
   "metadata": {},
   "source": [
    "# Background (Control dataset)"
   ]
  },
  {
   "cell_type": "code",
   "execution_count": 29,
   "id": "f589bb1d-81b9-4399-91f4-7bd2fce04acb",
   "metadata": {},
   "outputs": [],
   "source": [
    "expression_control = cleaned_ctrl.X\n",
    "annotations_control = cleaned_ctrl.obs   # for observations (e.g., cells)\n",
    "var_annotations_control = cleaned_ctrl.var   # for variables (e.g., genes)"
   ]
  },
  {
   "cell_type": "code",
   "execution_count": 30,
   "id": "59392a29-802a-4c60-a955-0bb9bb8194b9",
   "metadata": {},
   "outputs": [],
   "source": [
    "expression_control_array = expression_control.toarray()\n",
    "expression_control_df = pd.DataFrame(expression_control_array)"
   ]
  },
  {
   "cell_type": "markdown",
   "id": "7c143845-f1dc-45f3-a7cd-af5d6d7a31f7",
   "metadata": {},
   "source": [
    "background (Control) has 41 cell types"
   ]
  },
  {
   "cell_type": "code",
   "execution_count": 31,
   "id": "aa11e3ea-1921-4ec8-8a07-4b2ff607e38f",
   "metadata": {},
   "outputs": [],
   "source": [
    "cell_type_control = annotations_control['cell_type']\n",
    "cell_type_control_unique = set(cell_type_control)\n",
    "cell_type_control_total = cell_type_control.value_counts()"
   ]
  },
  {
   "cell_type": "markdown",
   "id": "a08486da-9db2-4072-b871-e3498bc92a7a",
   "metadata": {},
   "source": [
    "### Get the Background X (Control) "
   ]
  },
  {
   "cell_type": "code",
   "execution_count": 32,
   "id": "6adbf8cb-7e83-4f8c-9452-88990188540d",
   "metadata": {},
   "outputs": [],
   "source": [
    "annotations_control_df = pd.DataFrame(annotations_control)"
   ]
  },
  {
   "cell_type": "code",
   "execution_count": 33,
   "id": "16e8b75e-5166-44ed-8cbe-73ae231132d8",
   "metadata": {},
   "outputs": [],
   "source": [
    "# reset the index to get numeric indices\n",
    "annotations_control_df.reset_index(drop=True, inplace=True)\n",
    "filtered_annotations_control = annotations_control_df[annotations_control_df['cell_type'].isin(intersection_cell_type.values)]"
   ]
  },
  {
   "cell_type": "markdown",
   "id": "59028f95-78cc-4fdc-a769-37f1a0ff39a5",
   "metadata": {},
   "source": [
    "check the indices for cell_type less than 250 (to ensure the filtered_control_indices remove these indices)"
   ]
  },
  {
   "cell_type": "code",
   "execution_count": 34,
   "id": "237f8cc7-4dbc-4a7b-ad80-00e389207aa6",
   "metadata": {},
   "outputs": [
    {
     "data": {
      "text/plain": [
       "Index([ 1239,  2216,  2570,  6617,  9012,  9048,  9651,  9657, 10096, 10164,\n",
       "       10657, 11574, 12442, 13396, 14210],\n",
       "      dtype='int64')"
      ]
     },
     "execution_count": 34,
     "metadata": {},
     "output_type": "execute_result"
    }
   ],
   "source": [
    "annotations_control_df[annotations_control_df['cell_type'] == 'plasmablast'].index"
   ]
  },
  {
   "cell_type": "code",
   "execution_count": 35,
   "id": "42169cbb-da9f-4088-b594-3b3b5fdd013a",
   "metadata": {},
   "outputs": [],
   "source": [
    "filtered_control_indices = filtered_annotations_control.index.to_list()\n",
    "# print(len(filtered_control_indices))"
   ]
  },
  {
   "cell_type": "code",
   "execution_count": 36,
   "id": "c4d2ae39-deeb-4523-b6dc-008a31b8b99b",
   "metadata": {},
   "outputs": [],
   "source": [
    "filter_expression_control_df = expression_control_df.iloc[filtered_control_indices]\n",
    "# print(filter_expression_control_df.shape)"
   ]
  },
  {
   "cell_type": "markdown",
   "id": "76761599-e355-4bb5-af83-6d95e6456c20",
   "metadata": {},
   "source": [
    "### Get the background Y"
   ]
  },
  {
   "cell_type": "code",
   "execution_count": 37,
   "id": "a66553a1-82b7-4505-948e-0715962bc414",
   "metadata": {},
   "outputs": [],
   "source": [
    "# pd.set_option('display.max_rows', None)\n",
    "filtered_cell_type_control = filtered_annotations_control['cell_type'] \n",
    "unique_filtered_cell_type_control = set(filtered_cell_type_control)"
   ]
  },
  {
   "cell_type": "code",
   "execution_count": 38,
   "id": "0c0e1371-afcb-4bd7-9ed0-ef37082a4ba4",
   "metadata": {},
   "outputs": [],
   "source": [
    "control_cell_type = filtered_annotations_control['cell_type']\n",
    "control_cell_type = pd.Categorical(control_cell_type)\n",
    "control_cell_type = control_cell_type.rename_categories({\n",
    "    'CD16-positive, CD56-dim natural killer cell, human': '1',\n",
    "    'mucosal invariant T cell': '2', \n",
    "    'effector memory CD8-positive, alpha-beta T cell': '3',\n",
    "    'platelet': '4',\n",
    "    'naive B cell': '5', \n",
    "    'T-helper 22 cell': '6',\n",
    "    'gamma-delta T cell': '7',\n",
    "    'CD16-negative, CD56-bright natural killer cell, human': '8',\n",
    "    'effector CD8-positive, alpha-beta T cell': '9',\n",
    "    'naive thymus-derived CD4-positive, alpha-beta T cell': '10',\n",
    "    'CD14-positive monocyte': '11',\n",
    "    'central memory CD4-positive, alpha-beta T cell': '12',\n",
    "    'naive thymus-derived CD8-positive, alpha-beta T cell': '13',\n",
    "    'mature NK T cell': '14'\n",
    "})\n",
    "    \n",
    "\n",
    "# print(control_cell_type)"
   ]
  },
  {
   "cell_type": "code",
   "execution_count": 39,
   "id": "2155d703-dc54-49d6-b404-537ff6b104b2",
   "metadata": {},
   "outputs": [],
   "source": [
    "control_cell_type = pd.Series(control_cell_type)\n",
    "control_cell_type_df = control_cell_type.to_frame(name='Cell_Type_Control')\n",
    "\n",
    "# print(control_cell_type_df)"
   ]
  },
  {
   "cell_type": "markdown",
   "id": "80ce7669-7d67-4b3d-8058-7f165925effd",
   "metadata": {},
   "source": [
    "# Feature Preprocessing (Genes)"
   ]
  },
  {
   "cell_type": "code",
   "execution_count": 40,
   "id": "18b27bbb-2321-4bf2-af29-e46ab299ac56",
   "metadata": {},
   "outputs": [
    {
     "name": "stdout",
     "output_type": "stream",
     "text": [
      "(40411, 24727)\n",
      "(40411, 1)\n",
      "(13041, 24727)\n",
      "(13041, 1)\n"
     ]
    }
   ],
   "source": [
    "fg = filtered_expression_covid_df\n",
    "Y = COVID_cell_type_df\n",
    "\n",
    "bg = filter_expression_control_df\n",
    "Yt = control_cell_type_df\n",
    "\n",
    "\n",
    "print(fg.shape)\n",
    "print(Y.shape)\n",
    "print(bg.shape)\n",
    "print(Yt.shape)"
   ]
  },
  {
   "cell_type": "code",
   "execution_count": 41,
   "id": "e6f10c64-a213-4fae-a348-e5d781a9f541",
   "metadata": {},
   "outputs": [],
   "source": [
    "combined_fg_bg = np.vstack((fg, bg))"
   ]
  },
  {
   "cell_type": "code",
   "execution_count": 42,
   "id": "18f3d548-e201-4cb5-a314-54803f36a1b0",
   "metadata": {},
   "outputs": [],
   "source": [
    "# select the top p highly variable genes\n",
    "\n",
    "p = 500     # p can vary from 100 to 500\n",
    "col_var = np.var(combined_fg_bg, axis=0)\n",
    "col_var_sorted_idx = np.argsort(-col_var)\n",
    "\n",
    "fg = fg.iloc[:, col_var_sorted_idx[:p]]\n",
    "bg = bg.iloc[:, col_var_sorted_idx[:p]]"
   ]
  },
  {
   "cell_type": "code",
   "execution_count": 43,
   "id": "0d694a99-b66d-40eb-b55a-6bc05185b827",
   "metadata": {},
   "outputs": [
    {
     "name": "stdout",
     "output_type": "stream",
     "text": [
      "(40411, 500)\n",
      "(13041, 500)\n",
      "(40411, 1)\n",
      "(13041, 1)\n"
     ]
    }
   ],
   "source": [
    "print(fg.shape)\n",
    "print(bg.shape)\n",
    "print(Y.shape)\n",
    "print(Yt.shape)"
   ]
  },
  {
   "cell_type": "code",
   "execution_count": 38,
   "id": "ce9fff69-d19f-4cc3-8f96-14e1d44487df",
   "metadata": {},
   "outputs": [],
   "source": [
    "# fg.to_csv(\"covid_preprocessed_fg.csv\")\n",
    "# bg.to_csv(\"covid_preprocessed_bg.csv\")\n",
    "# Y.to_csv(\"covid_preprocessed_Y.csv\")\n",
    "# Yt.to_csv(\"covid_preprocessed_Yt.csv\")"
   ]
  }
 ],
 "metadata": {
  "kernelspec": {
   "display_name": "Python 3 (ipykernel)",
   "language": "python",
   "name": "python3"
  },
  "language_info": {
   "codemirror_mode": {
    "name": "ipython",
    "version": 3
   },
   "file_extension": ".py",
   "mimetype": "text/x-python",
   "name": "python",
   "nbconvert_exporter": "python",
   "pygments_lexer": "ipython3",
   "version": "3.10.9"
  }
 },
 "nbformat": 4,
 "nbformat_minor": 5
}
