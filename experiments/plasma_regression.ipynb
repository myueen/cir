{
 "cells": [
  {
   "cell_type": "markdown",
   "metadata": {},
   "source": [
    "### Plasma retinol data regression (accuracy)"
   ]
  },
  {
   "cell_type": "markdown",
   "metadata": {},
   "source": [
    "The Plasma retinol datais cited here: \n",
    "\n",
    "Nierenberg, D. W., Stukel, T. A., Baron, J. A., Dain, B. J., Greenberg, E. R., and Group,\n",
    "S. C. P. S. (1989). Determinants of plasma levels of beta-carotene and retinol. American\n",
    "Journal of Epidemiology, 130(3):511–521."
   ]
  },
  {
   "cell_type": "code",
   "execution_count": null,
   "metadata": {},
   "outputs": [],
   "source": [
    "%pip install contrastive-inverse-regression"
   ]
  },
  {
   "cell_type": "code",
   "execution_count": 1,
   "metadata": {},
   "outputs": [
    {
     "name": "stderr",
     "output_type": "stream",
     "text": [
      "/Users/lianama/Library/Python/3.10/lib/python/site-packages/numpy/core/fromnumeric.py:3432: RuntimeWarning: Mean of empty slice.\n",
      "  return _methods._mean(a, axis=axis, dtype=dtype,\n",
      "/Users/lianama/Library/Python/3.10/lib/python/site-packages/numpy/core/_methods.py:182: RuntimeWarning: invalid value encountered in divide\n",
      "  ret = um.true_divide(\n"
     ]
    },
    {
     "name": "stdout",
     "output_type": "stream",
     "text": [
      "---------------------------------------------------\n",
      "\n",
      "Results for Scaled Gradient Projection Method \n",
      "\n",
      "---------------------------------------------------\n",
      "\n",
      "   Obj. function = -1.945765e+05\n",
      "\n",
      "   Gradient norm = 2.571787e+00 \n",
      "\n",
      "   ||X^T*X-I||_F = 2.22e-16\n",
      "\n",
      "   Iteration number = 3000\n",
      "\n",
      "   Cpu time (secs) = 4.2504\n",
      "\n",
      "   Number of evaluation(Obj. func) = 3899\n",
      "\n",
      "Training Linear Model\n",
      "coefficients:  [0.47531950807425  5.367195669470783]\n",
      "intercept:  189.8920634920635\n",
      "R-squared:  0.11696414685922552\n",
      "This is MSE:  29478.367187909662\n"
     ]
    }
   ],
   "source": [
    "import numpy as np\n",
    "import pandas as pd\n",
    "import time\n",
    "from sklearn.linear_model import LinearRegression\n",
    "from sklearn.metrics import mean_squared_error\n",
    "import contrastive_inverse_regression\n",
    "from contrastive_inverse_regression import CIR\n",
    "\n",
    "start_time = time.time()\n",
    "\n",
    "\n",
    "data = pd.read_table('datasets/Retinol.txt',\n",
    "                     header=None, delim_whitespace=True)\n",
    "data = data.iloc[:, :]\n",
    "\n",
    "# foreground data\n",
    "fg = data.iloc[:, :12].dropna()\n",
    "\n",
    "# foreground response (continuous)\n",
    "Y = data.iloc[:, 12]\n",
    "n, p = fg.shape  # foreground sample size\n",
    "X = fg - np.mean(fg, axis=0)\n",
    "X = X.values\n",
    "\n",
    "# foreground slices\n",
    "L = 10\n",
    "partition = np.linspace(min(Y), max(Y), L)\n",
    "labels = np.zeros(n)\n",
    "for i in range(n):\n",
    "    labels[i] = max(np.where(Y.iloc[i] >= partition)[0]) + 1\n",
    "\n",
    "# background data\n",
    "bg = data.iloc[:, :12].dropna()\n",
    "m, p = bg.shape     # background sample size\n",
    "\n",
    "# background data\n",
    "Yt = data.iloc[:, 13]\n",
    "Lt = 10\n",
    "partitiont = np.linspace(min(Yt), max(Yt), Lt)\n",
    "labelst = np.zeros(m)\n",
    "for i in range(m):\n",
    "    labelst[i] = max(np.where(Yt.iloc[i] >= partitiont)[0]) + 1\n",
    "\n",
    "d = 2\n",
    "alpha = 0.1\n",
    "\n",
    "V_CIR = CIR(fg, labels, bg, labelst, alpha, d, continuous_Y=True)\n",
    "X_CIR = X @ V_CIR\n",
    "\n",
    "\n",
    "print(\"Training Linear Model\")\n",
    "model_CIR_LM = LinearRegression().fit(X_CIR, Y)\n",
    "print(\"coefficients: \", model_CIR_LM.coef_)\n",
    "print(\"intercept: \", model_CIR_LM.intercept_)\n",
    "print(\"R-squared: \", model_CIR_LM.score(X_CIR, Y))\n",
    "\n",
    "Y_pred = model_CIR_LM.predict(X_CIR)\n",
    "MSE_CIR_LM = mean_squared_error(Y, Y_pred)\n",
    "\n",
    "print(\"MSE: \", MSE_CIR_LM)\n",
    "\n",
    "\n",
    "end_time = time.time()\n",
    "elapsed_time = end_time - start_time\n",
    "print(f\"Time taken to run the code: {elapsed_time} seconds\")"
   ]
  }
 ],
 "metadata": {
  "kernelspec": {
   "display_name": "Python 3",
   "language": "python",
   "name": "python3"
  },
  "language_info": {
   "codemirror_mode": {
    "name": "ipython",
    "version": 3
   },
   "file_extension": ".py",
   "mimetype": "text/x-python",
   "name": "python",
   "nbconvert_exporter": "python",
   "pygments_lexer": "ipython3",
   "version": "3.10.6"
  }
 },
 "nbformat": 4,
 "nbformat_minor": 2
}
