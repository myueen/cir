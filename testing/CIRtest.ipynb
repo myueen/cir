{
 "cells": [
  {
   "cell_type": "code",
   "execution_count": 1,
   "metadata": {},
   "outputs": [
    {
     "ename": "KeyboardInterrupt",
     "evalue": "",
     "output_type": "error",
     "traceback": [
      "\u001b[0;31m---------------------------------------------------------------------------\u001b[0m",
      "\u001b[0;31mKeyboardInterrupt\u001b[0m                         Traceback (most recent call last)",
      "\u001b[1;32m/Users/lianama/CIR/contrastive-inverse-regression/testing/CIRtest.ipynb Cell 1\u001b[0m line \u001b[0;36m3\n\u001b[1;32m     <a href='vscode-notebook-cell:/Users/lianama/CIR/contrastive-inverse-regression/testing/CIRtest.ipynb#W0sZmlsZQ%3D%3D?line=29'>30</a>\u001b[0m output \u001b[39m=\u001b[39m O \u001b[39m@\u001b[39m np\u001b[39m.\u001b[39mtranspose(O)\n\u001b[1;32m     <a href='vscode-notebook-cell:/Users/lianama/CIR/contrastive-inverse-regression/testing/CIRtest.ipynb#W0sZmlsZQ%3D%3D?line=31'>32</a>\u001b[0m output \u001b[39m=\u001b[39m torch\u001b[39m.\u001b[39mfrom_numpy(output)\n\u001b[0;32m---> <a href='vscode-notebook-cell:/Users/lianama/CIR/contrastive-inverse-regression/testing/CIRtest.ipynb#W0sZmlsZQ%3D%3D?line=32'>33</a>\u001b[0m t \u001b[39m=\u001b[39m CIR(X, Y, Xt, Yt, \u001b[39m0.0001\u001b[39;49m, \u001b[39m2\u001b[39;49m)\n\u001b[1;32m     <a href='vscode-notebook-cell:/Users/lianama/CIR/contrastive-inverse-regression/testing/CIRtest.ipynb#W0sZmlsZQ%3D%3D?line=33'>34</a>\u001b[0m torch\u001b[39m.\u001b[39mset_printoptions(sci_mode\u001b[39m=\u001b[39m\u001b[39mFalse\u001b[39;00m)\n\u001b[1;32m     <a href='vscode-notebook-cell:/Users/lianama/CIR/contrastive-inverse-regression/testing/CIRtest.ipynb#W0sZmlsZQ%3D%3D?line=34'>35</a>\u001b[0m \u001b[39m# print(t)\u001b[39;00m\n",
      "File \u001b[0;32m~/CIR/contrastive-inverse-regression/testing/CIR_.py:195\u001b[0m, in \u001b[0;36mCIR\u001b[0;34m(X, Y, Xt, Yt, a, d)\u001b[0m\n\u001b[1;32m    193\u001b[0m gradient \u001b[39m=\u001b[39m grad(A, B, a, v, At, Bt)\u001b[39m.\u001b[39mto(torch\u001b[39m.\u001b[39mfloat)\n\u001b[1;32m    194\u001b[0m v\u001b[39m.\u001b[39mgrad \u001b[39m=\u001b[39m gradient\n\u001b[0;32m--> 195\u001b[0m optimizer\u001b[39m.\u001b[39;49mstep()\n\u001b[1;32m    196\u001b[0m vt_plus \u001b[39m=\u001b[39m v\u001b[39m.\u001b[39mclone()\n\u001b[1;32m    198\u001b[0m \u001b[39mif\u001b[39;00m stepExit(vt_plus, vt, cost, A, B, At, Bt, a):\n",
      "File \u001b[0;32m~/anaconda3/lib/python3.10/site-packages/torch/optim/optimizer.py:373\u001b[0m, in \u001b[0;36mOptimizer.profile_hook_step.<locals>.wrapper\u001b[0;34m(*args, **kwargs)\u001b[0m\n\u001b[1;32m    368\u001b[0m         \u001b[39melse\u001b[39;00m:\n\u001b[1;32m    369\u001b[0m             \u001b[39mraise\u001b[39;00m \u001b[39mRuntimeError\u001b[39;00m(\n\u001b[1;32m    370\u001b[0m                 \u001b[39mf\u001b[39m\u001b[39m\"\u001b[39m\u001b[39m{\u001b[39;00mfunc\u001b[39m}\u001b[39;00m\u001b[39m must return None or a tuple of (new_args, new_kwargs), but got \u001b[39m\u001b[39m{\u001b[39;00mresult\u001b[39m}\u001b[39;00m\u001b[39m.\u001b[39m\u001b[39m\"\u001b[39m\n\u001b[1;32m    371\u001b[0m             )\n\u001b[0;32m--> 373\u001b[0m out \u001b[39m=\u001b[39m func(\u001b[39m*\u001b[39;49margs, \u001b[39m*\u001b[39;49m\u001b[39m*\u001b[39;49mkwargs)\n\u001b[1;32m    374\u001b[0m \u001b[39mself\u001b[39m\u001b[39m.\u001b[39m_optimizer_step_code()\n\u001b[1;32m    376\u001b[0m \u001b[39m# call optimizer step post hooks\u001b[39;00m\n",
      "File \u001b[0;32m~/anaconda3/lib/python3.10/site-packages/geoopt/optim/rsgd.py:106\u001b[0m, in \u001b[0;36mRiemannianSGD.step\u001b[0;34m(self, closure)\u001b[0m\n\u001b[1;32m    104\u001b[0m     grad \u001b[39m=\u001b[39m momentum_buffer\n\u001b[1;32m    105\u001b[0m \u001b[39m# we have all the things projected\u001b[39;00m\n\u001b[0;32m--> 106\u001b[0m new_point, new_momentum_buffer \u001b[39m=\u001b[39m manifold\u001b[39m.\u001b[39;49mretr_transp(\n\u001b[1;32m    107\u001b[0m     point, \u001b[39m-\u001b[39;49mlearning_rate \u001b[39m*\u001b[39;49m grad, momentum_buffer\n\u001b[1;32m    108\u001b[0m )\n\u001b[1;32m    109\u001b[0m momentum_buffer\u001b[39m.\u001b[39mcopy_(new_momentum_buffer)\n\u001b[1;32m    110\u001b[0m \u001b[39m# use copy only for user facing point\u001b[39;00m\n",
      "File \u001b[0;32m~/anaconda3/lib/python3.10/site-packages/geoopt/manifolds/stiefel.py:196\u001b[0m, in \u001b[0;36mCanonicalStiefel.retr_transp\u001b[0;34m(self, x, u, v)\u001b[0m\n\u001b[1;32m    192\u001b[0m \u001b[39mdef\u001b[39;00m \u001b[39mretr_transp\u001b[39m(\n\u001b[1;32m    193\u001b[0m     \u001b[39mself\u001b[39m, x: torch\u001b[39m.\u001b[39mTensor, u: torch\u001b[39m.\u001b[39mTensor, v: torch\u001b[39m.\u001b[39mTensor\n\u001b[1;32m    194\u001b[0m ) \u001b[39m-\u001b[39m\u001b[39m>\u001b[39m Tuple[torch\u001b[39m.\u001b[39mTensor, torch\u001b[39m.\u001b[39mTensor]:\n\u001b[1;32m    195\u001b[0m     xvs \u001b[39m=\u001b[39m torch\u001b[39m.\u001b[39mcat((x, v), \u001b[39m-\u001b[39m\u001b[39m1\u001b[39m)\n\u001b[0;32m--> 196\u001b[0m     qxvs \u001b[39m=\u001b[39m \u001b[39mself\u001b[39;49m\u001b[39m.\u001b[39;49m_transp_follow_one(x, xvs, u\u001b[39m=\u001b[39;49mu)\u001b[39m.\u001b[39mview(\n\u001b[1;32m    197\u001b[0m         x\u001b[39m.\u001b[39mshape[:\u001b[39m-\u001b[39m\u001b[39m1\u001b[39m] \u001b[39m+\u001b[39m (\u001b[39m2\u001b[39m, x\u001b[39m.\u001b[39mshape[\u001b[39m-\u001b[39m\u001b[39m1\u001b[39m])\n\u001b[1;32m    198\u001b[0m     )\n\u001b[1;32m    199\u001b[0m     new_x, new_v \u001b[39m=\u001b[39m qxvs\u001b[39m.\u001b[39munbind(\u001b[39m-\u001b[39m\u001b[39m2\u001b[39m)\n\u001b[1;32m    200\u001b[0m     \u001b[39mreturn\u001b[39;00m new_x, new_v\n",
      "File \u001b[0;32m~/anaconda3/lib/python3.10/site-packages/geoopt/manifolds/stiefel.py:182\u001b[0m, in \u001b[0;36mCanonicalStiefel._transp_follow_one\u001b[0;34m(self, x, v, u)\u001b[0m\n\u001b[1;32m    180\u001b[0m lhs \u001b[39m=\u001b[39m \u001b[39m-\u001b[39m\u001b[39m1\u001b[39m \u001b[39m/\u001b[39m \u001b[39m2\u001b[39m \u001b[39m*\u001b[39m a\n\u001b[1;32m    181\u001b[0m lhs[\u001b[39m.\u001b[39m\u001b[39m.\u001b[39m\u001b[39m.\u001b[39m, torch\u001b[39m.\u001b[39marange(a\u001b[39m.\u001b[39mshape[\u001b[39m-\u001b[39m\u001b[39m2\u001b[39m]), torch\u001b[39m.\u001b[39marange(x\u001b[39m.\u001b[39mshape[\u001b[39m-\u001b[39m\u001b[39m2\u001b[39m])] \u001b[39m+\u001b[39m\u001b[39m=\u001b[39m \u001b[39m1\u001b[39m\n\u001b[0;32m--> 182\u001b[0m qv \u001b[39m=\u001b[39m torch\u001b[39m.\u001b[39;49mlinalg\u001b[39m.\u001b[39;49msolve(lhs, rhs)\n\u001b[1;32m    183\u001b[0m \u001b[39mreturn\u001b[39;00m qv\n",
      "\u001b[0;31mKeyboardInterrupt\u001b[0m: "
     ]
    }
   ],
   "source": [
    "import pandas as pd\n",
    "import numpy as np\n",
    "import torch\n",
    "from importlib import reload\n",
    "import CIR_\n",
    "from CIR_ import CIR\n",
    "reload(CIR_)\n",
    "# import CIR2_\n",
    "# from CIR2_ import CIR2\n",
    "# reload(CIR2_)\n",
    "\n",
    "import sys\n",
    "import numpy\n",
    "# numpy.set_printoptions(suppress=True, threshold=sys.maxsize)\n",
    "\n",
    "X = pd.read_csv('foregroundX.csv')\n",
    "Y = pd.read_csv('foregroundY.csv')\n",
    "Xt = pd.read_csv('backgroundX.csv')\n",
    "Yt = pd.read_csv('backgroundY.csv')\n",
    "\n",
    "X = X.iloc[:, 1:]\n",
    "Xt = Xt.iloc[:, 1:]\n",
    "Y = Y.iloc[:, 1:]\n",
    "Yt = Yt.iloc[:, 1:]\n",
    "\n",
    "O = pd.read_csv('output.csv')\n",
    "O = pd.DataFrame(O)\n",
    "O = O.iloc[:, 1:]\n",
    "O = O.to_numpy()\n",
    "output = O @ np.transpose(O)\n",
    "\n",
    "output = torch.from_numpy(output)\n",
    "t = CIR(X, Y, Xt, Yt, 0.0001, 2)\n",
    "torch.set_printoptions(sci_mode=False)\n",
    "# print(t)\n",
    "print(torch.subtract(output, t))\n",
    "\n",
    "# t1 = CIR2(X, Y, Xt, Yt, 0.0001, 2)\n",
    "# print(np.subtract(output, t1))\n",
    "# print(output)\n"
   ]
  },
  {
   "cell_type": "code",
   "execution_count": null,
   "metadata": {},
   "outputs": [],
   "source": [
    "# t = pd.read_csv('test-fX.csv')\n",
    "# t = pd.DataFrame(t)\n",
    "# if t.iloc[:, 0].dtypes != t.iloc[:, 1].dtypes:\n",
    "#     t = t.iloc[:, 1:]\n"
   ]
  },
  {
   "cell_type": "code",
   "execution_count": null,
   "metadata": {},
   "outputs": [],
   "source": [
    "# t = CIR(X, Y, Xt, Yt, 0.0001, 2)\n",
    "# print(torch.subtract(output, t))\n",
    "\n",
    "# output = torch.from_numpy(output)\n",
    "# print(\"Correct output....\")\n",
    "# print(output)\n",
    "\n",
    "# # n = pd.read_csv('test - noIndex.csv')\n",
    "\n",
    "# X = pd.read_csv('test - fX.csv')\n",
    "# Y = pd.read_csv('test - fY.csv')\n",
    "# Xt = pd.read_csv('test - bX.csv')\n",
    "# Yt = pd.read_csv('test - fY.csv')"
   ]
  }
 ],
 "metadata": {
  "kernelspec": {
   "display_name": "Python 3 (ipykernel)",
   "language": "python",
   "name": "python3"
  },
  "language_info": {
   "codemirror_mode": {
    "name": "ipython",
    "version": 3
   },
   "file_extension": ".py",
   "mimetype": "text/x-python",
   "name": "python",
   "nbconvert_exporter": "python",
   "pygments_lexer": "ipython3",
   "version": "3.10.9"
  }
 },
 "nbformat": 4,
 "nbformat_minor": 2
}
