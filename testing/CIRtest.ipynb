{
 "cells": [
  {
   "cell_type": "code",
   "execution_count": 29,
   "metadata": {},
   "outputs": [
    {
     "name": "stdout",
     "output_type": "stream",
     "text": [
      "1001\n",
      "1\n"
     ]
    },
    {
     "name": "stderr",
     "output_type": "stream",
     "text": [
      "/Users/lianama/anaconda3/lib/python3.10/site-packages/numpy/core/fromnumeric.py:3504: RuntimeWarning: Mean of empty slice.\n",
      "  return _methods._mean(a, axis=axis, dtype=dtype,\n",
      "/Users/lianama/anaconda3/lib/python3.10/site-packages/numpy/core/_methods.py:121: RuntimeWarning: invalid value encountered in divide\n",
      "  ret = um.true_divide(\n"
     ]
    },
    {
     "ename": "ValueError",
     "evalue": "not enough values to unpack (expected 2, got 1)",
     "output_type": "error",
     "traceback": [
      "\u001b[0;31m---------------------------------------------------------------------------\u001b[0m",
      "\u001b[0;31mValueError\u001b[0m                                Traceback (most recent call last)",
      "\u001b[1;32m/Users/lianama/CIR/contrastive-inverse-regression/testing/CIRtest.ipynb Cell 1\u001b[0m line \u001b[0;36m4\n\u001b[1;32m     <a href='vscode-notebook-cell:/Users/lianama/CIR/contrastive-inverse-regression/testing/CIRtest.ipynb#W0sZmlsZQ%3D%3D?line=40'>41</a>\u001b[0m Yt \u001b[39m=\u001b[39m Yt\u001b[39m.\u001b[39miloc[:, \u001b[39m1\u001b[39m:]\n\u001b[1;32m     <a href='vscode-notebook-cell:/Users/lianama/CIR/contrastive-inverse-regression/testing/CIRtest.ipynb#W0sZmlsZQ%3D%3D?line=42'>43</a>\u001b[0m \u001b[39m# print(\"CIR output............\")\u001b[39;00m\n\u001b[1;32m     <a href='vscode-notebook-cell:/Users/lianama/CIR/contrastive-inverse-regression/testing/CIRtest.ipynb#W0sZmlsZQ%3D%3D?line=43'>44</a>\u001b[0m \u001b[39m# t = CIR(X, Y, Xt, Yt, 0.0001, 2)\u001b[39;00m\n\u001b[1;32m     <a href='vscode-notebook-cell:/Users/lianama/CIR/contrastive-inverse-regression/testing/CIRtest.ipynb#W0sZmlsZQ%3D%3D?line=44'>45</a>\u001b[0m \n\u001b[1;32m     <a href='vscode-notebook-cell:/Users/lianama/CIR/contrastive-inverse-regression/testing/CIRtest.ipynb#W0sZmlsZQ%3D%3D?line=45'>46</a>\u001b[0m \n\u001b[1;32m     <a href='vscode-notebook-cell:/Users/lianama/CIR/contrastive-inverse-regression/testing/CIRtest.ipynb#W0sZmlsZQ%3D%3D?line=46'>47</a>\u001b[0m \u001b[39m# print(torch.subtract(output, t))\u001b[39;00m\n\u001b[0;32m---> <a href='vscode-notebook-cell:/Users/lianama/CIR/contrastive-inverse-regression/testing/CIRtest.ipynb#W0sZmlsZQ%3D%3D?line=48'>49</a>\u001b[0m t1 \u001b[39m=\u001b[39m CIR2(X, Y, Xt, Yt, \u001b[39m0.0001\u001b[39;49m, \u001b[39m2\u001b[39;49m)\n",
      "File \u001b[0;32m~/CIR/contrastive-inverse-regression/testing/CIR2_.py:171\u001b[0m, in \u001b[0;36mCIR2\u001b[0;34m(X, Y, Xt, Yt, a, d)\u001b[0m\n\u001b[1;32m    169\u001b[0m np\u001b[39m.\u001b[39mrandom\u001b[39m.\u001b[39mseed(\u001b[39m0\u001b[39m)\n\u001b[1;32m    170\u001b[0m v \u001b[39m=\u001b[39m np\u001b[39m.\u001b[39mrandom\u001b[39m.\u001b[39mnormal(size\u001b[39m=\u001b[39m(p, d))\n\u001b[0;32m--> 171\u001b[0m output \u001b[39m=\u001b[39m SGPM(v, A, B, At, Bt, a)\n",
      "File \u001b[0;32m~/CIR/contrastive-inverse-regression/testing/CIR2_.py:308\u001b[0m, in \u001b[0;36mSGPM\u001b[0;34m(X, A, B, At, Bt, a)\u001b[0m\n\u001b[1;32m    306\u001b[0m dtX \u001b[39m=\u001b[39m G \u001b[39m-\u001b[39m X \u001b[39m@\u001b[39m GX\n\u001b[1;32m    307\u001b[0m nrmG \u001b[39m=\u001b[39m np\u001b[39m.\u001b[39mlinalg\u001b[39m.\u001b[39mnorm(dtX, \u001b[39m'\u001b[39m\u001b[39mfro\u001b[39m\u001b[39m'\u001b[39m)\n\u001b[0;32m--> 308\u001b[0m F_eval[itr\u001b[39m+\u001b[39m\u001b[39m1\u001b[39m][\u001b[39m0\u001b[39m] \u001b[39m=\u001b[39m F\n\u001b[1;32m    309\u001b[0m \u001b[39mprint\u001b[39m(Grad)\n\u001b[1;32m    310\u001b[0m Grad[itr\u001b[39m+\u001b[39m\u001b[39m1\u001b[39m][\u001b[39m0\u001b[39m] \u001b[39m=\u001b[39m nrmG\n",
      "\u001b[0;31mValueError\u001b[0m: not enough values to unpack (expected 2, got 1)"
     ]
    }
   ],
   "source": [
    "import pandas as pd\n",
    "import numpy as np\n",
    "import torch\n",
    "from importlib import reload\n",
    "# import torch \n",
    "import CIR_\n",
    "from CIR_ import CIR\n",
    "import CIR2_\n",
    "from CIR2_ import CIR2\n",
    "reload(CIR_)\n",
    "reload(CIR2_)\n",
    "\n",
    "# import sys\n",
    "# import numpy\n",
    "# numpy.set_printoptions(threshold=sys.maxsize)\n",
    "\n",
    "X = pd.read_csv('foregroundX.csv')\n",
    "Y = pd.read_csv('foregroundY.csv')\n",
    "Xt = pd.read_csv('backgroundX.csv')\n",
    "Yt = pd.read_csv('backgroundY.csv')\n",
    "\n",
    "O = pd.read_csv('output.csv')\n",
    "O = pd.DataFrame(O)\n",
    "O = O.iloc[:, 1:]\n",
    "O = O.to_numpy()\n",
    "output = O @ np.transpose(O)\n",
    "output = torch.from_numpy(output)\n",
    "# print(\"Correct output....\")\n",
    "# print(output)\n",
    "\n",
    "# # n = pd.read_csv('test - noIndex.csv')\n",
    "\n",
    "# X = pd.read_csv('test - fX.csv')\n",
    "# Y = pd.read_csv('test - fY.csv')\n",
    "# Xt = pd.read_csv('test - bX.csv')\n",
    "# Yt = pd.read_csv('test - fY.csv')\n",
    "\n",
    "X = X.iloc[:, 1:]\n",
    "Xt = Xt.iloc[:, 1:]\n",
    "Y = Y.iloc[:, 1:]\n",
    "Yt = Yt.iloc[:, 1:]\n",
    "\n",
    "# print(\"CIR output............\")\n",
    "# t = CIR(X, Y, Xt, Yt, 0.0001, 2)\n",
    "\n",
    "\n",
    "# print(torch.subtract(output, t))\n",
    "\n",
    "t1 = CIR2(X, Y, Xt, Yt, 0.0001, 2)\n",
    "# print(output)\n"
   ]
  },
  {
   "cell_type": "code",
   "execution_count": null,
   "metadata": {},
   "outputs": [],
   "source": [
    "# t = pd.read_csv('test-fX.csv')\n",
    "# t = pd.DataFrame(t)\n",
    "# if t.iloc[:, 0].dtypes != t.iloc[:, 1].dtypes:\n",
    "#     t = t.iloc[:, 1:]\n"
   ]
  }
 ],
 "metadata": {
  "kernelspec": {
   "display_name": "Python 3 (ipykernel)",
   "language": "python",
   "name": "python3"
  },
  "language_info": {
   "codemirror_mode": {
    "name": "ipython",
    "version": 3
   },
   "file_extension": ".py",
   "mimetype": "text/x-python",
   "name": "python",
   "nbconvert_exporter": "python",
   "pygments_lexer": "ipython3",
   "version": "3.10.9"
  }
 },
 "nbformat": 4,
 "nbformat_minor": 2
}
