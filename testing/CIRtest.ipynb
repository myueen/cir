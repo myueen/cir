{
 "cells": [
  {
   "cell_type": "code",
   "execution_count": 65,
   "metadata": {},
   "outputs": [
    {
     "name": "stdout",
     "output_type": "stream",
     "text": [
      "[[ 4.04789828e-01 -1.00932801e-01 -1.49690887e-02 ...  2.38799977e-02\n",
      "   3.01234834e-02  4.21749634e-02]\n",
      " [-1.00932801e-01  2.20272699e-01  2.93776609e-02 ...  5.77673483e-03\n",
      "   2.31461376e-03 -6.11800902e-02]\n",
      " [-1.49690887e-02  2.93776609e-02  3.92442441e-03 ...  6.58889246e-04\n",
      "   1.77563968e-04 -8.21902469e-03]\n",
      " ...\n",
      " [ 2.38799977e-02  5.77673483e-03  6.58889246e-04 ...  2.11412429e-03\n",
      "   2.36788780e-03 -5.58221519e-04]\n",
      " [ 3.01234834e-02  2.31461376e-03  1.77563968e-04 ...  2.36788780e-03\n",
      "   2.73655774e-03  5.87051975e-04]\n",
      " [ 4.21749634e-02 -6.11800902e-02 -8.21902469e-03 ... -5.58221519e-04\n",
      "   5.87051975e-04  1.75503301e-02]]\n"
     ]
    }
   ],
   "source": [
    "import pandas as pd\n",
    "import numpy as np\n",
    "from importlib import reload\n",
    "import torch \n",
    "import CIR_\n",
    "from CIR_ import CIR\n",
    "reload(CIR_)\n",
    "\n",
    "X = pd.read_csv('foregroundX.csv')\n",
    "Y = pd.read_csv('foregroundY.csv')\n",
    "Xt = pd.read_csv('backgroundX.csv')\n",
    "Yt = pd.read_csv('backgroundY.csv')\n",
    "\n",
    "O = pd.read_csv('output.csv')\n",
    "O = pd.DataFrame(O)\n",
    "O = O.iloc[:, 1:]\n",
    "O = O.to_numpy()\n",
    "# print(O)\n",
    "output = O @ np.transpose(O)\n",
    "print(output)\n",
    "\n",
    "# n = pd.read_csv('test - noIndex.csv')\n",
    "\n",
    "# X = pd.read_csv('test - fX.csv')\n",
    "# Y = pd.read_csv('test - fY.csv')\n",
    "# Xt = pd.read_csv('test - bX.csv')\n",
    "# Yt = pd.read_csv('test - fY.csv')\n",
    "\n",
    "# CIR(X, Y, Xt, Yt, 0.0001, 2)"
   ]
  },
  {
   "cell_type": "code",
   "execution_count": 26,
   "metadata": {},
   "outputs": [],
   "source": [
    "# t = pd.read_csv('test-fX.csv')\n",
    "# t = pd.DataFrame(t)\n",
    "# if t.iloc[:, 0].dtypes != t.iloc[:, 1].dtypes:\n",
    "#     t = t.iloc[:, 1:]\n"
   ]
  }
 ],
 "metadata": {
  "kernelspec": {
   "display_name": "Python 3 (ipykernel)",
   "language": "python",
   "name": "python3"
  },
  "language_info": {
   "codemirror_mode": {
    "name": "ipython",
    "version": 3
   },
   "file_extension": ".py",
   "mimetype": "text/x-python",
   "name": "python",
   "nbconvert_exporter": "python",
   "pygments_lexer": "ipython3",
   "version": "3.10.9"
  }
 },
 "nbformat": 4,
 "nbformat_minor": 2
}
