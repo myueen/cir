{
 "cells": [
  {
   "cell_type": "code",
   "execution_count": 27,
   "metadata": {},
   "outputs": [
    {
     "name": "stdout",
     "output_type": "stream",
     "text": [
      "[1. 1. 1. 1. 1. 1. 1. 1. 1. 1. 1. 1. 1. 1. 1. 1. 1. 1. 1. 1. 1. 1. 1. 1.\n",
      " 1. 1. 1. 2. 1. 1.]\n"
     ]
    }
   ],
   "source": [
    "import numpy as np\n",
    "import pandas as pd\n",
    "import time\n",
    "from scipy.linalg import eigh\n",
    "import matplotlib.pyplot as plt\n",
    "\n",
    "import cir\n",
    "from cir import CIR\n",
    "from importlib import reload\n",
    "reload(cir)\n",
    "\n",
    "\n",
    "data = pd.read_table('Retinol.txt', header=None, delim_whitespace=True)\n",
    "data = data.iloc[:, :]\n",
    "\n",
    "# foreground data \n",
    "fg = data.iloc[:, :12].dropna()\n",
    "\n",
    "# foreground response (continuous)\n",
    "Y = data.iloc[:, 12]\n",
    "n, p = fg.shape  # foreground sample size\n",
    "X = fg - np.mean(fg, axis=0)\n",
    "X = X.values\n",
    "\n",
    "# foreground slices \n",
    "L = 4\n",
    "partition = np.linspace(min(Y), max(Y), L)\n",
    "labels = np.zeros(n)\n",
    "for i in range(n):\n",
    "    labels[i] = max(np.where(Y.iloc[i] >= partition)[0]) + 1\n",
    "\n",
    "# background data \n",
    "bg = data.iloc[:, :12].dropna()\n",
    "m, p = bg.shape     # background sample size\n",
    "\n",
    "# background data\n",
    "Yt = data.iloc[:, 12]\n",
    "Lt = 4\n",
    "partitiont = np.linspace(min(Yt), max(Yt), Lt)\n",
    "labelst = np.zeros(m)\n",
    "for i in range(m):\n",
    "    labelst[i] = max(np.where(Yt.iloc[i] >= partitiont)[0]) + 1\n",
    "\n",
    "\n",
    "# tuning parameter\n",
    "alpha = 1.5\n",
    "d = 2\n",
    "\n",
    "# CIR \n",
    "print(\"CIR......\")\n",
    "V_CIR = CIR(fg,Y,bg,Yt,alpha,d);\n",
    "X_CIR = X @ V_CIR;\n",
    "\n",
    "colors = [[228/255, 26/255, 28/255],\n",
    "          [55/255, 126/255, 184/255],\n",
    "          [77/255, 175/255, 74/255],\n",
    "          [152/255, 78/255, 163/255],\n",
    "          [255/255, 127/255, 0/255],\n",
    "          [255/255, 255/255, 51/255],\n",
    "          [166/255, 86/255, 40/255],\n",
    "          [247/255, 129/255, 191/255],\n",
    "          [153/255, 153/255, 153/255]]\n",
    "\n",
    "\n",
    "markers = ['o', 's', 'p', 'o', 's', 'p', 'o', 's', 'p']\n",
    "\n",
    "for l in range(L):\n",
    "    idx = np.where(Y == labels[l])[0]\n",
    "    X_curr = X_CIR[idx, :]\n",
    "    plt.scatter(X_curr[:, 0], X_curr[:, 1], s=100, c=colors[l], marker=markers[l])\n",
    "# plt.hold(False)\n",
    "plt.title('CIR', fontsize=32)\n",
    "plt.xticks(fontsize=22)\n",
    "plt.yticks(fontsize=22)\n",
    "plt.show()"
   ]
  }
 ],
 "metadata": {
  "kernelspec": {
   "display_name": "base",
   "language": "python",
   "name": "python3"
  },
  "language_info": {
   "codemirror_mode": {
    "name": "ipython",
    "version": 3
   },
   "file_extension": ".py",
   "mimetype": "text/x-python",
   "name": "python",
   "nbconvert_exporter": "python",
   "pygments_lexer": "ipython3",
   "version": "3.10.9"
  }
 },
 "nbformat": 4,
 "nbformat_minor": 2
}
