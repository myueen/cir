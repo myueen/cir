{
 "cells": [
  {
   "cell_type": "code",
   "execution_count": 36,
   "metadata": {},
   "outputs": [
    {
     "name": "stdout",
     "output_type": "stream",
     "text": [
      "CIR......\n"
     ]
    },
    {
     "name": "stderr",
     "output_type": "stream",
     "text": [
      "/Users/lianama/anaconda3/lib/python3.10/site-packages/numpy/core/fromnumeric.py:3504: RuntimeWarning: Mean of empty slice.\n",
      "  return _methods._mean(a, axis=axis, dtype=dtype,\n",
      "/Users/lianama/anaconda3/lib/python3.10/site-packages/numpy/core/_methods.py:121: RuntimeWarning: invalid value encountered in divide\n",
      "  ret = um.true_divide(\n"
     ]
    },
    {
     "name": "stdout",
     "output_type": "stream",
     "text": [
      "---------------------------------------------------\n",
      "\n",
      "Results for Scaled Gradient Projection Method \n",
      "\n",
      "---------------------------------------------------\n",
      "\n",
      "   Obj. function = 2.408880e+00\n",
      "\n",
      "   Gradient norm = 1.394376e-04 \n",
      "\n",
      "   ||X^T*X-I||_F = 8.02e-16\n",
      "\n",
      "   Iteration number = 3000\n",
      "\n",
      "   Cpu time (secs) = 20.9758\n",
      "\n",
      "   Number of evaluation(Obj. func) = 3270\n",
      "\n"
     ]
    },
    {
     "name": "stderr",
     "output_type": "stream",
     "text": [
      "/Users/lianama/anaconda3/lib/python3.10/site-packages/numpy/core/fromnumeric.py:3504: RuntimeWarning: Mean of empty slice.\n",
      "  return _methods._mean(a, axis=axis, dtype=dtype,\n",
      "/Users/lianama/anaconda3/lib/python3.10/site-packages/numpy/core/_methods.py:121: RuntimeWarning: invalid value encountered in divide\n",
      "  ret = um.true_divide(\n"
     ]
    },
    {
     "name": "stdout",
     "output_type": "stream",
     "text": [
      "---------------------------------------------------\n",
      "\n",
      "Results for Scaled Gradient Projection Method \n",
      "\n",
      "---------------------------------------------------\n",
      "\n",
      "   Obj. function = 2.408866e+00\n",
      "\n",
      "   Gradient norm = 1.259039e-03 \n",
      "\n",
      "   ||X^T*X-I||_F = 4.47e-16\n",
      "\n",
      "   Iteration number = 3000\n",
      "\n",
      "   Cpu time (secs) = 5.1538\n",
      "\n",
      "   Number of evaluation(Obj. func) = 3345\n",
      "\n"
     ]
    },
    {
     "name": "stderr",
     "output_type": "stream",
     "text": [
      "/Users/lianama/anaconda3/lib/python3.10/site-packages/numpy/core/fromnumeric.py:3504: RuntimeWarning: Mean of empty slice.\n",
      "  return _methods._mean(a, axis=axis, dtype=dtype,\n",
      "/Users/lianama/anaconda3/lib/python3.10/site-packages/numpy/core/_methods.py:121: RuntimeWarning: invalid value encountered in divide\n",
      "  ret = um.true_divide(\n"
     ]
    },
    {
     "name": "stdout",
     "output_type": "stream",
     "text": [
      "---------------------------------------------------\n",
      "\n",
      "Results for Scaled Gradient Projection Method \n",
      "\n",
      "---------------------------------------------------\n",
      "\n",
      "   Obj. function = 2.408851e+00\n",
      "\n",
      "   Gradient norm = 1.275056e-04 \n",
      "\n",
      "   ||X^T*X-I||_F = 2.24e-16\n",
      "\n",
      "   Iteration number = 3000\n",
      "\n",
      "   Cpu time (secs) = 3.9659\n",
      "\n",
      "   Number of evaluation(Obj. func) = 3289\n",
      "\n"
     ]
    },
    {
     "name": "stderr",
     "output_type": "stream",
     "text": [
      "/Users/lianama/anaconda3/lib/python3.10/site-packages/numpy/core/fromnumeric.py:3504: RuntimeWarning: Mean of empty slice.\n",
      "  return _methods._mean(a, axis=axis, dtype=dtype,\n",
      "/Users/lianama/anaconda3/lib/python3.10/site-packages/numpy/core/_methods.py:121: RuntimeWarning: invalid value encountered in divide\n",
      "  ret = um.true_divide(\n"
     ]
    },
    {
     "name": "stdout",
     "output_type": "stream",
     "text": [
      "---------------------------------------------------\n",
      "\n",
      "Results for Scaled Gradient Projection Method \n",
      "\n",
      "---------------------------------------------------\n",
      "\n",
      "   Obj. function = 2.408803e+00\n",
      "\n",
      "   Gradient norm = 3.530193e-03 \n",
      "\n",
      "   ||X^T*X-I||_F = 2.29e-16\n",
      "\n",
      "   Iteration number = 3000\n",
      "\n",
      "   Cpu time (secs) = 3.8388\n",
      "\n",
      "   Number of evaluation(Obj. func) = 3315\n",
      "\n"
     ]
    },
    {
     "name": "stderr",
     "output_type": "stream",
     "text": [
      "/Users/lianama/anaconda3/lib/python3.10/site-packages/numpy/core/fromnumeric.py:3504: RuntimeWarning: Mean of empty slice.\n",
      "  return _methods._mean(a, axis=axis, dtype=dtype,\n",
      "/Users/lianama/anaconda3/lib/python3.10/site-packages/numpy/core/_methods.py:121: RuntimeWarning: invalid value encountered in divide\n",
      "  ret = um.true_divide(\n"
     ]
    },
    {
     "name": "stdout",
     "output_type": "stream",
     "text": [
      "---------------------------------------------------\n",
      "\n",
      "Results for Scaled Gradient Projection Method \n",
      "\n",
      "---------------------------------------------------\n",
      "\n",
      "   Obj. function = 2.408819e+00\n",
      "\n",
      "   Gradient norm = 5.462690e-03 \n",
      "\n",
      "   ||X^T*X-I||_F = 8.01e-16\n",
      "\n",
      "   Iteration number = 3000\n",
      "\n",
      "   Cpu time (secs) = 3.9814\n",
      "\n",
      "   Number of evaluation(Obj. func) = 3308\n",
      "\n"
     ]
    },
    {
     "name": "stderr",
     "output_type": "stream",
     "text": [
      "/Users/lianama/anaconda3/lib/python3.10/site-packages/numpy/core/fromnumeric.py:3504: RuntimeWarning: Mean of empty slice.\n",
      "  return _methods._mean(a, axis=axis, dtype=dtype,\n",
      "/Users/lianama/anaconda3/lib/python3.10/site-packages/numpy/core/_methods.py:121: RuntimeWarning: invalid value encountered in divide\n",
      "  ret = um.true_divide(\n"
     ]
    },
    {
     "name": "stdout",
     "output_type": "stream",
     "text": [
      "---------------------------------------------------\n",
      "\n",
      "Results for Scaled Gradient Projection Method \n",
      "\n",
      "---------------------------------------------------\n",
      "\n",
      "   Obj. function = 2.408848e+00\n",
      "\n",
      "   Gradient norm = 1.448528e-04 \n",
      "\n",
      "   ||X^T*X-I||_F = 4.01e-16\n",
      "\n",
      "   Iteration number = 3000\n",
      "\n",
      "   Cpu time (secs) = 3.9587\n",
      "\n",
      "   Number of evaluation(Obj. func) = 3291\n",
      "\n"
     ]
    },
    {
     "name": "stderr",
     "output_type": "stream",
     "text": [
      "/Users/lianama/anaconda3/lib/python3.10/site-packages/numpy/core/fromnumeric.py:3504: RuntimeWarning: Mean of empty slice.\n",
      "  return _methods._mean(a, axis=axis, dtype=dtype,\n",
      "/Users/lianama/anaconda3/lib/python3.10/site-packages/numpy/core/_methods.py:121: RuntimeWarning: invalid value encountered in divide\n",
      "  ret = um.true_divide(\n"
     ]
    },
    {
     "name": "stdout",
     "output_type": "stream",
     "text": [
      "---------------------------------------------------\n",
      "\n",
      "Results for Scaled Gradient Projection Method \n",
      "\n",
      "---------------------------------------------------\n",
      "\n",
      "   Obj. function = 2.408822e+00\n",
      "\n",
      "   Gradient norm = 3.189427e-03 \n",
      "\n",
      "   ||X^T*X-I||_F = 7.04e-16\n",
      "\n",
      "   Iteration number = 3000\n",
      "\n",
      "   Cpu time (secs) = 4.1579\n",
      "\n",
      "   Number of evaluation(Obj. func) = 3342\n",
      "\n"
     ]
    },
    {
     "name": "stderr",
     "output_type": "stream",
     "text": [
      "/Users/lianama/anaconda3/lib/python3.10/site-packages/numpy/core/fromnumeric.py:3504: RuntimeWarning: Mean of empty slice.\n",
      "  return _methods._mean(a, axis=axis, dtype=dtype,\n",
      "/Users/lianama/anaconda3/lib/python3.10/site-packages/numpy/core/_methods.py:121: RuntimeWarning: invalid value encountered in divide\n",
      "  ret = um.true_divide(\n"
     ]
    },
    {
     "name": "stdout",
     "output_type": "stream",
     "text": [
      "---------------------------------------------------\n",
      "\n",
      "Results for Scaled Gradient Projection Method \n",
      "\n",
      "---------------------------------------------------\n",
      "\n",
      "   Obj. function = 2.408795e+00\n",
      "\n",
      "   Gradient norm = 1.993909e-04 \n",
      "\n",
      "   ||X^T*X-I||_F = 2.24e-16\n",
      "\n",
      "   Iteration number = 3000\n",
      "\n",
      "   Cpu time (secs) = 4.2189\n",
      "\n",
      "   Number of evaluation(Obj. func) = 3364\n",
      "\n"
     ]
    },
    {
     "name": "stderr",
     "output_type": "stream",
     "text": [
      "/Users/lianama/anaconda3/lib/python3.10/site-packages/numpy/core/fromnumeric.py:3504: RuntimeWarning: Mean of empty slice.\n",
      "  return _methods._mean(a, axis=axis, dtype=dtype,\n",
      "/Users/lianama/anaconda3/lib/python3.10/site-packages/numpy/core/_methods.py:121: RuntimeWarning: invalid value encountered in divide\n",
      "  ret = um.true_divide(\n"
     ]
    },
    {
     "name": "stdout",
     "output_type": "stream",
     "text": [
      "---------------------------------------------------\n",
      "\n",
      "Results for Scaled Gradient Projection Method \n",
      "\n",
      "---------------------------------------------------\n",
      "\n",
      "   Obj. function = 2.408871e+00\n",
      "\n",
      "   Gradient norm = 2.824458e-04 \n",
      "\n",
      "   ||X^T*X-I||_F = 3.14e-16\n",
      "\n",
      "   Iteration number = 3000\n",
      "\n",
      "   Cpu time (secs) = 4.1915\n",
      "\n",
      "   Number of evaluation(Obj. func) = 3404\n",
      "\n"
     ]
    },
    {
     "name": "stderr",
     "output_type": "stream",
     "text": [
      "/Users/lianama/anaconda3/lib/python3.10/site-packages/numpy/core/fromnumeric.py:3504: RuntimeWarning: Mean of empty slice.\n",
      "  return _methods._mean(a, axis=axis, dtype=dtype,\n",
      "/Users/lianama/anaconda3/lib/python3.10/site-packages/numpy/core/_methods.py:121: RuntimeWarning: invalid value encountered in divide\n",
      "  ret = um.true_divide(\n"
     ]
    },
    {
     "name": "stdout",
     "output_type": "stream",
     "text": [
      "---------------------------------------------------\n",
      "\n",
      "Results for Scaled Gradient Projection Method \n",
      "\n",
      "---------------------------------------------------\n",
      "\n",
      "   Obj. function = 2.408867e+00\n",
      "\n",
      "   Gradient norm = 1.139195e-04 \n",
      "\n",
      "   ||X^T*X-I||_F = 7.03e-16\n",
      "\n",
      "   Iteration number = 3000\n",
      "\n",
      "   Cpu time (secs) = 3.9980\n",
      "\n",
      "   Number of evaluation(Obj. func) = 3350\n",
      "\n"
     ]
    },
    {
     "name": "stderr",
     "output_type": "stream",
     "text": [
      "/Users/lianama/anaconda3/lib/python3.10/site-packages/numpy/core/fromnumeric.py:3504: RuntimeWarning: Mean of empty slice.\n",
      "  return _methods._mean(a, axis=axis, dtype=dtype,\n",
      "/Users/lianama/anaconda3/lib/python3.10/site-packages/numpy/core/_methods.py:121: RuntimeWarning: invalid value encountered in divide\n",
      "  ret = um.true_divide(\n"
     ]
    },
    {
     "name": "stdout",
     "output_type": "stream",
     "text": [
      "---------------------------------------------------\n",
      "\n",
      "Results for Scaled Gradient Projection Method \n",
      "\n",
      "---------------------------------------------------\n",
      "\n",
      "   Obj. function = 2.408826e+00\n",
      "\n",
      "   Gradient norm = 1.424647e-03 \n",
      "\n",
      "   ||X^T*X-I||_F = 4.97e-16\n",
      "\n",
      "   Iteration number = 3000\n",
      "\n",
      "   Cpu time (secs) = 4.0855\n",
      "\n",
      "   Number of evaluation(Obj. func) = 3372\n",
      "\n"
     ]
    },
    {
     "name": "stderr",
     "output_type": "stream",
     "text": [
      "/Users/lianama/anaconda3/lib/python3.10/site-packages/numpy/core/fromnumeric.py:3504: RuntimeWarning: Mean of empty slice.\n",
      "  return _methods._mean(a, axis=axis, dtype=dtype,\n",
      "/Users/lianama/anaconda3/lib/python3.10/site-packages/numpy/core/_methods.py:121: RuntimeWarning: invalid value encountered in divide\n",
      "  ret = um.true_divide(\n"
     ]
    },
    {
     "name": "stdout",
     "output_type": "stream",
     "text": [
      "---------------------------------------------------\n",
      "\n",
      "Results for Scaled Gradient Projection Method \n",
      "\n",
      "---------------------------------------------------\n",
      "\n",
      "   Obj. function = 2.408854e+00\n",
      "\n",
      "   Gradient norm = 1.470964e-04 \n",
      "\n",
      "   ||X^T*X-I||_F = 4.98e-16\n",
      "\n",
      "   Iteration number = 3000\n",
      "\n",
      "   Cpu time (secs) = 4.0479\n",
      "\n",
      "   Number of evaluation(Obj. func) = 3335\n",
      "\n"
     ]
    },
    {
     "name": "stderr",
     "output_type": "stream",
     "text": [
      "/Users/lianama/anaconda3/lib/python3.10/site-packages/numpy/core/fromnumeric.py:3504: RuntimeWarning: Mean of empty slice.\n",
      "  return _methods._mean(a, axis=axis, dtype=dtype,\n",
      "/Users/lianama/anaconda3/lib/python3.10/site-packages/numpy/core/_methods.py:121: RuntimeWarning: invalid value encountered in divide\n",
      "  ret = um.true_divide(\n"
     ]
    },
    {
     "name": "stdout",
     "output_type": "stream",
     "text": [
      "---------------------------------------------------\n",
      "\n",
      "Results for Scaled Gradient Projection Method \n",
      "\n",
      "---------------------------------------------------\n",
      "\n",
      "   Obj. function = 2.408780e+00\n",
      "\n",
      "   Gradient norm = 4.537283e-04 \n",
      "\n",
      "   ||X^T*X-I||_F = 1.10e-16\n",
      "\n",
      "   Iteration number = 3000\n",
      "\n",
      "   Cpu time (secs) = 4.4953\n",
      "\n",
      "   Number of evaluation(Obj. func) = 3363\n",
      "\n"
     ]
    },
    {
     "name": "stderr",
     "output_type": "stream",
     "text": [
      "/Users/lianama/anaconda3/lib/python3.10/site-packages/numpy/core/fromnumeric.py:3504: RuntimeWarning: Mean of empty slice.\n",
      "  return _methods._mean(a, axis=axis, dtype=dtype,\n",
      "/Users/lianama/anaconda3/lib/python3.10/site-packages/numpy/core/_methods.py:121: RuntimeWarning: invalid value encountered in divide\n",
      "  ret = um.true_divide(\n"
     ]
    },
    {
     "name": "stdout",
     "output_type": "stream",
     "text": [
      "---------------------------------------------------\n",
      "\n",
      "Results for Scaled Gradient Projection Method \n",
      "\n",
      "---------------------------------------------------\n",
      "\n",
      "   Obj. function = 2.408844e+00\n",
      "\n",
      "   Gradient norm = 5.997158e-04 \n",
      "\n",
      "   ||X^T*X-I||_F = 3.64e-16\n",
      "\n",
      "   Iteration number = 3000\n",
      "\n",
      "   Cpu time (secs) = 4.5828\n",
      "\n",
      "   Number of evaluation(Obj. func) = 3325\n",
      "\n"
     ]
    },
    {
     "name": "stderr",
     "output_type": "stream",
     "text": [
      "/Users/lianama/anaconda3/lib/python3.10/site-packages/numpy/core/fromnumeric.py:3504: RuntimeWarning: Mean of empty slice.\n",
      "  return _methods._mean(a, axis=axis, dtype=dtype,\n",
      "/Users/lianama/anaconda3/lib/python3.10/site-packages/numpy/core/_methods.py:121: RuntimeWarning: invalid value encountered in divide\n",
      "  ret = um.true_divide(\n"
     ]
    },
    {
     "name": "stdout",
     "output_type": "stream",
     "text": [
      "---------------------------------------------------\n",
      "\n",
      "Results for Scaled Gradient Projection Method \n",
      "\n",
      "---------------------------------------------------\n",
      "\n",
      "   Obj. function = 2.408823e+00\n",
      "\n",
      "   Gradient norm = 1.747099e-04 \n",
      "\n",
      "   ||X^T*X-I||_F = 3.15e-16\n",
      "\n",
      "   Iteration number = 3000\n",
      "\n",
      "   Cpu time (secs) = 4.9394\n",
      "\n",
      "   Number of evaluation(Obj. func) = 3372\n",
      "\n"
     ]
    },
    {
     "name": "stderr",
     "output_type": "stream",
     "text": [
      "/Users/lianama/anaconda3/lib/python3.10/site-packages/numpy/core/fromnumeric.py:3504: RuntimeWarning: Mean of empty slice.\n",
      "  return _methods._mean(a, axis=axis, dtype=dtype,\n",
      "/Users/lianama/anaconda3/lib/python3.10/site-packages/numpy/core/_methods.py:121: RuntimeWarning: invalid value encountered in divide\n",
      "  ret = um.true_divide(\n"
     ]
    },
    {
     "name": "stdout",
     "output_type": "stream",
     "text": [
      "---------------------------------------------------\n",
      "\n",
      "Results for Scaled Gradient Projection Method \n",
      "\n",
      "---------------------------------------------------\n",
      "\n",
      "   Obj. function = 2.408805e+00\n",
      "\n",
      "   Gradient norm = 1.453389e-03 \n",
      "\n",
      "   ||X^T*X-I||_F = 7.03e-16\n",
      "\n",
      "   Iteration number = 3000\n",
      "\n",
      "   Cpu time (secs) = 4.6743\n",
      "\n",
      "   Number of evaluation(Obj. func) = 3419\n",
      "\n"
     ]
    },
    {
     "name": "stderr",
     "output_type": "stream",
     "text": [
      "/Users/lianama/anaconda3/lib/python3.10/site-packages/numpy/core/fromnumeric.py:3504: RuntimeWarning: Mean of empty slice.\n",
      "  return _methods._mean(a, axis=axis, dtype=dtype,\n",
      "/Users/lianama/anaconda3/lib/python3.10/site-packages/numpy/core/_methods.py:121: RuntimeWarning: invalid value encountered in divide\n",
      "  ret = um.true_divide(\n"
     ]
    },
    {
     "name": "stdout",
     "output_type": "stream",
     "text": [
      "---------------------------------------------------\n",
      "\n",
      "Results for Scaled Gradient Projection Method \n",
      "\n",
      "---------------------------------------------------\n",
      "\n",
      "   Obj. function = 2.408889e+00\n",
      "\n",
      "   Gradient norm = 9.803416e-04 \n",
      "\n",
      "   ||X^T*X-I||_F = 8.01e-16\n",
      "\n",
      "   Iteration number = 3000\n",
      "\n",
      "   Cpu time (secs) = 4.1096\n",
      "\n",
      "   Number of evaluation(Obj. func) = 3401\n",
      "\n"
     ]
    },
    {
     "name": "stderr",
     "output_type": "stream",
     "text": [
      "/Users/lianama/anaconda3/lib/python3.10/site-packages/numpy/core/fromnumeric.py:3504: RuntimeWarning: Mean of empty slice.\n",
      "  return _methods._mean(a, axis=axis, dtype=dtype,\n",
      "/Users/lianama/anaconda3/lib/python3.10/site-packages/numpy/core/_methods.py:121: RuntimeWarning: invalid value encountered in divide\n",
      "  ret = um.true_divide(\n"
     ]
    },
    {
     "name": "stdout",
     "output_type": "stream",
     "text": [
      "---------------------------------------------------\n",
      "\n",
      "Results for Scaled Gradient Projection Method \n",
      "\n",
      "---------------------------------------------------\n",
      "\n",
      "   Obj. function = 2.408794e+00\n",
      "\n",
      "   Gradient norm = 2.213109e-04 \n",
      "\n",
      "   ||X^T*X-I||_F = 2.29e-16\n",
      "\n",
      "   Iteration number = 3000\n",
      "\n",
      "   Cpu time (secs) = 4.3876\n",
      "\n",
      "   Number of evaluation(Obj. func) = 3445\n",
      "\n"
     ]
    },
    {
     "name": "stderr",
     "output_type": "stream",
     "text": [
      "/Users/lianama/anaconda3/lib/python3.10/site-packages/numpy/core/fromnumeric.py:3504: RuntimeWarning: Mean of empty slice.\n",
      "  return _methods._mean(a, axis=axis, dtype=dtype,\n",
      "/Users/lianama/anaconda3/lib/python3.10/site-packages/numpy/core/_methods.py:121: RuntimeWarning: invalid value encountered in divide\n",
      "  ret = um.true_divide(\n"
     ]
    },
    {
     "name": "stdout",
     "output_type": "stream",
     "text": [
      "---------------------------------------------------\n",
      "\n",
      "Results for Scaled Gradient Projection Method \n",
      "\n",
      "---------------------------------------------------\n",
      "\n",
      "   Obj. function = 2.408806e+00\n",
      "\n",
      "   Gradient norm = 1.795847e-04 \n",
      "\n",
      "   ||X^T*X-I||_F = 4.45e-16\n",
      "\n",
      "   Iteration number = 3000\n",
      "\n",
      "   Cpu time (secs) = 4.6871\n",
      "\n",
      "   Number of evaluation(Obj. func) = 3343\n",
      "\n"
     ]
    },
    {
     "name": "stderr",
     "output_type": "stream",
     "text": [
      "/Users/lianama/anaconda3/lib/python3.10/site-packages/numpy/core/fromnumeric.py:3504: RuntimeWarning: Mean of empty slice.\n",
      "  return _methods._mean(a, axis=axis, dtype=dtype,\n",
      "/Users/lianama/anaconda3/lib/python3.10/site-packages/numpy/core/_methods.py:121: RuntimeWarning: invalid value encountered in divide\n",
      "  ret = um.true_divide(\n"
     ]
    },
    {
     "name": "stdout",
     "output_type": "stream",
     "text": [
      "---------------------------------------------------\n",
      "\n",
      "Results for Scaled Gradient Projection Method \n",
      "\n",
      "---------------------------------------------------\n",
      "\n",
      "   Obj. function = 2.408872e+00\n",
      "\n",
      "   Gradient norm = 2.217921e-04 \n",
      "\n",
      "   ||X^T*X-I||_F = 3.17e-16\n",
      "\n",
      "   Iteration number = 3000\n",
      "\n",
      "   Cpu time (secs) = 4.2153\n",
      "\n",
      "   Number of evaluation(Obj. func) = 3274\n",
      "\n"
     ]
    },
    {
     "name": "stderr",
     "output_type": "stream",
     "text": [
      "/Users/lianama/anaconda3/lib/python3.10/site-packages/numpy/core/fromnumeric.py:3504: RuntimeWarning: Mean of empty slice.\n",
      "  return _methods._mean(a, axis=axis, dtype=dtype,\n",
      "/Users/lianama/anaconda3/lib/python3.10/site-packages/numpy/core/_methods.py:121: RuntimeWarning: invalid value encountered in divide\n",
      "  ret = um.true_divide(\n"
     ]
    },
    {
     "name": "stdout",
     "output_type": "stream",
     "text": [
      "---------------------------------------------------\n",
      "\n",
      "Results for Scaled Gradient Projection Method \n",
      "\n",
      "---------------------------------------------------\n",
      "\n",
      "   Obj. function = 2.408862e+00\n",
      "\n",
      "   Gradient norm = 1.714594e-03 \n",
      "\n",
      "   ||X^T*X-I||_F = 6.67e-16\n",
      "\n",
      "   Iteration number = 3000\n",
      "\n",
      "   Cpu time (secs) = 4.6427\n",
      "\n",
      "   Number of evaluation(Obj. func) = 3279\n",
      "\n"
     ]
    },
    {
     "name": "stderr",
     "output_type": "stream",
     "text": [
      "/Users/lianama/anaconda3/lib/python3.10/site-packages/numpy/core/fromnumeric.py:3504: RuntimeWarning: Mean of empty slice.\n",
      "  return _methods._mean(a, axis=axis, dtype=dtype,\n",
      "/Users/lianama/anaconda3/lib/python3.10/site-packages/numpy/core/_methods.py:121: RuntimeWarning: invalid value encountered in divide\n",
      "  ret = um.true_divide(\n"
     ]
    },
    {
     "name": "stdout",
     "output_type": "stream",
     "text": [
      "---------------------------------------------------\n",
      "\n",
      "Results for Scaled Gradient Projection Method \n",
      "\n",
      "---------------------------------------------------\n",
      "\n",
      "   Obj. function = 2.408809e+00\n",
      "\n",
      "   Gradient norm = 1.674461e-04 \n",
      "\n",
      "   ||X^T*X-I||_F = 2.27e-16\n",
      "\n",
      "   Iteration number = 3000\n",
      "\n",
      "   Cpu time (secs) = 4.2364\n",
      "\n",
      "   Number of evaluation(Obj. func) = 3363\n",
      "\n"
     ]
    },
    {
     "name": "stderr",
     "output_type": "stream",
     "text": [
      "/Users/lianama/anaconda3/lib/python3.10/site-packages/numpy/core/fromnumeric.py:3504: RuntimeWarning: Mean of empty slice.\n",
      "  return _methods._mean(a, axis=axis, dtype=dtype,\n",
      "/Users/lianama/anaconda3/lib/python3.10/site-packages/numpy/core/_methods.py:121: RuntimeWarning: invalid value encountered in divide\n",
      "  ret = um.true_divide(\n"
     ]
    },
    {
     "name": "stdout",
     "output_type": "stream",
     "text": [
      "---------------------------------------------------\n",
      "\n",
      "Results for Scaled Gradient Projection Method \n",
      "\n",
      "---------------------------------------------------\n",
      "\n",
      "   Obj. function = 2.408822e+00\n",
      "\n",
      "   Gradient norm = 3.453632e-04 \n",
      "\n",
      "   ||X^T*X-I||_F = 4.49e-16\n",
      "\n",
      "   Iteration number = 3000\n",
      "\n",
      "   Cpu time (secs) = 4.7316\n",
      "\n",
      "   Number of evaluation(Obj. func) = 3357\n",
      "\n"
     ]
    },
    {
     "name": "stderr",
     "output_type": "stream",
     "text": [
      "/Users/lianama/anaconda3/lib/python3.10/site-packages/numpy/core/fromnumeric.py:3504: RuntimeWarning: Mean of empty slice.\n",
      "  return _methods._mean(a, axis=axis, dtype=dtype,\n",
      "/Users/lianama/anaconda3/lib/python3.10/site-packages/numpy/core/_methods.py:121: RuntimeWarning: invalid value encountered in divide\n",
      "  ret = um.true_divide(\n"
     ]
    },
    {
     "name": "stdout",
     "output_type": "stream",
     "text": [
      "---------------------------------------------------\n",
      "\n",
      "Results for Scaled Gradient Projection Method \n",
      "\n",
      "---------------------------------------------------\n",
      "\n",
      "   Obj. function = 2.408753e+00\n",
      "\n",
      "   Gradient norm = 2.006396e-04 \n",
      "\n",
      "   ||X^T*X-I||_F = 1.26e-16\n",
      "\n",
      "   Iteration number = 3000\n",
      "\n",
      "   Cpu time (secs) = 4.9573\n",
      "\n",
      "   Number of evaluation(Obj. func) = 3520\n",
      "\n"
     ]
    },
    {
     "name": "stderr",
     "output_type": "stream",
     "text": [
      "/Users/lianama/anaconda3/lib/python3.10/site-packages/numpy/core/fromnumeric.py:3504: RuntimeWarning: Mean of empty slice.\n",
      "  return _methods._mean(a, axis=axis, dtype=dtype,\n",
      "/Users/lianama/anaconda3/lib/python3.10/site-packages/numpy/core/_methods.py:121: RuntimeWarning: invalid value encountered in divide\n",
      "  ret = um.true_divide(\n"
     ]
    },
    {
     "name": "stdout",
     "output_type": "stream",
     "text": [
      "---------------------------------------------------\n",
      "\n",
      "Results for Scaled Gradient Projection Method \n",
      "\n",
      "---------------------------------------------------\n",
      "\n",
      "   Obj. function = 2.408865e+00\n",
      "\n",
      "   Gradient norm = 2.001866e-04 \n",
      "\n",
      "   ||X^T*X-I||_F = 2.55e-16\n",
      "\n",
      "   Iteration number = 3000\n",
      "\n",
      "   Cpu time (secs) = 4.3108\n",
      "\n",
      "   Number of evaluation(Obj. func) = 3438\n",
      "\n"
     ]
    },
    {
     "name": "stderr",
     "output_type": "stream",
     "text": [
      "/Users/lianama/anaconda3/lib/python3.10/site-packages/numpy/core/fromnumeric.py:3504: RuntimeWarning: Mean of empty slice.\n",
      "  return _methods._mean(a, axis=axis, dtype=dtype,\n",
      "/Users/lianama/anaconda3/lib/python3.10/site-packages/numpy/core/_methods.py:121: RuntimeWarning: invalid value encountered in divide\n",
      "  ret = um.true_divide(\n"
     ]
    },
    {
     "name": "stdout",
     "output_type": "stream",
     "text": [
      "---------------------------------------------------\n",
      "\n",
      "Results for Scaled Gradient Projection Method \n",
      "\n",
      "---------------------------------------------------\n",
      "\n",
      "   Obj. function = 2.408840e+00\n",
      "\n",
      "   Gradient norm = 1.242173e-04 \n",
      "\n",
      "   ||X^T*X-I||_F = 8.95e-16\n",
      "\n",
      "   Iteration number = 3000\n",
      "\n",
      "   Cpu time (secs) = 4.3890\n",
      "\n",
      "   Number of evaluation(Obj. func) = 3300\n",
      "\n"
     ]
    },
    {
     "name": "stderr",
     "output_type": "stream",
     "text": [
      "/Users/lianama/anaconda3/lib/python3.10/site-packages/numpy/core/fromnumeric.py:3504: RuntimeWarning: Mean of empty slice.\n",
      "  return _methods._mean(a, axis=axis, dtype=dtype,\n",
      "/Users/lianama/anaconda3/lib/python3.10/site-packages/numpy/core/_methods.py:121: RuntimeWarning: invalid value encountered in divide\n",
      "  ret = um.true_divide(\n"
     ]
    },
    {
     "name": "stdout",
     "output_type": "stream",
     "text": [
      "---------------------------------------------------\n",
      "\n",
      "Results for Scaled Gradient Projection Method \n",
      "\n",
      "---------------------------------------------------\n",
      "\n",
      "   Obj. function = 2.408832e+00\n",
      "\n",
      "   Gradient norm = 6.697681e-04 \n",
      "\n",
      "   ||X^T*X-I||_F = 9.29e-16\n",
      "\n",
      "   Iteration number = 3000\n",
      "\n",
      "   Cpu time (secs) = 4.2571\n",
      "\n",
      "   Number of evaluation(Obj. func) = 3276\n",
      "\n"
     ]
    },
    {
     "name": "stderr",
     "output_type": "stream",
     "text": [
      "/Users/lianama/anaconda3/lib/python3.10/site-packages/numpy/core/fromnumeric.py:3504: RuntimeWarning: Mean of empty slice.\n",
      "  return _methods._mean(a, axis=axis, dtype=dtype,\n",
      "/Users/lianama/anaconda3/lib/python3.10/site-packages/numpy/core/_methods.py:121: RuntimeWarning: invalid value encountered in divide\n",
      "  ret = um.true_divide(\n"
     ]
    },
    {
     "name": "stdout",
     "output_type": "stream",
     "text": [
      "---------------------------------------------------\n",
      "\n",
      "Results for Scaled Gradient Projection Method \n",
      "\n",
      "---------------------------------------------------\n",
      "\n",
      "   Obj. function = 2.408821e+00\n",
      "\n",
      "   Gradient norm = 2.380741e-04 \n",
      "\n",
      "   ||X^T*X-I||_F = 6.32e-16\n",
      "\n",
      "   Iteration number = 3000\n",
      "\n",
      "   Cpu time (secs) = 4.4912\n",
      "\n",
      "   Number of evaluation(Obj. func) = 3335\n",
      "\n"
     ]
    },
    {
     "name": "stderr",
     "output_type": "stream",
     "text": [
      "/Users/lianama/anaconda3/lib/python3.10/site-packages/numpy/core/fromnumeric.py:3504: RuntimeWarning: Mean of empty slice.\n",
      "  return _methods._mean(a, axis=axis, dtype=dtype,\n",
      "/Users/lianama/anaconda3/lib/python3.10/site-packages/numpy/core/_methods.py:121: RuntimeWarning: invalid value encountered in divide\n",
      "  ret = um.true_divide(\n"
     ]
    },
    {
     "name": "stdout",
     "output_type": "stream",
     "text": [
      "---------------------------------------------------\n",
      "\n",
      "Results for Scaled Gradient Projection Method \n",
      "\n",
      "---------------------------------------------------\n",
      "\n",
      "   Obj. function = 2.408872e+00\n",
      "\n",
      "   Gradient norm = 7.874792e-05 \n",
      "\n",
      "   ||X^T*X-I||_F = 4.97e-16\n",
      "\n",
      "   Iteration number = 3000\n",
      "\n",
      "   Cpu time (secs) = 4.1314\n",
      "\n",
      "   Number of evaluation(Obj. func) = 3317\n",
      "\n"
     ]
    },
    {
     "name": "stderr",
     "output_type": "stream",
     "text": [
      "/Users/lianama/anaconda3/lib/python3.10/site-packages/numpy/core/fromnumeric.py:3504: RuntimeWarning: Mean of empty slice.\n",
      "  return _methods._mean(a, axis=axis, dtype=dtype,\n",
      "/Users/lianama/anaconda3/lib/python3.10/site-packages/numpy/core/_methods.py:121: RuntimeWarning: invalid value encountered in divide\n",
      "  ret = um.true_divide(\n"
     ]
    },
    {
     "name": "stdout",
     "output_type": "stream",
     "text": [
      "---------------------------------------------------\n",
      "\n",
      "Results for Scaled Gradient Projection Method \n",
      "\n",
      "---------------------------------------------------\n",
      "\n",
      "   Obj. function = 2.408755e+00\n",
      "\n",
      "   Gradient norm = 2.322926e-04 \n",
      "\n",
      "   ||X^T*X-I||_F = 4.97e-16\n",
      "\n",
      "   Iteration number = 3000\n",
      "\n",
      "   Cpu time (secs) = 4.3850\n",
      "\n",
      "   Number of evaluation(Obj. func) = 3492\n",
      "\n"
     ]
    },
    {
     "name": "stderr",
     "output_type": "stream",
     "text": [
      "/Users/lianama/anaconda3/lib/python3.10/site-packages/numpy/core/fromnumeric.py:3504: RuntimeWarning: Mean of empty slice.\n",
      "  return _methods._mean(a, axis=axis, dtype=dtype,\n",
      "/Users/lianama/anaconda3/lib/python3.10/site-packages/numpy/core/_methods.py:121: RuntimeWarning: invalid value encountered in divide\n",
      "  ret = um.true_divide(\n"
     ]
    },
    {
     "name": "stdout",
     "output_type": "stream",
     "text": [
      "---------------------------------------------------\n",
      "\n",
      "Results for Scaled Gradient Projection Method \n",
      "\n",
      "---------------------------------------------------\n",
      "\n",
      "   Obj. function = 2.408840e+00\n",
      "\n",
      "   Gradient norm = 3.345922e-04 \n",
      "\n",
      "   ||X^T*X-I||_F = 4.97e-16\n",
      "\n",
      "   Iteration number = 3000\n",
      "\n",
      "   Cpu time (secs) = 4.1956\n",
      "\n",
      "   Number of evaluation(Obj. func) = 3321\n",
      "\n"
     ]
    },
    {
     "name": "stderr",
     "output_type": "stream",
     "text": [
      "/Users/lianama/anaconda3/lib/python3.10/site-packages/numpy/core/fromnumeric.py:3504: RuntimeWarning: Mean of empty slice.\n",
      "  return _methods._mean(a, axis=axis, dtype=dtype,\n",
      "/Users/lianama/anaconda3/lib/python3.10/site-packages/numpy/core/_methods.py:121: RuntimeWarning: invalid value encountered in divide\n",
      "  ret = um.true_divide(\n"
     ]
    },
    {
     "name": "stdout",
     "output_type": "stream",
     "text": [
      "---------------------------------------------------\n",
      "\n",
      "Results for Scaled Gradient Projection Method \n",
      "\n",
      "---------------------------------------------------\n",
      "\n",
      "   Obj. function = 2.408881e+00\n",
      "\n",
      "   Gradient norm = 2.138016e-03 \n",
      "\n",
      "   ||X^T*X-I||_F = 2.26e-16\n",
      "\n",
      "   Iteration number = 3000\n",
      "\n",
      "   Cpu time (secs) = 4.2690\n",
      "\n",
      "   Number of evaluation(Obj. func) = 3432\n",
      "\n"
     ]
    },
    {
     "name": "stderr",
     "output_type": "stream",
     "text": [
      "/Users/lianama/anaconda3/lib/python3.10/site-packages/numpy/core/fromnumeric.py:3504: RuntimeWarning: Mean of empty slice.\n",
      "  return _methods._mean(a, axis=axis, dtype=dtype,\n",
      "/Users/lianama/anaconda3/lib/python3.10/site-packages/numpy/core/_methods.py:121: RuntimeWarning: invalid value encountered in divide\n",
      "  ret = um.true_divide(\n"
     ]
    },
    {
     "name": "stdout",
     "output_type": "stream",
     "text": [
      "---------------------------------------------------\n",
      "\n",
      "Results for Scaled Gradient Projection Method \n",
      "\n",
      "---------------------------------------------------\n",
      "\n",
      "   Obj. function = 2.408866e+00\n",
      "\n",
      "   Gradient norm = 1.025386e-04 \n",
      "\n",
      "   ||X^T*X-I||_F = 3.15e-16\n",
      "\n",
      "   Iteration number = 3000\n",
      "\n",
      "   Cpu time (secs) = 4.1838\n",
      "\n",
      "   Number of evaluation(Obj. func) = 3324\n",
      "\n"
     ]
    },
    {
     "name": "stderr",
     "output_type": "stream",
     "text": [
      "/Users/lianama/anaconda3/lib/python3.10/site-packages/numpy/core/fromnumeric.py:3504: RuntimeWarning: Mean of empty slice.\n",
      "  return _methods._mean(a, axis=axis, dtype=dtype,\n",
      "/Users/lianama/anaconda3/lib/python3.10/site-packages/numpy/core/_methods.py:121: RuntimeWarning: invalid value encountered in divide\n",
      "  ret = um.true_divide(\n"
     ]
    },
    {
     "name": "stdout",
     "output_type": "stream",
     "text": [
      "---------------------------------------------------\n",
      "\n",
      "Results for Scaled Gradient Projection Method \n",
      "\n",
      "---------------------------------------------------\n",
      "\n",
      "   Obj. function = 2.408858e+00\n",
      "\n",
      "   Gradient norm = 3.948375e-04 \n",
      "\n",
      "   ||X^T*X-I||_F = 5.02e-16\n",
      "\n",
      "   Iteration number = 3000\n",
      "\n",
      "   Cpu time (secs) = 4.3884\n",
      "\n",
      "   Number of evaluation(Obj. func) = 3301\n",
      "\n"
     ]
    },
    {
     "name": "stderr",
     "output_type": "stream",
     "text": [
      "/Users/lianama/anaconda3/lib/python3.10/site-packages/numpy/core/fromnumeric.py:3504: RuntimeWarning: Mean of empty slice.\n",
      "  return _methods._mean(a, axis=axis, dtype=dtype,\n",
      "/Users/lianama/anaconda3/lib/python3.10/site-packages/numpy/core/_methods.py:121: RuntimeWarning: invalid value encountered in divide\n",
      "  ret = um.true_divide(\n"
     ]
    },
    {
     "name": "stdout",
     "output_type": "stream",
     "text": [
      "---------------------------------------------------\n",
      "\n",
      "Results for Scaled Gradient Projection Method \n",
      "\n",
      "---------------------------------------------------\n",
      "\n",
      "   Obj. function = 2.408813e+00\n",
      "\n",
      "   Gradient norm = 2.139129e-04 \n",
      "\n",
      "   ||X^T*X-I||_F = 3.16e-16\n",
      "\n",
      "   Iteration number = 3000\n",
      "\n",
      "   Cpu time (secs) = 4.6550\n",
      "\n",
      "   Number of evaluation(Obj. func) = 3383\n",
      "\n"
     ]
    },
    {
     "name": "stderr",
     "output_type": "stream",
     "text": [
      "/Users/lianama/anaconda3/lib/python3.10/site-packages/numpy/core/fromnumeric.py:3504: RuntimeWarning: Mean of empty slice.\n",
      "  return _methods._mean(a, axis=axis, dtype=dtype,\n",
      "/Users/lianama/anaconda3/lib/python3.10/site-packages/numpy/core/_methods.py:121: RuntimeWarning: invalid value encountered in divide\n",
      "  ret = um.true_divide(\n"
     ]
    },
    {
     "name": "stdout",
     "output_type": "stream",
     "text": [
      "---------------------------------------------------\n",
      "\n",
      "Results for Scaled Gradient Projection Method \n",
      "\n",
      "---------------------------------------------------\n",
      "\n",
      "   Obj. function = 2.408869e+00\n",
      "\n",
      "   Gradient norm = 1.133318e-04 \n",
      "\n",
      "   ||X^T*X-I||_F = 4.47e-16\n",
      "\n",
      "   Iteration number = 3000\n",
      "\n",
      "   Cpu time (secs) = 4.2632\n",
      "\n",
      "   Number of evaluation(Obj. func) = 3403\n",
      "\n"
     ]
    },
    {
     "name": "stderr",
     "output_type": "stream",
     "text": [
      "/Users/lianama/anaconda3/lib/python3.10/site-packages/numpy/core/fromnumeric.py:3504: RuntimeWarning: Mean of empty slice.\n",
      "  return _methods._mean(a, axis=axis, dtype=dtype,\n",
      "/Users/lianama/anaconda3/lib/python3.10/site-packages/numpy/core/_methods.py:121: RuntimeWarning: invalid value encountered in divide\n",
      "  ret = um.true_divide(\n"
     ]
    },
    {
     "name": "stdout",
     "output_type": "stream",
     "text": [
      "---------------------------------------------------\n",
      "\n",
      "Results for Scaled Gradient Projection Method \n",
      "\n",
      "---------------------------------------------------\n",
      "\n",
      "   Obj. function = 2.408840e+00\n",
      "\n",
      "   Gradient norm = 1.335921e-04 \n",
      "\n",
      "   ||X^T*X-I||_F = 4.58e-16\n",
      "\n",
      "   Iteration number = 3000\n",
      "\n",
      "   Cpu time (secs) = 4.1801\n",
      "\n",
      "   Number of evaluation(Obj. func) = 3325\n",
      "\n"
     ]
    },
    {
     "name": "stderr",
     "output_type": "stream",
     "text": [
      "/Users/lianama/anaconda3/lib/python3.10/site-packages/numpy/core/fromnumeric.py:3504: RuntimeWarning: Mean of empty slice.\n",
      "  return _methods._mean(a, axis=axis, dtype=dtype,\n",
      "/Users/lianama/anaconda3/lib/python3.10/site-packages/numpy/core/_methods.py:121: RuntimeWarning: invalid value encountered in divide\n",
      "  ret = um.true_divide(\n"
     ]
    },
    {
     "name": "stdout",
     "output_type": "stream",
     "text": [
      "---------------------------------------------------\n",
      "\n",
      "Results for Scaled Gradient Projection Method \n",
      "\n",
      "---------------------------------------------------\n",
      "\n",
      "   Obj. function = 2.408873e+00\n",
      "\n",
      "   Gradient norm = 1.055964e-04 \n",
      "\n",
      "   ||X^T*X-I||_F = 2.69e-16\n",
      "\n",
      "   Iteration number = 3000\n",
      "\n",
      "   Cpu time (secs) = 4.2185\n",
      "\n",
      "   Number of evaluation(Obj. func) = 3356\n",
      "\n"
     ]
    },
    {
     "name": "stderr",
     "output_type": "stream",
     "text": [
      "/Users/lianama/anaconda3/lib/python3.10/site-packages/numpy/core/fromnumeric.py:3504: RuntimeWarning: Mean of empty slice.\n",
      "  return _methods._mean(a, axis=axis, dtype=dtype,\n",
      "/Users/lianama/anaconda3/lib/python3.10/site-packages/numpy/core/_methods.py:121: RuntimeWarning: invalid value encountered in divide\n",
      "  ret = um.true_divide(\n"
     ]
    },
    {
     "name": "stdout",
     "output_type": "stream",
     "text": [
      "---------------------------------------------------\n",
      "\n",
      "Results for Scaled Gradient Projection Method \n",
      "\n",
      "---------------------------------------------------\n",
      "\n",
      "   Obj. function = 2.408832e+00\n",
      "\n",
      "   Gradient norm = 1.896328e-04 \n",
      "\n",
      "   ||X^T*X-I||_F = 7.05e-16\n",
      "\n",
      "   Iteration number = 3000\n",
      "\n",
      "   Cpu time (secs) = 5.2849\n",
      "\n",
      "   Number of evaluation(Obj. func) = 3335\n",
      "\n"
     ]
    },
    {
     "name": "stderr",
     "output_type": "stream",
     "text": [
      "/Users/lianama/anaconda3/lib/python3.10/site-packages/numpy/core/fromnumeric.py:3504: RuntimeWarning: Mean of empty slice.\n",
      "  return _methods._mean(a, axis=axis, dtype=dtype,\n",
      "/Users/lianama/anaconda3/lib/python3.10/site-packages/numpy/core/_methods.py:121: RuntimeWarning: invalid value encountered in divide\n",
      "  ret = um.true_divide(\n"
     ]
    },
    {
     "name": "stdout",
     "output_type": "stream",
     "text": [
      "---------------------------------------------------\n",
      "\n",
      "Results for Scaled Gradient Projection Method \n",
      "\n",
      "---------------------------------------------------\n",
      "\n",
      "   Obj. function = 2.408880e+00\n",
      "\n",
      "   Gradient norm = 5.157227e-04 \n",
      "\n",
      "   ||X^T*X-I||_F = 2.29e-16\n",
      "\n",
      "   Iteration number = 3000\n",
      "\n",
      "   Cpu time (secs) = 4.2004\n",
      "\n",
      "   Number of evaluation(Obj. func) = 3319\n",
      "\n"
     ]
    },
    {
     "name": "stderr",
     "output_type": "stream",
     "text": [
      "/Users/lianama/anaconda3/lib/python3.10/site-packages/numpy/core/fromnumeric.py:3504: RuntimeWarning: Mean of empty slice.\n",
      "  return _methods._mean(a, axis=axis, dtype=dtype,\n",
      "/Users/lianama/anaconda3/lib/python3.10/site-packages/numpy/core/_methods.py:121: RuntimeWarning: invalid value encountered in divide\n",
      "  ret = um.true_divide(\n"
     ]
    },
    {
     "name": "stdout",
     "output_type": "stream",
     "text": [
      "---------------------------------------------------\n",
      "\n",
      "Results for Scaled Gradient Projection Method \n",
      "\n",
      "---------------------------------------------------\n",
      "\n",
      "   Obj. function = 2.408868e+00\n",
      "\n",
      "   Gradient norm = 6.121731e-04 \n",
      "\n",
      "   ||X^T*X-I||_F = 2.49e-16\n",
      "\n",
      "   Iteration number = 3000\n",
      "\n",
      "   Cpu time (secs) = 4.6169\n",
      "\n",
      "   Number of evaluation(Obj. func) = 3387\n",
      "\n"
     ]
    },
    {
     "name": "stderr",
     "output_type": "stream",
     "text": [
      "/Users/lianama/anaconda3/lib/python3.10/site-packages/numpy/core/fromnumeric.py:3504: RuntimeWarning: Mean of empty slice.\n",
      "  return _methods._mean(a, axis=axis, dtype=dtype,\n",
      "/Users/lianama/anaconda3/lib/python3.10/site-packages/numpy/core/_methods.py:121: RuntimeWarning: invalid value encountered in divide\n",
      "  ret = um.true_divide(\n"
     ]
    },
    {
     "name": "stdout",
     "output_type": "stream",
     "text": [
      "---------------------------------------------------\n",
      "\n",
      "Results for Scaled Gradient Projection Method \n",
      "\n",
      "---------------------------------------------------\n",
      "\n",
      "   Obj. function = 2.408871e+00\n",
      "\n",
      "   Gradient norm = 1.681541e-04 \n",
      "\n",
      "   ||X^T*X-I||_F = 2.28e-16\n",
      "\n",
      "   Iteration number = 3000\n",
      "\n",
      "   Cpu time (secs) = 4.8406\n",
      "\n",
      "   Number of evaluation(Obj. func) = 3288\n",
      "\n"
     ]
    },
    {
     "name": "stderr",
     "output_type": "stream",
     "text": [
      "/Users/lianama/anaconda3/lib/python3.10/site-packages/numpy/core/fromnumeric.py:3504: RuntimeWarning: Mean of empty slice.\n",
      "  return _methods._mean(a, axis=axis, dtype=dtype,\n",
      "/Users/lianama/anaconda3/lib/python3.10/site-packages/numpy/core/_methods.py:121: RuntimeWarning: invalid value encountered in divide\n",
      "  ret = um.true_divide(\n"
     ]
    },
    {
     "name": "stdout",
     "output_type": "stream",
     "text": [
      "---------------------------------------------------\n",
      "\n",
      "Results for Scaled Gradient Projection Method \n",
      "\n",
      "---------------------------------------------------\n",
      "\n",
      "   Obj. function = 2.408831e+00\n",
      "\n",
      "   Gradient norm = 1.693552e-04 \n",
      "\n",
      "   ||X^T*X-I||_F = 2.48e-16\n",
      "\n",
      "   Iteration number = 3000\n",
      "\n",
      "   Cpu time (secs) = 4.2024\n",
      "\n",
      "   Number of evaluation(Obj. func) = 3369\n",
      "\n"
     ]
    },
    {
     "name": "stderr",
     "output_type": "stream",
     "text": [
      "/Users/lianama/anaconda3/lib/python3.10/site-packages/numpy/core/fromnumeric.py:3504: RuntimeWarning: Mean of empty slice.\n",
      "  return _methods._mean(a, axis=axis, dtype=dtype,\n",
      "/Users/lianama/anaconda3/lib/python3.10/site-packages/numpy/core/_methods.py:121: RuntimeWarning: invalid value encountered in divide\n",
      "  ret = um.true_divide(\n"
     ]
    },
    {
     "name": "stdout",
     "output_type": "stream",
     "text": [
      "---------------------------------------------------\n",
      "\n",
      "Results for Scaled Gradient Projection Method \n",
      "\n",
      "---------------------------------------------------\n",
      "\n",
      "   Obj. function = 2.408845e+00\n",
      "\n",
      "   Gradient norm = 5.292426e-04 \n",
      "\n",
      "   ||X^T*X-I||_F = 5.56e-16\n",
      "\n",
      "   Iteration number = 3000\n",
      "\n",
      "   Cpu time (secs) = 5.1623\n",
      "\n",
      "   Number of evaluation(Obj. func) = 3377\n",
      "\n"
     ]
    },
    {
     "name": "stderr",
     "output_type": "stream",
     "text": [
      "/Users/lianama/anaconda3/lib/python3.10/site-packages/numpy/core/fromnumeric.py:3504: RuntimeWarning: Mean of empty slice.\n",
      "  return _methods._mean(a, axis=axis, dtype=dtype,\n",
      "/Users/lianama/anaconda3/lib/python3.10/site-packages/numpy/core/_methods.py:121: RuntimeWarning: invalid value encountered in divide\n",
      "  ret = um.true_divide(\n"
     ]
    },
    {
     "name": "stdout",
     "output_type": "stream",
     "text": [
      "---------------------------------------------------\n",
      "\n",
      "Results for Scaled Gradient Projection Method \n",
      "\n",
      "---------------------------------------------------\n",
      "\n",
      "   Obj. function = 2.408835e+00\n",
      "\n",
      "   Gradient norm = 4.436308e-04 \n",
      "\n",
      "   ||X^T*X-I||_F = 2.62e-16\n",
      "\n",
      "   Iteration number = 3000\n",
      "\n",
      "   Cpu time (secs) = 4.0942\n",
      "\n",
      "   Number of evaluation(Obj. func) = 3308\n",
      "\n"
     ]
    },
    {
     "name": "stderr",
     "output_type": "stream",
     "text": [
      "/Users/lianama/anaconda3/lib/python3.10/site-packages/numpy/core/fromnumeric.py:3504: RuntimeWarning: Mean of empty slice.\n",
      "  return _methods._mean(a, axis=axis, dtype=dtype,\n",
      "/Users/lianama/anaconda3/lib/python3.10/site-packages/numpy/core/_methods.py:121: RuntimeWarning: invalid value encountered in divide\n",
      "  ret = um.true_divide(\n"
     ]
    },
    {
     "name": "stdout",
     "output_type": "stream",
     "text": [
      "---------------------------------------------------\n",
      "\n",
      "Results for Scaled Gradient Projection Method \n",
      "\n",
      "---------------------------------------------------\n",
      "\n",
      "   Obj. function = 2.408873e+00\n",
      "\n",
      "   Gradient norm = 1.607780e-04 \n",
      "\n",
      "   ||X^T*X-I||_F = 2.55e-16\n",
      "\n",
      "   Iteration number = 3000\n",
      "\n",
      "   Cpu time (secs) = 4.5103\n",
      "\n",
      "   Number of evaluation(Obj. func) = 3373\n",
      "\n"
     ]
    },
    {
     "name": "stderr",
     "output_type": "stream",
     "text": [
      "/Users/lianama/anaconda3/lib/python3.10/site-packages/numpy/core/fromnumeric.py:3504: RuntimeWarning: Mean of empty slice.\n",
      "  return _methods._mean(a, axis=axis, dtype=dtype,\n",
      "/Users/lianama/anaconda3/lib/python3.10/site-packages/numpy/core/_methods.py:121: RuntimeWarning: invalid value encountered in divide\n",
      "  ret = um.true_divide(\n"
     ]
    },
    {
     "name": "stdout",
     "output_type": "stream",
     "text": [
      "---------------------------------------------------\n",
      "\n",
      "Results for Scaled Gradient Projection Method \n",
      "\n",
      "---------------------------------------------------\n",
      "\n",
      "   Obj. function = 2.408866e+00\n",
      "\n",
      "   Gradient norm = 1.547770e-03 \n",
      "\n",
      "   ||X^T*X-I||_F = 2.23e-16\n",
      "\n",
      "   Iteration number = 3000\n",
      "\n",
      "   Cpu time (secs) = 4.0884\n",
      "\n",
      "   Number of evaluation(Obj. func) = 3282\n",
      "\n"
     ]
    },
    {
     "name": "stderr",
     "output_type": "stream",
     "text": [
      "/Users/lianama/anaconda3/lib/python3.10/site-packages/numpy/core/fromnumeric.py:3504: RuntimeWarning: Mean of empty slice.\n",
      "  return _methods._mean(a, axis=axis, dtype=dtype,\n",
      "/Users/lianama/anaconda3/lib/python3.10/site-packages/numpy/core/_methods.py:121: RuntimeWarning: invalid value encountered in divide\n",
      "  ret = um.true_divide(\n"
     ]
    },
    {
     "name": "stdout",
     "output_type": "stream",
     "text": [
      "---------------------------------------------------\n",
      "\n",
      "Results for Scaled Gradient Projection Method \n",
      "\n",
      "---------------------------------------------------\n",
      "\n",
      "   Obj. function = 2.408859e+00\n",
      "\n",
      "   Gradient norm = 2.386641e-04 \n",
      "\n",
      "   ||X^T*X-I||_F = 3.14e-16\n",
      "\n",
      "   Iteration number = 3000\n",
      "\n",
      "   Cpu time (secs) = 4.2296\n",
      "\n",
      "   Number of evaluation(Obj. func) = 3293\n",
      "\n"
     ]
    },
    {
     "name": "stderr",
     "output_type": "stream",
     "text": [
      "/Users/lianama/anaconda3/lib/python3.10/site-packages/numpy/core/fromnumeric.py:3504: RuntimeWarning: Mean of empty slice.\n",
      "  return _methods._mean(a, axis=axis, dtype=dtype,\n",
      "/Users/lianama/anaconda3/lib/python3.10/site-packages/numpy/core/_methods.py:121: RuntimeWarning: invalid value encountered in divide\n",
      "  ret = um.true_divide(\n"
     ]
    },
    {
     "name": "stdout",
     "output_type": "stream",
     "text": [
      "---------------------------------------------------\n",
      "\n",
      "Results for Scaled Gradient Projection Method \n",
      "\n",
      "---------------------------------------------------\n",
      "\n",
      "   Obj. function = 2.408851e+00\n",
      "\n",
      "   Gradient norm = 1.931876e-04 \n",
      "\n",
      "   ||X^T*X-I||_F = 9.49e-18\n",
      "\n",
      "   Iteration number = 3000\n",
      "\n",
      "   Cpu time (secs) = 4.5129\n",
      "\n",
      "   Number of evaluation(Obj. func) = 3392\n",
      "\n"
     ]
    },
    {
     "name": "stderr",
     "output_type": "stream",
     "text": [
      "/Users/lianama/anaconda3/lib/python3.10/site-packages/numpy/core/fromnumeric.py:3504: RuntimeWarning: Mean of empty slice.\n",
      "  return _methods._mean(a, axis=axis, dtype=dtype,\n",
      "/Users/lianama/anaconda3/lib/python3.10/site-packages/numpy/core/_methods.py:121: RuntimeWarning: invalid value encountered in divide\n",
      "  ret = um.true_divide(\n"
     ]
    },
    {
     "name": "stdout",
     "output_type": "stream",
     "text": [
      "---------------------------------------------------\n",
      "\n",
      "Results for Scaled Gradient Projection Method \n",
      "\n",
      "---------------------------------------------------\n",
      "\n",
      "   Obj. function = 2.408864e+00\n",
      "\n",
      "   Gradient norm = 1.235283e-04 \n",
      "\n",
      "   ||X^T*X-I||_F = 4.98e-16\n",
      "\n",
      "   Iteration number = 3000\n",
      "\n",
      "   Cpu time (secs) = 4.5807\n",
      "\n",
      "   Number of evaluation(Obj. func) = 3307\n",
      "\n"
     ]
    },
    {
     "name": "stderr",
     "output_type": "stream",
     "text": [
      "/Users/lianama/anaconda3/lib/python3.10/site-packages/numpy/core/fromnumeric.py:3504: RuntimeWarning: Mean of empty slice.\n",
      "  return _methods._mean(a, axis=axis, dtype=dtype,\n",
      "/Users/lianama/anaconda3/lib/python3.10/site-packages/numpy/core/_methods.py:121: RuntimeWarning: invalid value encountered in divide\n",
      "  ret = um.true_divide(\n"
     ]
    },
    {
     "name": "stdout",
     "output_type": "stream",
     "text": [
      "---------------------------------------------------\n",
      "\n",
      "Results for Scaled Gradient Projection Method \n",
      "\n",
      "---------------------------------------------------\n",
      "\n",
      "   Obj. function = 2.408831e+00\n",
      "\n",
      "   Gradient norm = 1.369088e-03 \n",
      "\n",
      "   ||X^T*X-I||_F = 6.72e-16\n",
      "\n",
      "   Iteration number = 3000\n",
      "\n",
      "   Cpu time (secs) = 13.1852\n",
      "\n",
      "   Number of evaluation(Obj. func) = 3406\n",
      "\n"
     ]
    },
    {
     "name": "stderr",
     "output_type": "stream",
     "text": [
      "/Users/lianama/anaconda3/lib/python3.10/site-packages/numpy/core/fromnumeric.py:3504: RuntimeWarning: Mean of empty slice.\n",
      "  return _methods._mean(a, axis=axis, dtype=dtype,\n",
      "/Users/lianama/anaconda3/lib/python3.10/site-packages/numpy/core/_methods.py:121: RuntimeWarning: invalid value encountered in divide\n",
      "  ret = um.true_divide(\n"
     ]
    },
    {
     "name": "stdout",
     "output_type": "stream",
     "text": [
      "---------------------------------------------------\n",
      "\n",
      "Results for Scaled Gradient Projection Method \n",
      "\n",
      "---------------------------------------------------\n",
      "\n",
      "   Obj. function = 2.408809e+00\n",
      "\n",
      "   Gradient norm = 2.616906e-04 \n",
      "\n",
      "   ||X^T*X-I||_F = 4.98e-16\n",
      "\n",
      "   Iteration number = 3000\n",
      "\n",
      "   Cpu time (secs) = 7.4095\n",
      "\n",
      "   Number of evaluation(Obj. func) = 3417\n",
      "\n"
     ]
    },
    {
     "name": "stderr",
     "output_type": "stream",
     "text": [
      "/Users/lianama/anaconda3/lib/python3.10/site-packages/numpy/core/fromnumeric.py:3504: RuntimeWarning: Mean of empty slice.\n",
      "  return _methods._mean(a, axis=axis, dtype=dtype,\n",
      "/Users/lianama/anaconda3/lib/python3.10/site-packages/numpy/core/_methods.py:121: RuntimeWarning: invalid value encountered in divide\n",
      "  ret = um.true_divide(\n"
     ]
    },
    {
     "name": "stdout",
     "output_type": "stream",
     "text": [
      "---------------------------------------------------\n",
      "\n",
      "Results for Scaled Gradient Projection Method \n",
      "\n",
      "---------------------------------------------------\n",
      "\n",
      "   Obj. function = 2.408866e+00\n",
      "\n",
      "   Gradient norm = 1.860399e-03 \n",
      "\n",
      "   ||X^T*X-I||_F = 7.02e-16\n",
      "\n",
      "   Iteration number = 3000\n",
      "\n",
      "   Cpu time (secs) = 4.6259\n",
      "\n",
      "   Number of evaluation(Obj. func) = 3395\n",
      "\n"
     ]
    },
    {
     "name": "stderr",
     "output_type": "stream",
     "text": [
      "/Users/lianama/anaconda3/lib/python3.10/site-packages/numpy/core/fromnumeric.py:3504: RuntimeWarning: Mean of empty slice.\n",
      "  return _methods._mean(a, axis=axis, dtype=dtype,\n",
      "/Users/lianama/anaconda3/lib/python3.10/site-packages/numpy/core/_methods.py:121: RuntimeWarning: invalid value encountered in divide\n",
      "  ret = um.true_divide(\n"
     ]
    },
    {
     "name": "stdout",
     "output_type": "stream",
     "text": [
      "---------------------------------------------------\n",
      "\n",
      "Results for Scaled Gradient Projection Method \n",
      "\n",
      "---------------------------------------------------\n",
      "\n",
      "   Obj. function = 2.408865e+00\n",
      "\n",
      "   Gradient norm = 1.031892e-04 \n",
      "\n",
      "   ||X^T*X-I||_F = 2.49e-16\n",
      "\n",
      "   Iteration number = 3000\n",
      "\n",
      "   Cpu time (secs) = 4.3486\n",
      "\n",
      "   Number of evaluation(Obj. func) = 3371\n",
      "\n"
     ]
    },
    {
     "name": "stderr",
     "output_type": "stream",
     "text": [
      "/Users/lianama/anaconda3/lib/python3.10/site-packages/numpy/core/fromnumeric.py:3504: RuntimeWarning: Mean of empty slice.\n",
      "  return _methods._mean(a, axis=axis, dtype=dtype,\n",
      "/Users/lianama/anaconda3/lib/python3.10/site-packages/numpy/core/_methods.py:121: RuntimeWarning: invalid value encountered in divide\n",
      "  ret = um.true_divide(\n"
     ]
    },
    {
     "name": "stdout",
     "output_type": "stream",
     "text": [
      "---------------------------------------------------\n",
      "\n",
      "Results for Scaled Gradient Projection Method \n",
      "\n",
      "---------------------------------------------------\n",
      "\n",
      "   Obj. function = 2.408837e+00\n",
      "\n",
      "   Gradient norm = 1.901129e-04 \n",
      "\n",
      "   ||X^T*X-I||_F = 4.03e-16\n",
      "\n",
      "   Iteration number = 3000\n",
      "\n",
      "   Cpu time (secs) = 4.4021\n",
      "\n",
      "   Number of evaluation(Obj. func) = 3341\n",
      "\n"
     ]
    },
    {
     "name": "stderr",
     "output_type": "stream",
     "text": [
      "/Users/lianama/anaconda3/lib/python3.10/site-packages/numpy/core/fromnumeric.py:3504: RuntimeWarning: Mean of empty slice.\n",
      "  return _methods._mean(a, axis=axis, dtype=dtype,\n",
      "/Users/lianama/anaconda3/lib/python3.10/site-packages/numpy/core/_methods.py:121: RuntimeWarning: invalid value encountered in divide\n",
      "  ret = um.true_divide(\n"
     ]
    },
    {
     "name": "stdout",
     "output_type": "stream",
     "text": [
      "---------------------------------------------------\n",
      "\n",
      "Results for Scaled Gradient Projection Method \n",
      "\n",
      "---------------------------------------------------\n",
      "\n",
      "   Obj. function = 2.408868e+00\n",
      "\n",
      "   Gradient norm = 1.693573e-04 \n",
      "\n",
      "   ||X^T*X-I||_F = 3.16e-16\n",
      "\n",
      "   Iteration number = 3000\n",
      "\n",
      "   Cpu time (secs) = 4.2223\n",
      "\n",
      "   Number of evaluation(Obj. func) = 3321\n",
      "\n"
     ]
    },
    {
     "name": "stderr",
     "output_type": "stream",
     "text": [
      "/Users/lianama/anaconda3/lib/python3.10/site-packages/numpy/core/fromnumeric.py:3504: RuntimeWarning: Mean of empty slice.\n",
      "  return _methods._mean(a, axis=axis, dtype=dtype,\n",
      "/Users/lianama/anaconda3/lib/python3.10/site-packages/numpy/core/_methods.py:121: RuntimeWarning: invalid value encountered in divide\n",
      "  ret = um.true_divide(\n"
     ]
    },
    {
     "name": "stdout",
     "output_type": "stream",
     "text": [
      "---------------------------------------------------\n",
      "\n",
      "Results for Scaled Gradient Projection Method \n",
      "\n",
      "---------------------------------------------------\n",
      "\n",
      "   Obj. function = 2.408813e+00\n",
      "\n",
      "   Gradient norm = 1.767094e-04 \n",
      "\n",
      "   ||X^T*X-I||_F = 6.28e-16\n",
      "\n",
      "   Iteration number = 3000\n",
      "\n",
      "   Cpu time (secs) = 4.4446\n",
      "\n",
      "   Number of evaluation(Obj. func) = 3379\n",
      "\n"
     ]
    },
    {
     "name": "stderr",
     "output_type": "stream",
     "text": [
      "/Users/lianama/anaconda3/lib/python3.10/site-packages/numpy/core/fromnumeric.py:3504: RuntimeWarning: Mean of empty slice.\n",
      "  return _methods._mean(a, axis=axis, dtype=dtype,\n",
      "/Users/lianama/anaconda3/lib/python3.10/site-packages/numpy/core/_methods.py:121: RuntimeWarning: invalid value encountered in divide\n",
      "  ret = um.true_divide(\n"
     ]
    },
    {
     "name": "stdout",
     "output_type": "stream",
     "text": [
      "---------------------------------------------------\n",
      "\n",
      "Results for Scaled Gradient Projection Method \n",
      "\n",
      "---------------------------------------------------\n",
      "\n",
      "   Obj. function = 2.408876e+00\n",
      "\n",
      "   Gradient norm = 1.422888e-04 \n",
      "\n",
      "   ||X^T*X-I||_F = 3.37e-16\n",
      "\n",
      "   Iteration number = 3000\n",
      "\n",
      "   Cpu time (secs) = 4.7348\n",
      "\n",
      "   Number of evaluation(Obj. func) = 3314\n",
      "\n"
     ]
    },
    {
     "name": "stderr",
     "output_type": "stream",
     "text": [
      "/Users/lianama/anaconda3/lib/python3.10/site-packages/numpy/core/fromnumeric.py:3504: RuntimeWarning: Mean of empty slice.\n",
      "  return _methods._mean(a, axis=axis, dtype=dtype,\n",
      "/Users/lianama/anaconda3/lib/python3.10/site-packages/numpy/core/_methods.py:121: RuntimeWarning: invalid value encountered in divide\n",
      "  ret = um.true_divide(\n"
     ]
    },
    {
     "name": "stdout",
     "output_type": "stream",
     "text": [
      "---------------------------------------------------\n",
      "\n",
      "Results for Scaled Gradient Projection Method \n",
      "\n",
      "---------------------------------------------------\n",
      "\n",
      "   Obj. function = 2.408843e+00\n",
      "\n",
      "   Gradient norm = 1.524960e-03 \n",
      "\n",
      "   ||X^T*X-I||_F = 1.81e-17\n",
      "\n",
      "   Iteration number = 3000\n",
      "\n",
      "   Cpu time (secs) = 4.7204\n",
      "\n",
      "   Number of evaluation(Obj. func) = 3355\n",
      "\n"
     ]
    },
    {
     "name": "stderr",
     "output_type": "stream",
     "text": [
      "/Users/lianama/anaconda3/lib/python3.10/site-packages/numpy/core/fromnumeric.py:3504: RuntimeWarning: Mean of empty slice.\n",
      "  return _methods._mean(a, axis=axis, dtype=dtype,\n",
      "/Users/lianama/anaconda3/lib/python3.10/site-packages/numpy/core/_methods.py:121: RuntimeWarning: invalid value encountered in divide\n",
      "  ret = um.true_divide(\n"
     ]
    },
    {
     "name": "stdout",
     "output_type": "stream",
     "text": [
      "---------------------------------------------------\n",
      "\n",
      "Results for Scaled Gradient Projection Method \n",
      "\n",
      "---------------------------------------------------\n",
      "\n",
      "   Obj. function = 2.408872e+00\n",
      "\n",
      "   Gradient norm = 5.678076e-04 \n",
      "\n",
      "   ||X^T*X-I||_F = 2.25e-16\n",
      "\n",
      "   Iteration number = 3000\n",
      "\n",
      "   Cpu time (secs) = 4.2483\n",
      "\n",
      "   Number of evaluation(Obj. func) = 3330\n",
      "\n"
     ]
    },
    {
     "name": "stderr",
     "output_type": "stream",
     "text": [
      "/Users/lianama/anaconda3/lib/python3.10/site-packages/numpy/core/fromnumeric.py:3504: RuntimeWarning: Mean of empty slice.\n",
      "  return _methods._mean(a, axis=axis, dtype=dtype,\n",
      "/Users/lianama/anaconda3/lib/python3.10/site-packages/numpy/core/_methods.py:121: RuntimeWarning: invalid value encountered in divide\n",
      "  ret = um.true_divide(\n"
     ]
    },
    {
     "name": "stdout",
     "output_type": "stream",
     "text": [
      "---------------------------------------------------\n",
      "\n",
      "Results for Scaled Gradient Projection Method \n",
      "\n",
      "---------------------------------------------------\n",
      "\n",
      "   Obj. function = 2.408846e+00\n",
      "\n",
      "   Gradient norm = 3.076941e-04 \n",
      "\n",
      "   ||X^T*X-I||_F = 3.15e-16\n",
      "\n",
      "   Iteration number = 3000\n",
      "\n",
      "   Cpu time (secs) = 4.4196\n",
      "\n",
      "   Number of evaluation(Obj. func) = 3358\n",
      "\n"
     ]
    },
    {
     "name": "stderr",
     "output_type": "stream",
     "text": [
      "/Users/lianama/anaconda3/lib/python3.10/site-packages/numpy/core/fromnumeric.py:3504: RuntimeWarning: Mean of empty slice.\n",
      "  return _methods._mean(a, axis=axis, dtype=dtype,\n",
      "/Users/lianama/anaconda3/lib/python3.10/site-packages/numpy/core/_methods.py:121: RuntimeWarning: invalid value encountered in divide\n",
      "  ret = um.true_divide(\n"
     ]
    },
    {
     "name": "stdout",
     "output_type": "stream",
     "text": [
      "---------------------------------------------------\n",
      "\n",
      "Results for Scaled Gradient Projection Method \n",
      "\n",
      "---------------------------------------------------\n",
      "\n",
      "   Obj. function = 2.408831e+00\n",
      "\n",
      "   Gradient norm = 1.504000e-04 \n",
      "\n",
      "   ||X^T*X-I||_F = 1.13e-16\n",
      "\n",
      "   Iteration number = 3000\n",
      "\n",
      "   Cpu time (secs) = 4.2910\n",
      "\n",
      "   Number of evaluation(Obj. func) = 3419\n",
      "\n"
     ]
    },
    {
     "name": "stderr",
     "output_type": "stream",
     "text": [
      "/Users/lianama/anaconda3/lib/python3.10/site-packages/numpy/core/fromnumeric.py:3504: RuntimeWarning: Mean of empty slice.\n",
      "  return _methods._mean(a, axis=axis, dtype=dtype,\n",
      "/Users/lianama/anaconda3/lib/python3.10/site-packages/numpy/core/_methods.py:121: RuntimeWarning: invalid value encountered in divide\n",
      "  ret = um.true_divide(\n"
     ]
    },
    {
     "name": "stdout",
     "output_type": "stream",
     "text": [
      "---------------------------------------------------\n",
      "\n",
      "Results for Scaled Gradient Projection Method \n",
      "\n",
      "---------------------------------------------------\n",
      "\n",
      "   Obj. function = 2.408836e+00\n",
      "\n",
      "   Gradient norm = 4.603375e-03 \n",
      "\n",
      "   ||X^T*X-I||_F = 2.24e-16\n",
      "\n",
      "   Iteration number = 3000\n",
      "\n",
      "   Cpu time (secs) = 4.2790\n",
      "\n",
      "   Number of evaluation(Obj. func) = 3321\n",
      "\n"
     ]
    },
    {
     "name": "stderr",
     "output_type": "stream",
     "text": [
      "/Users/lianama/anaconda3/lib/python3.10/site-packages/numpy/core/fromnumeric.py:3504: RuntimeWarning: Mean of empty slice.\n",
      "  return _methods._mean(a, axis=axis, dtype=dtype,\n",
      "/Users/lianama/anaconda3/lib/python3.10/site-packages/numpy/core/_methods.py:121: RuntimeWarning: invalid value encountered in divide\n",
      "  ret = um.true_divide(\n"
     ]
    },
    {
     "name": "stdout",
     "output_type": "stream",
     "text": [
      "---------------------------------------------------\n",
      "\n",
      "Results for Scaled Gradient Projection Method \n",
      "\n",
      "---------------------------------------------------\n",
      "\n",
      "   Obj. function = 2.408832e+00\n",
      "\n",
      "   Gradient norm = 9.927157e-04 \n",
      "\n",
      "   ||X^T*X-I||_F = 2.23e-17\n",
      "\n",
      "   Iteration number = 3000\n",
      "\n",
      "   Cpu time (secs) = 4.3800\n",
      "\n",
      "   Number of evaluation(Obj. func) = 3351\n",
      "\n"
     ]
    },
    {
     "name": "stderr",
     "output_type": "stream",
     "text": [
      "/Users/lianama/anaconda3/lib/python3.10/site-packages/numpy/core/fromnumeric.py:3504: RuntimeWarning: Mean of empty slice.\n",
      "  return _methods._mean(a, axis=axis, dtype=dtype,\n",
      "/Users/lianama/anaconda3/lib/python3.10/site-packages/numpy/core/_methods.py:121: RuntimeWarning: invalid value encountered in divide\n",
      "  ret = um.true_divide(\n"
     ]
    },
    {
     "name": "stdout",
     "output_type": "stream",
     "text": [
      "---------------------------------------------------\n",
      "\n",
      "Results for Scaled Gradient Projection Method \n",
      "\n",
      "---------------------------------------------------\n",
      "\n",
      "   Obj. function = 2.408851e+00\n",
      "\n",
      "   Gradient norm = 6.212497e-04 \n",
      "\n",
      "   ||X^T*X-I||_F = 3.23e-16\n",
      "\n",
      "   Iteration number = 3000\n",
      "\n",
      "   Cpu time (secs) = 4.1782\n",
      "\n",
      "   Number of evaluation(Obj. func) = 3363\n",
      "\n"
     ]
    },
    {
     "name": "stderr",
     "output_type": "stream",
     "text": [
      "/Users/lianama/anaconda3/lib/python3.10/site-packages/numpy/core/fromnumeric.py:3504: RuntimeWarning: Mean of empty slice.\n",
      "  return _methods._mean(a, axis=axis, dtype=dtype,\n",
      "/Users/lianama/anaconda3/lib/python3.10/site-packages/numpy/core/_methods.py:121: RuntimeWarning: invalid value encountered in divide\n",
      "  ret = um.true_divide(\n"
     ]
    },
    {
     "name": "stdout",
     "output_type": "stream",
     "text": [
      "---------------------------------------------------\n",
      "\n",
      "Results for Scaled Gradient Projection Method \n",
      "\n",
      "---------------------------------------------------\n",
      "\n",
      "   Obj. function = 2.408814e+00\n",
      "\n",
      "   Gradient norm = 5.096253e-04 \n",
      "\n",
      "   ||X^T*X-I||_F = 4.97e-16\n",
      "\n",
      "   Iteration number = 3000\n",
      "\n",
      "   Cpu time (secs) = 6.7875\n",
      "\n",
      "   Number of evaluation(Obj. func) = 3433\n",
      "\n"
     ]
    },
    {
     "name": "stderr",
     "output_type": "stream",
     "text": [
      "/Users/lianama/anaconda3/lib/python3.10/site-packages/numpy/core/fromnumeric.py:3504: RuntimeWarning: Mean of empty slice.\n",
      "  return _methods._mean(a, axis=axis, dtype=dtype,\n",
      "/Users/lianama/anaconda3/lib/python3.10/site-packages/numpy/core/_methods.py:121: RuntimeWarning: invalid value encountered in divide\n",
      "  ret = um.true_divide(\n"
     ]
    },
    {
     "name": "stdout",
     "output_type": "stream",
     "text": [
      "---------------------------------------------------\n",
      "\n",
      "Results for Scaled Gradient Projection Method \n",
      "\n",
      "---------------------------------------------------\n",
      "\n",
      "   Obj. function = 2.408797e+00\n",
      "\n",
      "   Gradient norm = 9.641620e-04 \n",
      "\n",
      "   ||X^T*X-I||_F = 1.18e-16\n",
      "\n",
      "   Iteration number = 3000\n",
      "\n",
      "   Cpu time (secs) = 4.7647\n",
      "\n",
      "   Number of evaluation(Obj. func) = 3381\n",
      "\n"
     ]
    },
    {
     "name": "stderr",
     "output_type": "stream",
     "text": [
      "/Users/lianama/anaconda3/lib/python3.10/site-packages/numpy/core/fromnumeric.py:3504: RuntimeWarning: Mean of empty slice.\n",
      "  return _methods._mean(a, axis=axis, dtype=dtype,\n",
      "/Users/lianama/anaconda3/lib/python3.10/site-packages/numpy/core/_methods.py:121: RuntimeWarning: invalid value encountered in divide\n",
      "  ret = um.true_divide(\n"
     ]
    },
    {
     "name": "stdout",
     "output_type": "stream",
     "text": [
      "---------------------------------------------------\n",
      "\n",
      "Results for Scaled Gradient Projection Method \n",
      "\n",
      "---------------------------------------------------\n",
      "\n",
      "   Obj. function = 2.408839e+00\n",
      "\n",
      "   Gradient norm = 2.109623e-04 \n",
      "\n",
      "   ||X^T*X-I||_F = 6.35e-16\n",
      "\n",
      "   Iteration number = 3000\n",
      "\n",
      "   Cpu time (secs) = 4.1972\n",
      "\n",
      "   Number of evaluation(Obj. func) = 3311\n",
      "\n"
     ]
    },
    {
     "name": "stderr",
     "output_type": "stream",
     "text": [
      "/Users/lianama/anaconda3/lib/python3.10/site-packages/numpy/core/fromnumeric.py:3504: RuntimeWarning: Mean of empty slice.\n",
      "  return _methods._mean(a, axis=axis, dtype=dtype,\n",
      "/Users/lianama/anaconda3/lib/python3.10/site-packages/numpy/core/_methods.py:121: RuntimeWarning: invalid value encountered in divide\n",
      "  ret = um.true_divide(\n"
     ]
    },
    {
     "name": "stdout",
     "output_type": "stream",
     "text": [
      "---------------------------------------------------\n",
      "\n",
      "Results for Scaled Gradient Projection Method \n",
      "\n",
      "---------------------------------------------------\n",
      "\n",
      "   Obj. function = 2.408843e+00\n",
      "\n",
      "   Gradient norm = 1.637710e-04 \n",
      "\n",
      "   ||X^T*X-I||_F = 7.04e-16\n",
      "\n",
      "   Iteration number = 3000\n",
      "\n",
      "   Cpu time (secs) = 4.2973\n",
      "\n",
      "   Number of evaluation(Obj. func) = 3317\n",
      "\n"
     ]
    },
    {
     "name": "stderr",
     "output_type": "stream",
     "text": [
      "/Users/lianama/anaconda3/lib/python3.10/site-packages/numpy/core/fromnumeric.py:3504: RuntimeWarning: Mean of empty slice.\n",
      "  return _methods._mean(a, axis=axis, dtype=dtype,\n",
      "/Users/lianama/anaconda3/lib/python3.10/site-packages/numpy/core/_methods.py:121: RuntimeWarning: invalid value encountered in divide\n",
      "  ret = um.true_divide(\n"
     ]
    },
    {
     "name": "stdout",
     "output_type": "stream",
     "text": [
      "---------------------------------------------------\n",
      "\n",
      "Results for Scaled Gradient Projection Method \n",
      "\n",
      "---------------------------------------------------\n",
      "\n",
      "   Obj. function = 2.408874e+00\n",
      "\n",
      "   Gradient norm = 8.945507e-05 \n",
      "\n",
      "   ||X^T*X-I||_F = 6.31e-16\n",
      "\n",
      "   Iteration number = 3000\n",
      "\n",
      "   Cpu time (secs) = 3.8999\n",
      "\n",
      "   Number of evaluation(Obj. func) = 3307\n",
      "\n"
     ]
    },
    {
     "name": "stderr",
     "output_type": "stream",
     "text": [
      "/Users/lianama/anaconda3/lib/python3.10/site-packages/numpy/core/fromnumeric.py:3504: RuntimeWarning: Mean of empty slice.\n",
      "  return _methods._mean(a, axis=axis, dtype=dtype,\n",
      "/Users/lianama/anaconda3/lib/python3.10/site-packages/numpy/core/_methods.py:121: RuntimeWarning: invalid value encountered in divide\n",
      "  ret = um.true_divide(\n"
     ]
    },
    {
     "name": "stdout",
     "output_type": "stream",
     "text": [
      "---------------------------------------------------\n",
      "\n",
      "Results for Scaled Gradient Projection Method \n",
      "\n",
      "---------------------------------------------------\n",
      "\n",
      "   Obj. function = 2.408863e+00\n",
      "\n",
      "   Gradient norm = 1.148897e-04 \n",
      "\n",
      "   ||X^T*X-I||_F = 7.11e-16\n",
      "\n",
      "   Iteration number = 3000\n",
      "\n",
      "   Cpu time (secs) = 4.1855\n",
      "\n",
      "   Number of evaluation(Obj. func) = 3351\n",
      "\n"
     ]
    },
    {
     "name": "stderr",
     "output_type": "stream",
     "text": [
      "/Users/lianama/anaconda3/lib/python3.10/site-packages/numpy/core/fromnumeric.py:3504: RuntimeWarning: Mean of empty slice.\n",
      "  return _methods._mean(a, axis=axis, dtype=dtype,\n",
      "/Users/lianama/anaconda3/lib/python3.10/site-packages/numpy/core/_methods.py:121: RuntimeWarning: invalid value encountered in divide\n",
      "  ret = um.true_divide(\n"
     ]
    },
    {
     "name": "stdout",
     "output_type": "stream",
     "text": [
      "---------------------------------------------------\n",
      "\n",
      "Results for Scaled Gradient Projection Method \n",
      "\n",
      "---------------------------------------------------\n",
      "\n",
      "   Obj. function = 2.408852e+00\n",
      "\n",
      "   Gradient norm = 1.585772e-04 \n",
      "\n",
      "   ||X^T*X-I||_F = 7.02e-16\n",
      "\n",
      "   Iteration number = 3000\n",
      "\n",
      "   Cpu time (secs) = 5.0856\n",
      "\n",
      "   Number of evaluation(Obj. func) = 3321\n",
      "\n"
     ]
    },
    {
     "name": "stderr",
     "output_type": "stream",
     "text": [
      "/Users/lianama/anaconda3/lib/python3.10/site-packages/numpy/core/fromnumeric.py:3504: RuntimeWarning: Mean of empty slice.\n",
      "  return _methods._mean(a, axis=axis, dtype=dtype,\n",
      "/Users/lianama/anaconda3/lib/python3.10/site-packages/numpy/core/_methods.py:121: RuntimeWarning: invalid value encountered in divide\n",
      "  ret = um.true_divide(\n"
     ]
    },
    {
     "name": "stdout",
     "output_type": "stream",
     "text": [
      "---------------------------------------------------\n",
      "\n",
      "Results for Scaled Gradient Projection Method \n",
      "\n",
      "---------------------------------------------------\n",
      "\n",
      "   Obj. function = 2.408874e+00\n",
      "\n",
      "   Gradient norm = 1.200778e-04 \n",
      "\n",
      "   ||X^T*X-I||_F = 7.03e-16\n",
      "\n",
      "   Iteration number = 3000\n",
      "\n",
      "   Cpu time (secs) = 4.6622\n",
      "\n",
      "   Number of evaluation(Obj. func) = 3300\n",
      "\n"
     ]
    },
    {
     "name": "stderr",
     "output_type": "stream",
     "text": [
      "/Users/lianama/anaconda3/lib/python3.10/site-packages/numpy/core/fromnumeric.py:3504: RuntimeWarning: Mean of empty slice.\n",
      "  return _methods._mean(a, axis=axis, dtype=dtype,\n",
      "/Users/lianama/anaconda3/lib/python3.10/site-packages/numpy/core/_methods.py:121: RuntimeWarning: invalid value encountered in divide\n",
      "  ret = um.true_divide(\n"
     ]
    },
    {
     "name": "stdout",
     "output_type": "stream",
     "text": [
      "---------------------------------------------------\n",
      "\n",
      "Results for Scaled Gradient Projection Method \n",
      "\n",
      "---------------------------------------------------\n",
      "\n",
      "   Obj. function = 2.408871e+00\n",
      "\n",
      "   Gradient norm = 2.167695e-04 \n",
      "\n",
      "   ||X^T*X-I||_F = 3.21e-16\n",
      "\n",
      "   Iteration number = 3000\n",
      "\n",
      "   Cpu time (secs) = 4.3666\n",
      "\n",
      "   Number of evaluation(Obj. func) = 3390\n",
      "\n"
     ]
    },
    {
     "name": "stderr",
     "output_type": "stream",
     "text": [
      "/Users/lianama/anaconda3/lib/python3.10/site-packages/numpy/core/fromnumeric.py:3504: RuntimeWarning: Mean of empty slice.\n",
      "  return _methods._mean(a, axis=axis, dtype=dtype,\n",
      "/Users/lianama/anaconda3/lib/python3.10/site-packages/numpy/core/_methods.py:121: RuntimeWarning: invalid value encountered in divide\n",
      "  ret = um.true_divide(\n"
     ]
    },
    {
     "name": "stdout",
     "output_type": "stream",
     "text": [
      "---------------------------------------------------\n",
      "\n",
      "Results for Scaled Gradient Projection Method \n",
      "\n",
      "---------------------------------------------------\n",
      "\n",
      "   Obj. function = 2.408844e+00\n",
      "\n",
      "   Gradient norm = 3.378970e-04 \n",
      "\n",
      "   ||X^T*X-I||_F = 3.16e-16\n",
      "\n",
      "   Iteration number = 3000\n",
      "\n",
      "   Cpu time (secs) = 5.1761\n",
      "\n",
      "   Number of evaluation(Obj. func) = 3344\n",
      "\n"
     ]
    },
    {
     "name": "stderr",
     "output_type": "stream",
     "text": [
      "/Users/lianama/anaconda3/lib/python3.10/site-packages/numpy/core/fromnumeric.py:3504: RuntimeWarning: Mean of empty slice.\n",
      "  return _methods._mean(a, axis=axis, dtype=dtype,\n",
      "/Users/lianama/anaconda3/lib/python3.10/site-packages/numpy/core/_methods.py:121: RuntimeWarning: invalid value encountered in divide\n",
      "  ret = um.true_divide(\n"
     ]
    },
    {
     "name": "stdout",
     "output_type": "stream",
     "text": [
      "---------------------------------------------------\n",
      "\n",
      "Results for Scaled Gradient Projection Method \n",
      "\n",
      "---------------------------------------------------\n",
      "\n",
      "   Obj. function = 2.408844e+00\n",
      "\n",
      "   Gradient norm = 6.740674e-04 \n",
      "\n",
      "   ||X^T*X-I||_F = 3.52e-16\n",
      "\n",
      "   Iteration number = 3000\n",
      "\n",
      "   Cpu time (secs) = 4.3797\n",
      "\n",
      "   Number of evaluation(Obj. func) = 3277\n",
      "\n"
     ]
    },
    {
     "name": "stderr",
     "output_type": "stream",
     "text": [
      "/Users/lianama/anaconda3/lib/python3.10/site-packages/numpy/core/fromnumeric.py:3504: RuntimeWarning: Mean of empty slice.\n",
      "  return _methods._mean(a, axis=axis, dtype=dtype,\n",
      "/Users/lianama/anaconda3/lib/python3.10/site-packages/numpy/core/_methods.py:121: RuntimeWarning: invalid value encountered in divide\n",
      "  ret = um.true_divide(\n"
     ]
    },
    {
     "name": "stdout",
     "output_type": "stream",
     "text": [
      "---------------------------------------------------\n",
      "\n",
      "Results for Scaled Gradient Projection Method \n",
      "\n",
      "---------------------------------------------------\n",
      "\n",
      "   Obj. function = 2.408849e+00\n",
      "\n",
      "   Gradient norm = 5.842012e-03 \n",
      "\n",
      "   ||X^T*X-I||_F = 1.13e-15\n",
      "\n",
      "   Iteration number = 3000\n",
      "\n",
      "   Cpu time (secs) = 4.9166\n",
      "\n",
      "   Number of evaluation(Obj. func) = 3449\n",
      "\n"
     ]
    },
    {
     "name": "stderr",
     "output_type": "stream",
     "text": [
      "/Users/lianama/anaconda3/lib/python3.10/site-packages/numpy/core/fromnumeric.py:3504: RuntimeWarning: Mean of empty slice.\n",
      "  return _methods._mean(a, axis=axis, dtype=dtype,\n",
      "/Users/lianama/anaconda3/lib/python3.10/site-packages/numpy/core/_methods.py:121: RuntimeWarning: invalid value encountered in divide\n",
      "  ret = um.true_divide(\n"
     ]
    },
    {
     "name": "stdout",
     "output_type": "stream",
     "text": [
      "---------------------------------------------------\n",
      "\n",
      "Results for Scaled Gradient Projection Method \n",
      "\n",
      "---------------------------------------------------\n",
      "\n",
      "   Obj. function = 2.408818e+00\n",
      "\n",
      "   Gradient norm = 2.962114e-03 \n",
      "\n",
      "   ||X^T*X-I||_F = 8.04e-16\n",
      "\n",
      "   Iteration number = 3000\n",
      "\n",
      "   Cpu time (secs) = 4.5826\n",
      "\n",
      "   Number of evaluation(Obj. func) = 3370\n",
      "\n"
     ]
    },
    {
     "name": "stderr",
     "output_type": "stream",
     "text": [
      "/Users/lianama/anaconda3/lib/python3.10/site-packages/numpy/core/fromnumeric.py:3504: RuntimeWarning: Mean of empty slice.\n",
      "  return _methods._mean(a, axis=axis, dtype=dtype,\n",
      "/Users/lianama/anaconda3/lib/python3.10/site-packages/numpy/core/_methods.py:121: RuntimeWarning: invalid value encountered in divide\n",
      "  ret = um.true_divide(\n"
     ]
    },
    {
     "name": "stdout",
     "output_type": "stream",
     "text": [
      "---------------------------------------------------\n",
      "\n",
      "Results for Scaled Gradient Projection Method \n",
      "\n",
      "---------------------------------------------------\n",
      "\n",
      "   Obj. function = 2.408872e+00\n",
      "\n",
      "   Gradient norm = 1.072814e-04 \n",
      "\n",
      "   ||X^T*X-I||_F = 6.66e-16\n",
      "\n",
      "   Iteration number = 3000\n",
      "\n",
      "   Cpu time (secs) = 4.3393\n",
      "\n",
      "   Number of evaluation(Obj. func) = 3354\n",
      "\n"
     ]
    },
    {
     "name": "stderr",
     "output_type": "stream",
     "text": [
      "/Users/lianama/anaconda3/lib/python3.10/site-packages/numpy/core/fromnumeric.py:3504: RuntimeWarning: Mean of empty slice.\n",
      "  return _methods._mean(a, axis=axis, dtype=dtype,\n",
      "/Users/lianama/anaconda3/lib/python3.10/site-packages/numpy/core/_methods.py:121: RuntimeWarning: invalid value encountered in divide\n",
      "  ret = um.true_divide(\n"
     ]
    },
    {
     "name": "stdout",
     "output_type": "stream",
     "text": [
      "---------------------------------------------------\n",
      "\n",
      "Results for Scaled Gradient Projection Method \n",
      "\n",
      "---------------------------------------------------\n",
      "\n",
      "   Obj. function = 2.408837e+00\n",
      "\n",
      "   Gradient norm = 2.436923e-04 \n",
      "\n",
      "   ||X^T*X-I||_F = 4.97e-16\n",
      "\n",
      "   Iteration number = 3000\n",
      "\n",
      "   Cpu time (secs) = 4.4281\n",
      "\n",
      "   Number of evaluation(Obj. func) = 3355\n",
      "\n"
     ]
    },
    {
     "name": "stderr",
     "output_type": "stream",
     "text": [
      "/Users/lianama/anaconda3/lib/python3.10/site-packages/numpy/core/fromnumeric.py:3504: RuntimeWarning: Mean of empty slice.\n",
      "  return _methods._mean(a, axis=axis, dtype=dtype,\n",
      "/Users/lianama/anaconda3/lib/python3.10/site-packages/numpy/core/_methods.py:121: RuntimeWarning: invalid value encountered in divide\n",
      "  ret = um.true_divide(\n"
     ]
    },
    {
     "name": "stdout",
     "output_type": "stream",
     "text": [
      "---------------------------------------------------\n",
      "\n",
      "Results for Scaled Gradient Projection Method \n",
      "\n",
      "---------------------------------------------------\n",
      "\n",
      "   Obj. function = 2.408812e+00\n",
      "\n",
      "   Gradient norm = 6.355540e-04 \n",
      "\n",
      "   ||X^T*X-I||_F = 3.23e-16\n",
      "\n",
      "   Iteration number = 3000\n",
      "\n",
      "   Cpu time (secs) = 4.2950\n",
      "\n",
      "   Number of evaluation(Obj. func) = 3308\n",
      "\n"
     ]
    },
    {
     "name": "stderr",
     "output_type": "stream",
     "text": [
      "/Users/lianama/anaconda3/lib/python3.10/site-packages/numpy/core/fromnumeric.py:3504: RuntimeWarning: Mean of empty slice.\n",
      "  return _methods._mean(a, axis=axis, dtype=dtype,\n",
      "/Users/lianama/anaconda3/lib/python3.10/site-packages/numpy/core/_methods.py:121: RuntimeWarning: invalid value encountered in divide\n",
      "  ret = um.true_divide(\n"
     ]
    },
    {
     "name": "stdout",
     "output_type": "stream",
     "text": [
      "---------------------------------------------------\n",
      "\n",
      "Results for Scaled Gradient Projection Method \n",
      "\n",
      "---------------------------------------------------\n",
      "\n",
      "   Obj. function = 2.408788e+00\n",
      "\n",
      "   Gradient norm = 1.951025e-04 \n",
      "\n",
      "   ||X^T*X-I||_F = 4.97e-16\n",
      "\n",
      "   Iteration number = 3000\n",
      "\n",
      "   Cpu time (secs) = 4.3227\n",
      "\n",
      "   Number of evaluation(Obj. func) = 3413\n",
      "\n"
     ]
    },
    {
     "name": "stderr",
     "output_type": "stream",
     "text": [
      "/Users/lianama/anaconda3/lib/python3.10/site-packages/numpy/core/fromnumeric.py:3504: RuntimeWarning: Mean of empty slice.\n",
      "  return _methods._mean(a, axis=axis, dtype=dtype,\n",
      "/Users/lianama/anaconda3/lib/python3.10/site-packages/numpy/core/_methods.py:121: RuntimeWarning: invalid value encountered in divide\n",
      "  ret = um.true_divide(\n"
     ]
    },
    {
     "name": "stdout",
     "output_type": "stream",
     "text": [
      "---------------------------------------------------\n",
      "\n",
      "Results for Scaled Gradient Projection Method \n",
      "\n",
      "---------------------------------------------------\n",
      "\n",
      "   Obj. function = 2.408887e+00\n",
      "\n",
      "   Gradient norm = 9.238368e-05 \n",
      "\n",
      "   ||X^T*X-I||_F = 5.02e-16\n",
      "\n",
      "   Iteration number = 3000\n",
      "\n",
      "   Cpu time (secs) = 4.3289\n",
      "\n",
      "   Number of evaluation(Obj. func) = 3350\n",
      "\n"
     ]
    },
    {
     "name": "stderr",
     "output_type": "stream",
     "text": [
      "/Users/lianama/anaconda3/lib/python3.10/site-packages/numpy/core/fromnumeric.py:3504: RuntimeWarning: Mean of empty slice.\n",
      "  return _methods._mean(a, axis=axis, dtype=dtype,\n",
      "/Users/lianama/anaconda3/lib/python3.10/site-packages/numpy/core/_methods.py:121: RuntimeWarning: invalid value encountered in divide\n",
      "  ret = um.true_divide(\n"
     ]
    },
    {
     "name": "stdout",
     "output_type": "stream",
     "text": [
      "---------------------------------------------------\n",
      "\n",
      "Results for Scaled Gradient Projection Method \n",
      "\n",
      "---------------------------------------------------\n",
      "\n",
      "   Obj. function = 2.408856e+00\n",
      "\n",
      "   Gradient norm = 1.760690e-04 \n",
      "\n",
      "   ||X^T*X-I||_F = 4.58e-16\n",
      "\n",
      "   Iteration number = 3000\n",
      "\n",
      "   Cpu time (secs) = 4.6499\n",
      "\n",
      "   Number of evaluation(Obj. func) = 3344\n",
      "\n"
     ]
    },
    {
     "name": "stderr",
     "output_type": "stream",
     "text": [
      "/Users/lianama/anaconda3/lib/python3.10/site-packages/numpy/core/fromnumeric.py:3504: RuntimeWarning: Mean of empty slice.\n",
      "  return _methods._mean(a, axis=axis, dtype=dtype,\n",
      "/Users/lianama/anaconda3/lib/python3.10/site-packages/numpy/core/_methods.py:121: RuntimeWarning: invalid value encountered in divide\n",
      "  ret = um.true_divide(\n"
     ]
    },
    {
     "name": "stdout",
     "output_type": "stream",
     "text": [
      "---------------------------------------------------\n",
      "\n",
      "Results for Scaled Gradient Projection Method \n",
      "\n",
      "---------------------------------------------------\n",
      "\n",
      "   Obj. function = 2.408792e+00\n",
      "\n",
      "   Gradient norm = 1.957115e-04 \n",
      "\n",
      "   ||X^T*X-I||_F = 4.02e-16\n",
      "\n",
      "   Iteration number = 3000\n",
      "\n",
      "   Cpu time (secs) = 5.0084\n",
      "\n",
      "   Number of evaluation(Obj. func) = 3374\n",
      "\n"
     ]
    },
    {
     "name": "stderr",
     "output_type": "stream",
     "text": [
      "/Users/lianama/anaconda3/lib/python3.10/site-packages/numpy/core/fromnumeric.py:3504: RuntimeWarning: Mean of empty slice.\n",
      "  return _methods._mean(a, axis=axis, dtype=dtype,\n",
      "/Users/lianama/anaconda3/lib/python3.10/site-packages/numpy/core/_methods.py:121: RuntimeWarning: invalid value encountered in divide\n",
      "  ret = um.true_divide(\n"
     ]
    },
    {
     "name": "stdout",
     "output_type": "stream",
     "text": [
      "---------------------------------------------------\n",
      "\n",
      "Results for Scaled Gradient Projection Method \n",
      "\n",
      "---------------------------------------------------\n",
      "\n",
      "   Obj. function = 2.408776e+00\n",
      "\n",
      "   Gradient norm = 5.940670e-04 \n",
      "\n",
      "   ||X^T*X-I||_F = 3.16e-16\n",
      "\n",
      "   Iteration number = 3000\n",
      "\n",
      "   Cpu time (secs) = 4.6239\n",
      "\n",
      "   Number of evaluation(Obj. func) = 3408\n",
      "\n"
     ]
    },
    {
     "name": "stderr",
     "output_type": "stream",
     "text": [
      "/Users/lianama/anaconda3/lib/python3.10/site-packages/numpy/core/fromnumeric.py:3504: RuntimeWarning: Mean of empty slice.\n",
      "  return _methods._mean(a, axis=axis, dtype=dtype,\n",
      "/Users/lianama/anaconda3/lib/python3.10/site-packages/numpy/core/_methods.py:121: RuntimeWarning: invalid value encountered in divide\n",
      "  ret = um.true_divide(\n"
     ]
    },
    {
     "name": "stdout",
     "output_type": "stream",
     "text": [
      "---------------------------------------------------\n",
      "\n",
      "Results for Scaled Gradient Projection Method \n",
      "\n",
      "---------------------------------------------------\n",
      "\n",
      "   Obj. function = 2.408861e+00\n",
      "\n",
      "   Gradient norm = 8.886899e-04 \n",
      "\n",
      "   ||X^T*X-I||_F = 4.49e-16\n",
      "\n",
      "   Iteration number = 3000\n",
      "\n",
      "   Cpu time (secs) = 4.2548\n",
      "\n",
      "   Number of evaluation(Obj. func) = 3364\n",
      "\n"
     ]
    },
    {
     "name": "stderr",
     "output_type": "stream",
     "text": [
      "/Users/lianama/anaconda3/lib/python3.10/site-packages/numpy/core/fromnumeric.py:3504: RuntimeWarning: Mean of empty slice.\n",
      "  return _methods._mean(a, axis=axis, dtype=dtype,\n",
      "/Users/lianama/anaconda3/lib/python3.10/site-packages/numpy/core/_methods.py:121: RuntimeWarning: invalid value encountered in divide\n",
      "  ret = um.true_divide(\n"
     ]
    },
    {
     "name": "stdout",
     "output_type": "stream",
     "text": [
      "---------------------------------------------------\n",
      "\n",
      "Results for Scaled Gradient Projection Method \n",
      "\n",
      "---------------------------------------------------\n",
      "\n",
      "   Obj. function = 2.408849e+00\n",
      "\n",
      "   Gradient norm = 3.100325e-04 \n",
      "\n",
      "   ||X^T*X-I||_F = 1.11e-15\n",
      "\n",
      "   Iteration number = 3000\n",
      "\n",
      "   Cpu time (secs) = 4.3061\n",
      "\n",
      "   Number of evaluation(Obj. func) = 3344\n",
      "\n"
     ]
    },
    {
     "name": "stderr",
     "output_type": "stream",
     "text": [
      "/Users/lianama/anaconda3/lib/python3.10/site-packages/numpy/core/fromnumeric.py:3504: RuntimeWarning: Mean of empty slice.\n",
      "  return _methods._mean(a, axis=axis, dtype=dtype,\n",
      "/Users/lianama/anaconda3/lib/python3.10/site-packages/numpy/core/_methods.py:121: RuntimeWarning: invalid value encountered in divide\n",
      "  ret = um.true_divide(\n"
     ]
    },
    {
     "name": "stdout",
     "output_type": "stream",
     "text": [
      "---------------------------------------------------\n",
      "\n",
      "Results for Scaled Gradient Projection Method \n",
      "\n",
      "---------------------------------------------------\n",
      "\n",
      "   Obj. function = 2.408810e+00\n",
      "\n",
      "   Gradient norm = 1.911359e-04 \n",
      "\n",
      "   ||X^T*X-I||_F = 2.24e-16\n",
      "\n",
      "   Iteration number = 3000\n",
      "\n",
      "   Cpu time (secs) = 4.2805\n",
      "\n",
      "   Number of evaluation(Obj. func) = 3397\n",
      "\n"
     ]
    },
    {
     "name": "stderr",
     "output_type": "stream",
     "text": [
      "/Users/lianama/anaconda3/lib/python3.10/site-packages/numpy/core/fromnumeric.py:3504: RuntimeWarning: Mean of empty slice.\n",
      "  return _methods._mean(a, axis=axis, dtype=dtype,\n",
      "/Users/lianama/anaconda3/lib/python3.10/site-packages/numpy/core/_methods.py:121: RuntimeWarning: invalid value encountered in divide\n",
      "  ret = um.true_divide(\n"
     ]
    },
    {
     "name": "stdout",
     "output_type": "stream",
     "text": [
      "---------------------------------------------------\n",
      "\n",
      "Results for Scaled Gradient Projection Method \n",
      "\n",
      "---------------------------------------------------\n",
      "\n",
      "   Obj. function = 2.408798e+00\n",
      "\n",
      "   Gradient norm = 7.801915e-04 \n",
      "\n",
      "   ||X^T*X-I||_F = 3.22e-16\n",
      "\n",
      "   Iteration number = 3000\n",
      "\n",
      "   Cpu time (secs) = 4.4355\n",
      "\n",
      "   Number of evaluation(Obj. func) = 3346\n",
      "\n"
     ]
    },
    {
     "name": "stderr",
     "output_type": "stream",
     "text": [
      "/Users/lianama/anaconda3/lib/python3.10/site-packages/numpy/core/fromnumeric.py:3504: RuntimeWarning: Mean of empty slice.\n",
      "  return _methods._mean(a, axis=axis, dtype=dtype,\n",
      "/Users/lianama/anaconda3/lib/python3.10/site-packages/numpy/core/_methods.py:121: RuntimeWarning: invalid value encountered in divide\n",
      "  ret = um.true_divide(\n"
     ]
    },
    {
     "name": "stdout",
     "output_type": "stream",
     "text": [
      "---------------------------------------------------\n",
      "\n",
      "Results for Scaled Gradient Projection Method \n",
      "\n",
      "---------------------------------------------------\n",
      "\n",
      "   Obj. function = 2.408834e+00\n",
      "\n",
      "   Gradient norm = 3.277757e-04 \n",
      "\n",
      "   ||X^T*X-I||_F = 2.57e-16\n",
      "\n",
      "   Iteration number = 3000\n",
      "\n",
      "   Cpu time (secs) = 4.2579\n",
      "\n",
      "   Number of evaluation(Obj. func) = 3410\n",
      "\n"
     ]
    },
    {
     "name": "stderr",
     "output_type": "stream",
     "text": [
      "/Users/lianama/anaconda3/lib/python3.10/site-packages/numpy/core/fromnumeric.py:3504: RuntimeWarning: Mean of empty slice.\n",
      "  return _methods._mean(a, axis=axis, dtype=dtype,\n",
      "/Users/lianama/anaconda3/lib/python3.10/site-packages/numpy/core/_methods.py:121: RuntimeWarning: invalid value encountered in divide\n",
      "  ret = um.true_divide(\n"
     ]
    },
    {
     "name": "stdout",
     "output_type": "stream",
     "text": [
      "---------------------------------------------------\n",
      "\n",
      "Results for Scaled Gradient Projection Method \n",
      "\n",
      "---------------------------------------------------\n",
      "\n",
      "   Obj. function = 2.408771e+00\n",
      "\n",
      "   Gradient norm = 2.448884e-04 \n",
      "\n",
      "   ||X^T*X-I||_F = 2.49e-16\n",
      "\n",
      "   Iteration number = 3000\n",
      "\n",
      "   Cpu time (secs) = 4.1759\n",
      "\n",
      "   Number of evaluation(Obj. func) = 3408\n",
      "\n"
     ]
    },
    {
     "name": "stderr",
     "output_type": "stream",
     "text": [
      "/Users/lianama/anaconda3/lib/python3.10/site-packages/numpy/core/fromnumeric.py:3504: RuntimeWarning: Mean of empty slice.\n",
      "  return _methods._mean(a, axis=axis, dtype=dtype,\n",
      "/Users/lianama/anaconda3/lib/python3.10/site-packages/numpy/core/_methods.py:121: RuntimeWarning: invalid value encountered in divide\n",
      "  ret = um.true_divide(\n"
     ]
    },
    {
     "name": "stdout",
     "output_type": "stream",
     "text": [
      "---------------------------------------------------\n",
      "\n",
      "Results for Scaled Gradient Projection Method \n",
      "\n",
      "---------------------------------------------------\n",
      "\n",
      "   Obj. function = 2.408814e+00\n",
      "\n",
      "   Gradient norm = 5.471928e-03 \n",
      "\n",
      "   ||X^T*X-I||_F = 4.97e-16\n",
      "\n",
      "   Iteration number = 3000\n",
      "\n",
      "   Cpu time (secs) = 4.0803\n",
      "\n",
      "   Number of evaluation(Obj. func) = 3345\n",
      "\n"
     ]
    },
    {
     "name": "stderr",
     "output_type": "stream",
     "text": [
      "/Users/lianama/anaconda3/lib/python3.10/site-packages/numpy/core/fromnumeric.py:3504: RuntimeWarning: Mean of empty slice.\n",
      "  return _methods._mean(a, axis=axis, dtype=dtype,\n",
      "/Users/lianama/anaconda3/lib/python3.10/site-packages/numpy/core/_methods.py:121: RuntimeWarning: invalid value encountered in divide\n",
      "  ret = um.true_divide(\n"
     ]
    },
    {
     "name": "stdout",
     "output_type": "stream",
     "text": [
      "---------------------------------------------------\n",
      "\n",
      "Results for Scaled Gradient Projection Method \n",
      "\n",
      "---------------------------------------------------\n",
      "\n",
      "   Obj. function = 2.408850e+00\n",
      "\n",
      "   Gradient norm = 1.936964e-04 \n",
      "\n",
      "   ||X^T*X-I||_F = 7.02e-16\n",
      "\n",
      "   Iteration number = 3000\n",
      "\n",
      "   Cpu time (secs) = 4.0641\n",
      "\n",
      "   Number of evaluation(Obj. func) = 3425\n",
      "\n"
     ]
    },
    {
     "name": "stderr",
     "output_type": "stream",
     "text": [
      "/Users/lianama/anaconda3/lib/python3.10/site-packages/numpy/core/fromnumeric.py:3504: RuntimeWarning: Mean of empty slice.\n",
      "  return _methods._mean(a, axis=axis, dtype=dtype,\n",
      "/Users/lianama/anaconda3/lib/python3.10/site-packages/numpy/core/_methods.py:121: RuntimeWarning: invalid value encountered in divide\n",
      "  ret = um.true_divide(\n"
     ]
    },
    {
     "name": "stdout",
     "output_type": "stream",
     "text": [
      "---------------------------------------------------\n",
      "\n",
      "Results for Scaled Gradient Projection Method \n",
      "\n",
      "---------------------------------------------------\n",
      "\n",
      "   Obj. function = 2.408853e+00\n",
      "\n",
      "   Gradient norm = 3.607868e-04 \n",
      "\n",
      "   ||X^T*X-I||_F = 8.01e-16\n",
      "\n",
      "   Iteration number = 3000\n",
      "\n",
      "   Cpu time (secs) = 4.1833\n",
      "\n",
      "   Number of evaluation(Obj. func) = 3278\n",
      "\n"
     ]
    },
    {
     "name": "stderr",
     "output_type": "stream",
     "text": [
      "/Users/lianama/anaconda3/lib/python3.10/site-packages/numpy/core/fromnumeric.py:3504: RuntimeWarning: Mean of empty slice.\n",
      "  return _methods._mean(a, axis=axis, dtype=dtype,\n",
      "/Users/lianama/anaconda3/lib/python3.10/site-packages/numpy/core/_methods.py:121: RuntimeWarning: invalid value encountered in divide\n",
      "  ret = um.true_divide(\n"
     ]
    },
    {
     "name": "stdout",
     "output_type": "stream",
     "text": [
      "---------------------------------------------------\n",
      "\n",
      "Results for Scaled Gradient Projection Method \n",
      "\n",
      "---------------------------------------------------\n",
      "\n",
      "   Obj. function = 2.408859e+00\n",
      "\n",
      "   Gradient norm = 2.742713e-04 \n",
      "\n",
      "   ||X^T*X-I||_F = 6.66e-16\n",
      "\n",
      "   Iteration number = 3000\n",
      "\n",
      "   Cpu time (secs) = 4.8182\n",
      "\n",
      "   Number of evaluation(Obj. func) = 3311\n",
      "\n"
     ]
    },
    {
     "name": "stderr",
     "output_type": "stream",
     "text": [
      "/Users/lianama/anaconda3/lib/python3.10/site-packages/numpy/core/fromnumeric.py:3504: RuntimeWarning: Mean of empty slice.\n",
      "  return _methods._mean(a, axis=axis, dtype=dtype,\n",
      "/Users/lianama/anaconda3/lib/python3.10/site-packages/numpy/core/_methods.py:121: RuntimeWarning: invalid value encountered in divide\n",
      "  ret = um.true_divide(\n"
     ]
    },
    {
     "name": "stdout",
     "output_type": "stream",
     "text": [
      "---------------------------------------------------\n",
      "\n",
      "Results for Scaled Gradient Projection Method \n",
      "\n",
      "---------------------------------------------------\n",
      "\n",
      "   Obj. function = 2.408872e+00\n",
      "\n",
      "   Gradient norm = 7.088444e-04 \n",
      "\n",
      "   ||X^T*X-I||_F = 4.97e-16\n",
      "\n",
      "   Iteration number = 3000\n",
      "\n",
      "   Cpu time (secs) = 5.3520\n",
      "\n",
      "   Number of evaluation(Obj. func) = 3326\n",
      "\n"
     ]
    },
    {
     "name": "stderr",
     "output_type": "stream",
     "text": [
      "/Users/lianama/anaconda3/lib/python3.10/site-packages/numpy/core/fromnumeric.py:3504: RuntimeWarning: Mean of empty slice.\n",
      "  return _methods._mean(a, axis=axis, dtype=dtype,\n",
      "/Users/lianama/anaconda3/lib/python3.10/site-packages/numpy/core/_methods.py:121: RuntimeWarning: invalid value encountered in divide\n",
      "  ret = um.true_divide(\n"
     ]
    },
    {
     "name": "stdout",
     "output_type": "stream",
     "text": [
      "---------------------------------------------------\n",
      "\n",
      "Results for Scaled Gradient Projection Method \n",
      "\n",
      "---------------------------------------------------\n",
      "\n",
      "   Obj. function = 2.408886e+00\n",
      "\n",
      "   Gradient norm = 2.612295e-03 \n",
      "\n",
      "   ||X^T*X-I||_F = 7.45e-16\n",
      "\n",
      "   Iteration number = 3000\n",
      "\n",
      "   Cpu time (secs) = 4.1788\n",
      "\n",
      "   Number of evaluation(Obj. func) = 3269\n",
      "\n"
     ]
    },
    {
     "name": "stderr",
     "output_type": "stream",
     "text": [
      "/Users/lianama/anaconda3/lib/python3.10/site-packages/numpy/core/fromnumeric.py:3504: RuntimeWarning: Mean of empty slice.\n",
      "  return _methods._mean(a, axis=axis, dtype=dtype,\n",
      "/Users/lianama/anaconda3/lib/python3.10/site-packages/numpy/core/_methods.py:121: RuntimeWarning: invalid value encountered in divide\n",
      "  ret = um.true_divide(\n"
     ]
    },
    {
     "name": "stdout",
     "output_type": "stream",
     "text": [
      "---------------------------------------------------\n",
      "\n",
      "Results for Scaled Gradient Projection Method \n",
      "\n",
      "---------------------------------------------------\n",
      "\n",
      "   Obj. function = 2.408789e+00\n",
      "\n",
      "   Gradient norm = 6.067271e-03 \n",
      "\n",
      "   ||X^T*X-I||_F = 3.17e-16\n",
      "\n",
      "   Iteration number = 3000\n",
      "\n",
      "   Cpu time (secs) = 4.6006\n",
      "\n",
      "   Number of evaluation(Obj. func) = 3360\n",
      "\n"
     ]
    },
    {
     "name": "stderr",
     "output_type": "stream",
     "text": [
      "/Users/lianama/anaconda3/lib/python3.10/site-packages/numpy/core/fromnumeric.py:3504: RuntimeWarning: Mean of empty slice.\n",
      "  return _methods._mean(a, axis=axis, dtype=dtype,\n",
      "/Users/lianama/anaconda3/lib/python3.10/site-packages/numpy/core/_methods.py:121: RuntimeWarning: invalid value encountered in divide\n",
      "  ret = um.true_divide(\n"
     ]
    },
    {
     "name": "stdout",
     "output_type": "stream",
     "text": [
      "---------------------------------------------------\n",
      "\n",
      "Results for Scaled Gradient Projection Method \n",
      "\n",
      "---------------------------------------------------\n",
      "\n",
      "   Obj. function = 2.408809e+00\n",
      "\n",
      "   Gradient norm = 1.752957e-04 \n",
      "\n",
      "   ||X^T*X-I||_F = 5.66e-16\n",
      "\n",
      "   Iteration number = 3000\n",
      "\n",
      "   Cpu time (secs) = 5.1778\n",
      "\n",
      "   Number of evaluation(Obj. func) = 3314\n",
      "\n",
      "[0.7443831168831169, 0.7061363636363636, 0.7296103896103896, 0.7025649350649351, 0.7043831168831168, 0.7277922077922078, 0.7026623376623377, 0.7332467532467534, 0.6899025974025975, 0.7296753246753247, 0.7316233766233766, 0.7189285714285714, 0.7225, 0.7352272727272727, 0.742435064935065, 0.7080194805194806, 0.7460714285714285, 0.6916558441558441, 0.7278571428571429, 0.7441233766233767, 0.7279220779220779, 0.7188636363636364, 0.7441558441558442, 0.6807142857142857, 0.7224999999999999, 0.7224025974025975, 0.7295779220779222, 0.7260714285714286, 0.7116233766233766, 0.7007467532467533, 0.7135064935064934, 0.7478571428571429, 0.6916233766233767, 0.7332467532467531, 0.729577922077922, 0.7152272727272726, 0.7350000000000001, 0.7206818181818182, 0.711590909090909, 0.7423051948051949, 0.7315909090909092, 0.7206168831168831, 0.704512987012987, 0.7224025974025974, 0.726103896103896, 0.726038961038961, 0.7352922077922077, 0.7170129870129871, 0.7278246753246753, 0.7297727272727272, 0.7062337662337661, 0.7243831168831167, 0.7297727272727272, 0.7116233766233766, 0.7206493506493505, 0.7278571428571429, 0.693538961038961, 0.7370779220779221, 0.7316233766233766, 0.736948051948052, 0.7098051948051949, 0.727987012987013, 0.742435064935065, 0.7351948051948052, 0.7205844155844155, 0.702435064935065, 0.7188311688311689, 0.7169805194805194, 0.7204870129870129, 0.7206168831168831, 0.7060064935064935, 0.7350974025974026, 0.7350324675324675, 0.7460389610389611, 0.7333766233766233, 0.7225, 0.7171753246753247, 0.6951623376623377, 0.7316558441558441, 0.7098376623376624, 0.7007142857142856, 0.7262012987012987, 0.7443506493506493, 0.7424350649350651, 0.7151948051948052, 0.7169805194805196, 0.7241558441558442, 0.6988961038961039, 0.7133766233766233, 0.7335064935064936, 0.7081493506493507, 0.7261038961038961, 0.7205844155844157, 0.7099350649350649, 0.7135714285714287, 0.7151623376623377, 0.7332142857142857, 0.7134415584415585, 0.6989285714285715, 0.7296753246753246]\n",
      "This is mean\n",
      "0.721566883116883\n",
      "This is standard deviation\n",
      "0.014482942418572255\n"
     ]
    }
   ],
   "source": [
    "import numpy as np\n",
    "import pandas as pd\n",
    "import time\n",
    "from scipy.linalg import eigh\n",
    "import matplotlib.pyplot as plt\n",
    "from sklearn.neighbors import KNeighborsClassifier\n",
    "from sklearn.model_selection import cross_val_score, KFold\n",
    "\n",
    "import cir\n",
    "from cir import CIR\n",
    "from importlib import reload\n",
    "reload(cir)\n",
    "\n",
    "data = pd.read_csv('Data_Cortex_Nuclear.csv')\n",
    "\n",
    "# foreground data\n",
    "fg = data.dropna()\n",
    "\n",
    "# foreground label\n",
    "Y = fg['class']\n",
    "Y = pd.Categorical(Y);\n",
    "Y = Y.rename_categories({'c-CS-m': '0', 'c-CS-s': '1', 'c-SC-m': '2', 'c-SC-s': '3',\n",
    "                         't-CS-m': '4', 't-CS-s': '5', 't-SC-m': '6', 't-SC-s': '7'})\n",
    "Y = Y.astype(float)\n",
    "labels = np.unique(Y)      # set of unique foreground labels\n",
    "L = len(labels)         # number of foreground classes/slices\n",
    "fg = fg.iloc[:, 1:78]\n",
    "n = fg.shape[0] # foreground sample size\n",
    "X = fg - np.mean(fg, axis=0)\n",
    "X = X.values\n",
    "\n",
    "\n",
    "# background data\n",
    "bg = data[data['Genotype'] == 'Control'].copy()\n",
    "bg = bg.dropna()\n",
    "\n",
    "# background label \n",
    "Yt = bg['Behavior']\n",
    "Yt = pd.Categorical(Yt)\n",
    "Yt = Yt.rename_categories({'C/S': '0', 'S/C': '1'})\n",
    "\n",
    "Yt = Yt.astype(float)\n",
    "labelst = np.unique(Yt)   # set of unique background labels\n",
    "Lt = len(labelst)       # number of background classes/slices\n",
    "bg = bg.iloc[:, 1:78]\n",
    "m, p = bg.shape\n",
    "\n",
    "# tuning parameter\n",
    "d = 2\n",
    "alpha = 0.0002\n",
    "\n",
    "print(\"CIR......\")\n",
    "Accurary_group = []\n",
    "\n",
    "for i in range(100):\n",
    "    V_CIR = CIR(fg,Y,bg,Yt,alpha,d);\n",
    "    X_CIR = X @ V_CIR;\n",
    "    mdl_CIR_KNN = KNeighborsClassifier()\n",
    "    cross_val_results = cross_val_score(mdl_CIR_KNN, X_CIR, Y, cv=10, scoring='accuracy')\n",
    "    Accuracy_CIR_KNN = cross_val_results.mean()\n",
    "    Accurary_group.append(Accuracy_CIR_KNN)\n",
    "\n",
    "\n",
    "\n",
    "# print(\"this is CIR_KNN \")\n",
    "print(Accurary_group)\n",
    "print(\"This is mean\")\n",
    "print(np.mean(Accurary_group))\n",
    "print(\"This is standard deviation\")\n",
    "print(np.std(Accurary_group))\n"
   ]
  },
  {
   "cell_type": "markdown",
   "metadata": {},
   "source": []
  },
  {
   "cell_type": "code",
   "execution_count": null,
   "metadata": {},
   "outputs": [],
   "source": [
    "# opt_alpha = [0.0005,0.0005,0.0002,0.00001,0.0000001,0.000001,0.0000001,0.0000001,0.0000001];\n",
    "# Ds = np.arange(2, 8, 1)\n",
    "# Accuracy_KNN = [];\n",
    "# for i in range(len(Ds)):\n",
    "#     d = Ds[i]\n",
    "#     alpha = opt_alpha[i]\n",
    "#     alpha = 0.0002\n",
    "    \n",
    "    # CIR\n",
    "   \n",
    "    # V_CIR = CIR(fg,Y,bg,Yt,alpha,d);\n",
    "    # X_CIR = X @ V_CIR;\n",
    "\n",
    "    # Multiple classifiers, KNN is the most suitable one here\n",
    "    # T = 10\n",
    "    # for t in range(0, T):\n",
    "        # print('Training KNN')\n",
    "\n",
    "        # KNN\n",
    "        # mdl_CIR_KNN = KNeighborsClassifier()\n",
    "        # cross_val_results = cross_val_score(mdl_CIR_KNN, X_CIR, Y)\n",
    "        \n",
    "\n",
    "        # # Accuracy_KNN = [len(Ds) + 1][T+1]\n",
    "        # Accuracy_KNN = np.zeros((len(Ds)+1, 11))\n",
    "        # Accuracy_KNN[i, :] = Accuracy_CIR_KNN\n",
    "        \n",
    "        \n",
    "\n",
    "# Accuracy_KNN_mean = np.mean(Accuracy_KNN);\n",
    "# print(Accuracy_KNN_mean)"
   ]
  }
 ],
 "metadata": {
  "kernelspec": {
   "display_name": "base",
   "language": "python",
   "name": "python3"
  },
  "language_info": {
   "codemirror_mode": {
    "name": "ipython",
    "version": 3
   },
   "file_extension": ".py",
   "mimetype": "text/x-python",
   "name": "python",
   "nbconvert_exporter": "python",
   "pygments_lexer": "ipython3",
   "version": "3.10.9"
  }
 },
 "nbformat": 4,
 "nbformat_minor": 2
}
