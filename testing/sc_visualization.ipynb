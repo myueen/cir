{
 "cells": [
  {
   "cell_type": "code",
   "execution_count": null,
   "metadata": {},
   "outputs": [],
   "source": [
    "import numpy as np\n",
    "import pandas as pd\n",
    "import time\n",
    "from scipy.linalg import eigh\n",
    "import matplotlib.pyplot as plt\n",
    "\n",
    "import cir\n",
    "from cir import CIR\n",
    "from importlib import reload\n",
    "reload(cir)\n",
    "\n",
    "\n",
    "data = pd.read_csv('pbmc_1_counts.csv')\n",
    "data = data.iloc[:, 1:]\n",
    "data = data.transpose()\n",
    "\n",
    "cell_type = pd.read_csv('pbmc_1_cell_type.csv')\n",
    "cell_type = cell_type.iloc[:, 1].values\n",
    "\n",
    "# foreground data\n",
    "fg = data.dropna()\n",
    "\n",
    "p = 100     # p can vary from 100 to 500\n",
    "# select the top p highly variable genes\n",
    "col_var = np.var(fg, axis=0)\n",
    "col_var_sorted_idx = np.argsort(-col_var)\n",
    "fg = fg.iloc[:, col_var_sorted_idx[:p]]\n",
    "\n",
    "# foreground label: cell types \n",
    "Y = cell_type\n",
    "Y = pd.Categorical(Y)\n",
    "Y = Y.rename_categories({'B cell': '0', 'CD4 T cell': '1', 'CD8 T cell': '2', 'NK cell': '3',\n",
    "                         'Plasma cell': '4', 'cDC': '5', 'cMono': '6', 'ncMono': '7', 'pDC': '8'}) \n",
    "Y = Y.astype(float)\n",
    "labels = np.unique(Y)      # set of unique foreground labels\n",
    "L = len(labels)         # number of foreground classes/slices\n",
    "n = fg.shape[0] # foreground sample size\n",
    "X = fg - np.mean(fg, axis=0)\n",
    "X = X.values\n",
    "\n",
    "# background data\n",
    "bg = fg\n",
    "m, p = np.size(bg)  # background sample size \n",
    "\n"
   ]
  }
 ],
 "metadata": {
  "language_info": {
   "name": "python"
  }
 },
 "nbformat": 4,
 "nbformat_minor": 2
}
