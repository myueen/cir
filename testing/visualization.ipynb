{
 "cells": [
  {
   "cell_type": "code",
   "execution_count": 108,
   "metadata": {},
   "outputs": [
    {
     "name": "stdout",
     "output_type": "stream",
     "text": [
      "CIR......\n"
     ]
    },
    {
     "name": "stderr",
     "output_type": "stream",
     "text": [
      "/Users/lianama/anaconda3/lib/python3.10/site-packages/numpy/core/fromnumeric.py:3504: RuntimeWarning: Mean of empty slice.\n",
      "  return _methods._mean(a, axis=axis, dtype=dtype,\n",
      "/Users/lianama/anaconda3/lib/python3.10/site-packages/numpy/core/_methods.py:121: RuntimeWarning: invalid value encountered in divide\n",
      "  ret = um.true_divide(\n"
     ]
    }
   ],
   "source": [
    "import numpy as np\n",
    "import pandas as pd\n",
    "import time\n",
    "from scipy.linalg import eigh\n",
    "import matplotlib.pyplot as plt\n",
    "from sklearn.preprocessing import LabelEncoder\n",
    "\n",
    "import cir\n",
    "from cir import CIR\n",
    "from importlib import reload\n",
    "reload(cir)\n",
    "\n",
    "data = pd.read_csv('Data_Cortex_Nuclear.csv')\n",
    "\n",
    "# foreground data\n",
    "fg = data.dropna()\n",
    "\n",
    "# foreground label\n",
    "Y = fg['class']\n",
    "Y = pd.Categorical(Y);\n",
    "Y = Y.rename_categories({'c-CS-m': '0', 'c-CS-s': '1', 'c-SC-m': '2', 'c-SC-s': '3',\n",
    "                         't-CS-m': '4', 't-CS-s': '5', 't-SC-m': '6', 't-SC-s': '7'})\n",
    "Y = Y.astype(float)\n",
    "labels = np.unique(Y)      # set of unique foreground labels\n",
    "L = len(labels)         # number of foreground classes/slices\n",
    "fg = fg.iloc[:, 1:78]\n",
    "n = fg.shape[0] # foreground sample size\n",
    "X = fg - np.mean(fg, axis=0)\n",
    "X = X.values\n",
    "\n",
    "# background data\n",
    "bg = data[data['Genotype'] == 'Control'].copy()\n",
    "bg = bg.dropna()\n",
    "\n",
    "# background label \n",
    "Yt = bg['Behavior']\n",
    "Yt = pd.Categorical(Yt)\n",
    "Yt = Yt.rename_categories({'C/S': '0', 'S/C': '1'})\n",
    "\n",
    "Yt = Yt.astype(float)\n",
    "labelst = np.unique(Yt)   # set of unique background labels\n",
    "Lt = len(labelst)       # number of background classes/slices\n",
    "bg = bg.iloc[:, 1:78]\n",
    "m, p = bg.shape\n",
    "\n",
    "# tuning parameter alpha\n",
    "alpha = 0.0001;\n",
    "# reduce dimension from 77 to 2 for visualization\n",
    "d = 2;\n",
    "\n",
    "# CIR\n",
    "print(\"CIR......\")\n",
    "start_time = time.time()\n",
    "\n",
    "V_CIR = CIR(fg,Y,bg,Yt,alpha,d);\n",
    "X_CIR = X @ V_CIR;\n",
    "\n",
    "\n",
    "end_time = time.time()\n",
    "\n",
    "# colors credit to Color Brewer\n",
    "colors = [[228/255, 26/255, 28/255],\n",
    "          [55/255, 126/255, 184/255],\n",
    "          [77/255, 175/255, 74/255],\n",
    "          [152/255, 78/255, 163/255],\n",
    "          [255/255, 127/255, 0/255],\n",
    "          [255/255, 255/255, 51/255],\n",
    "          [166/255, 86/255, 40/255],\n",
    "          [247/255, 129/255, 191/255]]\n",
    "\n",
    "markers = ['o', '^', 's', 'p', 'o', '^', 's', 'p']\n",
    "\n",
    "# # plt.subplot(3, 3, 6)\n",
    "# plt.hold(True)\n",
    "for l in range(L):\n",
    "    idx = np.where(Y == labels[l])[0]\n",
    "    X_curr = X_CIR[idx, :]\n",
    "    plt.scatter(X_curr[:, 0], X_curr[:, 1], s=100, c=colors[l], marker=markers[l])\n",
    "# plt.hold(False)\n",
    "plt.title('CIR', fontsize=32)\n",
    "plt.xticks(fontsize=32)\n",
    "plt.yticks(fontsize=32)\n",
    "plt.show()"
   ]
  }
 ],
 "metadata": {
  "kernelspec": {
   "display_name": "base",
   "language": "python",
   "name": "python3"
  },
  "language_info": {
   "codemirror_mode": {
    "name": "ipython",
    "version": 3
   },
   "file_extension": ".py",
   "mimetype": "text/x-python",
   "name": "python",
   "nbconvert_exporter": "python",
   "pygments_lexer": "ipython3",
   "version": "3.10.9"
  }
 },
 "nbformat": 4,
 "nbformat_minor": 2
}
